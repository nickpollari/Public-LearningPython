{
 "cells": [
  {
   "cell_type": "markdown",
   "metadata": {},
   "source": [
    "# Time\n",
    "The <font color='blueviolet';>**time**</font> package can be looked at as a subset of the <font color='goldenrod';>**datetime**</font> package with one important exception; the <font color='blueviolet';>**time**</font> package has a very useful method called <font color='darkcyan';>**sleep**</font>. First execute the code in the cell below;"
   ]
  },
  {
   "cell_type": "code",
   "execution_count": null,
   "metadata": {},
   "outputs": [],
   "source": [
    "# provided code\n",
    "import time"
   ]
  },
  {
   "cell_type": "markdown",
   "metadata": {},
   "source": [
    "## I'm tired anyway\n",
    "What would we do if we needed our Python program to just chill for a bit, not do anything, and then pick up where it left off? We can do that using the <font color='darkcyan';>**sleep**</font> method from the <font color='blueviolet';>**time**</font> package. Imagine we had to write something to the database and we wanted to wait 10 seconds before trying to pull that value (otherwise it might not be there yet) because everything is executed asynchronously.\n",
    "```python\n",
    "write_to_db(\"Bob was late to class\")\n",
    "# now we know that we won't \n",
    "# have this in the db for 10 seconds\n",
    "DO_SOMETHING_FOR_10_SECONDS()\n",
    "# now get the value\n",
    "db_info = fetch_from_db(\"Bob\")\n",
    "```\n",
    "<br>\n",
    "How do we tell Python to just sit around and do nothing for 10 seconds? Use <font color='darkcyan';>**sleep**</font>.\n",
    "```python\n",
    "write_to_db(\"Bob was late to class\")\n",
    "# now we know that we won't \n",
    "# have this in the db for 10 seconds\n",
    "time.sleep(10)\n",
    "# now get the value\n",
    "db_info = fetch_from_db(\"Bob\")\n",
    "```\n",
    "<br>\n",
    "By using ```time.sleep(10)``` we tell Python to stay on that line of execution for 10 seconds. The <font color='darkcyan';>**sleep**</font> method takes an integer or float representing the number of seconds to sleep for. So if we put ```time.sleep(0.001)``` we would sleep for 1 millisecond."
   ]
  }
 ],
 "metadata": {
  "kernelspec": {
   "display_name": "Python 3",
   "language": "python",
   "name": "python3"
  },
  "language_info": {
   "codemirror_mode": {
    "name": "ipython",
    "version": 3
   },
   "file_extension": ".py",
   "mimetype": "text/x-python",
   "name": "python",
   "nbconvert_exporter": "python",
   "pygments_lexer": "ipython3",
   "version": "3.6.4"
  }
 },
 "nbformat": 4,
 "nbformat_minor": 2
}
