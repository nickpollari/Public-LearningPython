{
 "cells": [
  {
   "cell_type": "markdown",
   "metadata": {},
   "source": [
    "# Collections\n",
    "The <font color='goldenrod';>**collections**</font> package contains some very helpful and useful pieces of code in it. The package is predominately about different ways and objects of storing data with a focus on ease of use for the users. To begin we will import the <font color='goldenrod';>**collections**</font> package as we have done previously."
   ]
  },
  {
   "cell_type": "code",
   "execution_count": 1,
   "metadata": {},
   "outputs": [],
   "source": [
    "# provided code\n",
    "import collections"
   ]
  },
  {
   "cell_type": "markdown",
   "metadata": {},
   "source": [
    "## defaultdict\n",
    "Frequently you will run into instances where we might not know in advance what keys we will be putting into a dictionary but we do know that the value of every key in a dictionary is going to be of some specific type. For instance, we might have a dictionary which keeps track of the current posisition of a variety of securities in finance. We know that the value for this kind of dictionary is always going to be an integer but we don't know what securities we are working with in advance. We can create a <font color='blueviolet';>**defaultdict**</font> of type ```int``` for this kind of a situation.\n",
    "```python\n",
    "dd = collections.defaultdict(int)\n",
    "# buy 5 SPY\n",
    "dd['SPY'] += 5\n",
    "# sell 30 SPY\n",
    "dd['SPY'] -= 30\n",
    "```\n",
    "At the end of this code our ```dd['SPY']``` value will be ```-25``` because it starts at ```0```. Notice how we didn't have to first initial the dictionary and say ```dd['SPY'] = 0``` or ```dd['SPY'] = 5```. This also works for lists which is can be very useful.\n",
    "```python\n",
    "dd = collections.defaultdict(list)\n",
    "# append some fruits\n",
    "dd['fruits'].append('banana')\n",
    "dd['fruits'].append('avocado')\n",
    "# append some veggies\n",
    "dd['veggies'].append('celery')\n",
    "```\n",
    "<br>\n",
    "## deque\n",
    "The <font color='orangered';>**deque**</font> object is like a standard Queue but it lets you assign a ```max_len``` to it and also allows you to append items to the beginning or the end of it. Lets first start by instantiating two different versions of the <font color='orangered';>**deque**</font> object. Run the code in the cell below;"
   ]
  },
  {
   "cell_type": "code",
   "execution_count": 6,
   "metadata": {},
   "outputs": [],
   "source": [
    "# provided code\n",
    "d1 = collections.deque()\n",
    "d2 = collections.deque(maxlen=2)"
   ]
  },
  {
   "cell_type": "markdown",
   "metadata": {},
   "source": [
    "#### Exercise\n",
    "Using the created <font color='orangered';>**deque**</font> objects, iterate through the values from 1 to 4 (inclusive for both), and use the ```append``` method on the <font color='orangered';>**deque**</font> object to append each number to each object. At the end, print both ```d1``` and ```d2```."
   ]
  },
  {
   "cell_type": "code",
   "execution_count": 8,
   "metadata": {},
   "outputs": [],
   "source": [
    "# your code goes here\n"
   ]
  },
  {
   "cell_type": "markdown",
   "metadata": {},
   "source": [
    "Notice that the ```d2``` object only stored the last 2 values while ```d1``` stored all the values. We can also use the ```appendleft``` method on the <font color='orangered';>**deque**</font> object to store things in reverse order. This is very useful when combined with a ```.join()``` operation to show the latest items first. Execute the code below to see a simple implementation of a message log (as a <font color='orangered';>**deque**</font> object) which would display messages to a user."
   ]
  },
  {
   "cell_type": "code",
   "execution_count": 11,
   "metadata": {},
   "outputs": [],
   "source": [
    "# provided code\n",
    "import time\n",
    "import datetime as dt\n",
    "# make a deque object\n",
    "d3 = collections.deque(maxlen=10)\n",
    "# add messages to it\n",
    "for x in range(5):\n",
    "    now = dt.datetime.now().strftime(\"%Y-%m-%d %H:%M:%S\")\n",
    "    msg = \"%s - %s\" % (now, x)\n",
    "    d3.appendleft(msg)\n",
    "    time.sleep(3)\n",
    "\n",
    "# compile our messages and print them\n",
    "messages = \"\\n\".join(list(d3))\n",
    "print(messages)"
   ]
  }
 ],
 "metadata": {
  "kernelspec": {
   "display_name": "Python 3",
   "language": "python",
   "name": "python3"
  },
  "language_info": {
   "codemirror_mode": {
    "name": "ipython",
    "version": 3
   },
   "file_extension": ".py",
   "mimetype": "text/x-python",
   "name": "python",
   "nbconvert_exporter": "python",
   "pygments_lexer": "ipython3",
   "version": "3.6.4"
  }
 },
 "nbformat": 4,
 "nbformat_minor": 2
}
