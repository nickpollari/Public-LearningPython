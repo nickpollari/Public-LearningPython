{
 "cells": [
  {
   "cell_type": "markdown",
   "metadata": {},
   "source": [
    "# Numpy\n",
    "Numpy is the core library for most scientific computing in Python and allows users to perform matrix and vector operations in Python. It is the back-end for many of the popular packages used in Python including Pandas, Scipy, Sci-kit Learn, etc. A thorough Numpy tutorial is beyond the scope of the this work so please refer to the official Numpy website in the link below. In this work we will cover some of the basic operations in Numpy and basic structures along with one of the most important Numpy modules. Execute the code in the cell below to import the package. The standard convention in Python is to import the Numpy package with the alias ```np```. \n",
    "\n",
    "Link: https://docs.scipy.org/doc/numpy/user/quickstart.html"
   ]
  },
  {
   "cell_type": "code",
   "execution_count": 2,
   "metadata": {},
   "outputs": [],
   "source": [
    "# provided code\n",
    "import numpy as np"
   ]
  },
  {
   "cell_type": "markdown",
   "metadata": {},
   "source": [
    "## Array\n",
    "\n",
    "The most basic structure in Numpy is the Array which has the following structure;\n",
    "\n",
    "<br>\n",
    "<dt id=\"numpy.array\">\n",
    "<code class=\"descclassname\">numpy.</code><code class=\"descname\">array</code><span class=\"sig-paren\">(</span><em>object</em>, <em>dtype=None</em>, <em>copy=True</em>, <em>order='K'</em>, <em>subok=False</em>, <em>ndmin=0</em><span class=\"sig-paren\">)</span><a class=\"headerlink\" href=\"#numpy.array\" title=\"Permalink to this definition\">¶</a></dt>\n",
    "<br>\n",
    "The Array is very similar to a list but is specific to Numpy and is created like in the example below;\n",
    "```python\n",
    "ar = np.array([1,2,3,4])\n",
    "```\n",
    "One of the more important things to understand in Numpy is the dimension of the object you are working with.\n",
    "<br>\n",
    "#### Exercise\n",
    "Create an array out of the list ```[1,2,3]``` and call the attribute ```shape``` on it."
   ]
  },
  {
   "cell_type": "code",
   "execution_count": 8,
   "metadata": {},
   "outputs": [],
   "source": [
    "# your code goes here"
   ]
  },
  {
   "cell_type": "markdown",
   "metadata": {},
   "source": [
    "The shape you see is ```(3,)```. The shape of all Array and Matrix objects in Numpy are a Tuple. When we are working with an array, the first number refers to the length of the array. **When working with a Matrix, the first number in ```.shape``` refers to the number of rows while the second number refers to the number of columns.**\n",
    "\n",
    "<br>\n",
    "## Matrix\n",
    "The Numpy Matrix is actually the same thing as an Array, we just create it differently. Instead of creating a single dimensional array we create a multi-dimensional array. To create a ```(2,3)``` matrix simply follow the code below;\n",
    "```python\n",
    "data = [\n",
    "        [1,2,3], \n",
    "        [4,5,6]\n",
    "        ]\n",
    "np.array(data)\n",
    "```\n",
    "Note that the array is constructed of a List of Lists. The multi-line spacing is simply for readability and example, it is not proper syntax or best practices. \n",
    "\n",
    "<br>\n",
    "#### Exercise\n",
    "Create 2 Matrix objects;\n",
    "1. One with the shape ```(3,2)``` with integers ranging from 0 to 10 of your choosing. Name this variable ```m1```.\n",
    "2. One with the shape ```(2,2)``` with integers ranging from 50 to 60 of your choosing. Name this variable ```m2```."
   ]
  },
  {
   "cell_type": "code",
   "execution_count": 14,
   "metadata": {},
   "outputs": [],
   "source": [
    "# your code goes here"
   ]
  },
  {
   "cell_type": "markdown",
   "metadata": {},
   "source": [
    "## Transpose\n",
    "Given both of these Matrix objects, lets see how to Transpose a matrix. This can easily be done by calling the attribute ```.T``` on the matrix.\n",
    "```python\n",
    "# array([[1, 2],\n",
    "#       [3, 4],\n",
    "#       [8, 9]])\n",
    "m1 = np.array([[1, 2], [3, 4], [8, 9]])\n",
    "\n",
    "# array([[1, 3, 8],\n",
    "#       [2, 4, 9]])\n",
    "m1_t = m1.T\n",
    "```\n",
    "\n",
    "<br>\n",
    "## Dot Product\n",
    "To perform Matrix Multiplication we can use the ```.dot()``` method of the array.\n",
    "\n",
    "<br>\n",
    "#### Exercise\n",
    "Using ```m1``` and ```m2```, multiply the two matrices together and name the variable ```m3```."
   ]
  },
  {
   "cell_type": "code",
   "execution_count": 21,
   "metadata": {},
   "outputs": [],
   "source": [
    "# your code goes here"
   ]
  },
  {
   "cell_type": "markdown",
   "metadata": {},
   "source": [
    "## One's and Zero's\n",
    "\n",
    "Often times in various optimization and machine learning algorithms you will come across the need for a matrix of a particular size which is populated by either ```1``` for every entry or ```0``` for every entry. Numpy has a very easy method for creating a matrix of any size filled with either ```1``` or ```0```.\n",
    "\n",
    "<br>\n",
    "### Have to be Number 1\n",
    "In the code below we will create a ```(4,4)``` matrix of ```1```'s for every entry.\n",
    "```python\n",
    "one_matrix = np.ones(shape=(4,4))\n",
    "```\n",
    "<br>\n",
    "### Don't be a Zero\n",
    "In the code below we will create a ```(2,2)``` matrix of ```0```'s for every entry.\n",
    "```python\n",
    "zero_matrix = np.zeros(shape=(2,2))\n",
    "```\n",
    "\n",
    "<br>\n",
    "## Slicing\n",
    "Prior to this chapter we have only worked with one dimensional Lists and objects. Now that we have a Matrix which can have multiple rows and columns we need to review the proper way to access certain items through Slicing. Execute the code in the cell below which uses a Numpy module which we haven't reviewed yet but will shortly."
   ]
  },
  {
   "cell_type": "code",
   "execution_count": 43,
   "metadata": {},
   "outputs": [],
   "source": [
    "# provided code\n",
    "np.random.seed(3)\n",
    "# array([[24,  3, 56],\n",
    "#       [72,  0, 21],\n",
    "#       [19, 74, 41]])\n",
    "m0 = np.random.randint(100, size=(3,3))\n",
    "print(m0)"
   ]
  },
  {
   "cell_type": "markdown",
   "metadata": {},
   "source": [
    "When we reviewed Slicing before we discussed how to access an individual element and a range of elements, all by their respective index number. Now we are just going to add a little bit of complication to this by introducing the ability to access a row and a column.\n",
    "<br>\n",
    "<br>\n",
    "<br>\n",
    "<center><font size=\"6px\">**[row_index, col_index]**</font></center>\n",
    "<br>\n",
    "<br>\n",
    "So taking our ```m0``` matrix which was created above, if we wanted just the top array (```[24, 3, 56]```) we could do the following;\n",
    "```python\n",
    "top_vector_m0 = m0[0,:]\n",
    "# OR\n",
    "top_vector_m0 = m0[0:1,:]\n",
    "```\n",
    "<br>\n",
    "If we wanted the first column (```[24, 72, 19]```)...\n",
    "```python\n",
    "first_column_m0 = m0[:,0]\n",
    "# OR\n",
    "first_column_m0 = m0[:,0:1]\n",
    "```\n",
    "<br>\n",
    "If we wanted just the top square of the matrix (```[[24, 3], [72, 0]]```)...\n",
    "```python\n",
    "top_square = m0[0:2,0:2]\n",
    "# OR\n",
    "top_square = m0[:2,:2]\n",
    "```\n",
    "<br>\n",
    "We can also use negative numbers for slicing as we have done before....\n",
    "```python\n",
    "last_row = m0[-1,:]\n",
    "```\n",
    "\n",
    "<br>\n",
    "## Random\n",
    "One of the most important and useful modules in Numpy is the **random** module which allows users to create random numbers, sample distributions, make random choices among available options, amongest many many other things. We will review the following in this section;\n",
    "- random seed\n",
    "- random float between 0 and 1\n",
    "- random integer\n",
    "- random choice\n",
    "- random shuffle\n",
    "- random normal distribution\n",
    "\n",
    "<br>\n",
    "### Random Seeds?\n",
    "The random number generator built into Numpy and Python gives you the ability to set the ```seed``` which will \"freeze\" the random number generator so that others can get the same random values as you (reproducibility). This is done with the following piece of code;\n",
    "```python\n",
    "np.random.seed(3)\n",
    "```\n",
    "Instead of using ```3``` as the random ```seed``` you can use any integer in the range 0 to 4,294,967,295 (any un-signed 32 bit integer).\n",
    "<br>\n",
    "<br>\n",
    "<center><font size=\"6px\">**FOR ALL OF OUR RANDOM WORK WE WILL HAVE THE RANDOM SEED SET TO 3 GOING FORWARD. EXECUTE THE CODE IN THE CELL BELOW.**</font></center>\n",
    "<br>\n",
    "<br>\n",
    "You will need to put ```np.random.seed(3)``` in every cell which we are doing random operations to ensure we get the same results. To demonstrate what I mean, if you run the code in the cell below we will all get  ```array([8, 9, 3, 8, 8])```"
   ]
  },
  {
   "cell_type": "code",
   "execution_count": 61,
   "metadata": {},
   "outputs": [],
   "source": [
    "# provided code\n",
    "np.random.seed(3)\n",
    "np.random.randint(10, size=(5,))"
   ]
  },
  {
   "cell_type": "markdown",
   "metadata": {},
   "source": [
    "### Random Float\n",
    "To get a random vector of floats in the half-open interval (0.0, 1.0), inclusive of 0.0, we can use the ```np.random.random()``` which has only one optional keyword argument for size.\n",
    "<br>\n",
    "<br>\n",
    "**numpy.random.random(size=None)**\n",
    "<br>\n",
    "<br>\n",
    "#### Exercise\n",
    "Using ```3``` for your seed, create a ```(5,2)``` random float matrix in Numpy"
   ]
  },
  {
   "cell_type": "code",
   "execution_count": null,
   "metadata": {},
   "outputs": [],
   "source": [
    "# your code goes here"
   ]
  },
  {
   "cell_type": "markdown",
   "metadata": {},
   "source": [
    "### Random Integer\n",
    "To get a random vector of integers from low (inclusive) to high (exclusive), we can use the ```np.random.randint()``` which has the following arguments;\n",
    "<br>\n",
    "<br>\n",
    "**numpy.random.randint(low, high=None, size=None, dtype='l')**\n",
    "<br>\n",
    "<br>\n",
    "#### Exercise\n",
    "Using ```3``` for your seed, create a ```(3,3)``` random integer matrix in Numpy where the ```low``` value is ```5``` and the ```high``` value is ```10```."
   ]
  },
  {
   "cell_type": "code",
   "execution_count": null,
   "metadata": {},
   "outputs": [],
   "source": [
    "# your code goes here"
   ]
  },
  {
   "cell_type": "markdown",
   "metadata": {},
   "source": [
    "### Random Choice\n",
    "Some times we need to randomly choose a value from a set of options, kind of like picking a number out of a hat. We can do this **with replacement** so the same value can be drawn twice or **without replacement** so you cannot choose the same value twice. We can use the ```np.random.choice()``` which has the following arguments;\n",
    "<br>\n",
    "<br>\n",
    "**numpy.random.choice(a, size=None, replace=True, p=None)**\n",
    "<br>\n",
    "<br>\n",
    "Where ```a``` is the set of options to choose from, ```replace``` is to use a setting of **with replacement** or **without replacement**, ```size``` is the standard keyword argument we have used before, and ```p``` is actually an array of probabilities for each element to be chosen. If ```p``` is not provided then we assume a uniform distribution. If ```replace``` is ```False``` then the ```size``` parameter must be set to a value less than or equal to the current size of of ```a```. Execute the code below to see how this can be used;"
   ]
  },
  {
   "cell_type": "code",
   "execution_count": 62,
   "metadata": {},
   "outputs": [],
   "source": [
    "# provided code\n",
    "np.random.seed(3)\n",
    "names = ['Al', 'Zack', 'Karen', 'Parker', 'Emily']\n",
    "# randomly pick 10 names WITH replacement\n",
    "top10 = np.random.choice(names, size=(10,))\n",
    "# randomly pick 3 names WITHOUT replacement\n",
    "top3 = np.random.choice(names, replace=False, size=(3,))"
   ]
  },
  {
   "cell_type": "markdown",
   "metadata": {},
   "source": [
    "### Mix things up a bit\n",
    "Maybe you need to scramble a list or objects? We can do this with ```np.random.shuffle()``` as in the example below;\n",
    "```python\n",
    "np.random.seed(3)\n",
    "names = ['Al', 'Zack', 'Karen', 'Parker', 'Emily']\n",
    "# ['Parker', 'Emily', 'Zack', 'Al', 'Karen']\n",
    "np.random.shuffle(names)\n",
    "```\n",
    "\n",
    "<br>\n",
    "### Random Normal Distribution\n",
    "Frequently in finance and statistics fields you will come across the need for a gaussian distribution. This can easily be done in Numpy using ```np.random.normal()``` which has the following arguments;\n",
    "<br>\n",
    "<br>\n",
    "**numpy.random.normal(loc=0.0, scale=1.0, size=None)**\n",
    "<br>\n",
    "<br>\n",
    "Where ```loc``` represents the Mean of the distribution, ```scale``` represents the standard deviation of the distribution, and ```size``` is the standard argument.\n",
    "<br>\n",
    "#### Exercise\n",
    "Using a random seed of ```3``` create a 50 samples of a normal distribution which has a mean of ```0``` and a standard deviation of ```0.02```. This, in theory, would mimic a random 50 trading days for a random security with a daily standard deviation of 2%."
   ]
  },
  {
   "cell_type": "code",
   "execution_count": null,
   "metadata": {},
   "outputs": [],
   "source": [
    "# your code goes here"
   ]
  }
 ],
 "metadata": {
  "kernelspec": {
   "display_name": "Python 3",
   "language": "python",
   "name": "python3"
  },
  "language_info": {
   "codemirror_mode": {
    "name": "ipython",
    "version": 3
   },
   "file_extension": ".py",
   "mimetype": "text/x-python",
   "name": "python",
   "nbconvert_exporter": "python",
   "pygments_lexer": "ipython3",
   "version": "3.6.4"
  }
 },
 "nbformat": 4,
 "nbformat_minor": 2
}
