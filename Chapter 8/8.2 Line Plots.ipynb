{
 "cells": [
  {
   "cell_type": "markdown",
   "metadata": {},
   "source": [
    "# Line Plots\n",
    "We will start off by creating some very simple line plot charts using financial data. Execute the code below to load some stock data."
   ]
  },
  {
   "cell_type": "code",
   "execution_count": 11,
   "metadata": {},
   "outputs": [],
   "source": [
    "# provided code\n",
    "import matplotlib.pyplot as plt\n",
    "import pandas as pd\n",
    "import pandas_datareader.data as web\n",
    "import datetime as dt\n",
    "# start date\n",
    "start = dt.datetime(2016, 9, 1)\n",
    "# end date\n",
    "end = dt.datetime(2018, 9, 1)\n",
    "# fetch data\n",
    "ford_df = web.DataReader('F', 'iex', start, end)\n",
    "ford_df.index = pd.to_datetime(ford_df.index)\n",
    "print(\"Ford Df\")\n",
    "print(ford_df.head(), end=\"\\n\\n\\n\\n\")\n",
    "ge_df = web.DataReader('GE', 'iex', start, end)\n",
    "ge_df.index = pd.to_datetime(ge_df.index)\n",
    "print(\"GE Df\")\n",
    "print(ge_df.head(), end=\"\\n\\n\\n\\n\")"
   ]
  },
  {
   "cell_type": "markdown",
   "metadata": {},
   "source": [
    "## Creating our first plot\n",
    "Let us create our first plot, we will call on the method ```.subplots()``` to generate both a figure object and a subplot object. Execute the code below."
   ]
  },
  {
   "cell_type": "code",
   "execution_count": 10,
   "metadata": {},
   "outputs": [],
   "source": [
    "# provided code\n",
    "fig, ax = plt.subplots()"
   ]
  },
  {
   "cell_type": "markdown",
   "metadata": {},
   "source": [
    "Now lets plot the price of GE from our ```ge_df``` object we created earlier.\n",
    "```python\n",
    "ax.plot(ge_df.index, ge_df['close'].tolist())\n",
    "```\n",
    "Thats it. Thats everything you need to do.\n",
    "<br><br>\n",
    "#### Exercise\n",
    "Using the code above as an example, plot the timeseries of the ```close``` from the ```ford_df``` object we created earlier. "
   ]
  },
  {
   "cell_type": "code",
   "execution_count": 3,
   "metadata": {},
   "outputs": [],
   "source": [
    "# your code goes here"
   ]
  },
  {
   "cell_type": "markdown",
   "metadata": {},
   "source": [
    "Now how do we see out plot? We need to call ```plt.show()``` to see it. Go ahead and execute the code below;"
   ]
  },
  {
   "cell_type": "code",
   "execution_count": 4,
   "metadata": {},
   "outputs": [],
   "source": [
    "# provided code\n",
    "plt.show()"
   ]
  },
  {
   "cell_type": "markdown",
   "metadata": {},
   "source": [
    "What we have done now is taken the subplot object, which exists on the Figure, and added data to it. Then we asked <font color='orangered';>**matplotlib**</font> to show us the plot we have created.\n",
    "<br><br>\n",
    "## Creating our second plot\n",
    "Now we are going to plot both stocks on the same subplot figure. This time we will provide a label for our plotted data and display a legend and gridlines. Begin by creating a new figure and subplot by executing the code below;"
   ]
  },
  {
   "cell_type": "code",
   "execution_count": 8,
   "metadata": {},
   "outputs": [],
   "source": [
    "# provided code\n",
    "fig2, ax2 = plt.subplots()"
   ]
  },
  {
   "cell_type": "markdown",
   "metadata": {},
   "source": [
    "Now we will plot both time series;\n",
    "```python\n",
    "# add GE to the plot\n",
    "ax2.plot(ge_df.index, ge_df['close'].tolist(), label='GE')\n",
    "# add F to the plot\n",
    "ax2.plot(ford_df.index, ford_df['close'].tolist(), label='FORD')\n",
    "# add a legend\n",
    "ax2.legend(loc='best')\n",
    "# add gridlines\n",
    "ax2.grid()\n",
    "# display the plot\n",
    "plt.show()\n",
    "```\n",
    "Copy this code in the cell below and execute it."
   ]
  },
  {
   "cell_type": "code",
   "execution_count": 6,
   "metadata": {},
   "outputs": [],
   "source": [
    "# your code goes here"
   ]
  },
  {
   "cell_type": "markdown",
   "metadata": {},
   "source": [
    "Now lets add a title and some axis labels, as well as rotate the x axis ticks so that they are readable;"
   ]
  },
  {
   "cell_type": "code",
   "execution_count": 9,
   "metadata": {},
   "outputs": [],
   "source": [
    "# provided code\n",
    "ax2.set_title(\"Price Plots\")\n",
    "ax2.set_xlabel(\"Date\")\n",
    "ax2.set_ylabel(\"Price\")\n",
    "for tick in ax2.get_xmajorticklabels():\n",
    "    tick.set_rotation(45)\n",
    "    \n",
    "fig2"
   ]
  }
 ],
 "metadata": {
  "kernelspec": {
   "display_name": "Python 3",
   "language": "python",
   "name": "python3"
  },
  "language_info": {
   "codemirror_mode": {
    "name": "ipython",
    "version": 3
   },
   "file_extension": ".py",
   "mimetype": "text/x-python",
   "name": "python",
   "nbconvert_exporter": "python",
   "pygments_lexer": "ipython3",
   "version": "3.6.4"
  }
 },
 "nbformat": 4,
 "nbformat_minor": 2
}
