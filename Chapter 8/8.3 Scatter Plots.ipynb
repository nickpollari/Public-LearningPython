{
 "cells": [
  {
   "cell_type": "markdown",
   "metadata": {},
   "source": [
    "# Scatter Plots\n",
    "\n",
    "This exercise will examine the relationship between two variables using scatter plots provided through <font color='orangered';>**matplotlib**</font>. Begin by executing the code in the cell below to load some financial data."
   ]
  },
  {
   "cell_type": "code",
   "execution_count": 4,
   "metadata": {},
   "outputs": [],
   "source": [
    "# provided code\n",
    "import matplotlib.pyplot as plt\n",
    "import pandas as pd\n",
    "import pandas_datareader.data as web\n",
    "import datetime as dt\n",
    "# start date\n",
    "start = dt.datetime(2016, 9, 1)\n",
    "# end date\n",
    "end = dt.datetime(2018, 9, 1)\n",
    "# fetch data\n",
    "aapl_df = web.DataReader('AAPL', 'iex', start, end)\n",
    "aapl_df.index = pd.to_datetime(aapl_df.index)\n",
    "# print(\"AAPL Df\")\n",
    "# print(aapl_df.head(), end=\"\\n\\n\\n\\n\")\n",
    "spy_df = web.DataReader('SPY', 'iex', start, end)\n",
    "spy_df.index = pd.to_datetime(spy_df.index)\n",
    "# print(\"SPY Df\")\n",
    "# print(spy_df.head(), end=\"\\n\\n\\n\\n\")"
   ]
  },
  {
   "cell_type": "markdown",
   "metadata": {},
   "source": [
    "At this point we have loaded the returns of two securities and we will be examining the relationship between the S&P 500 (through SPY) and Apple (AAPL).\n",
    "<br><br>\n",
    "#### Exercise\n",
    "Begin by creating a figure and subplot object as we did before in the previous section"
   ]
  },
  {
   "cell_type": "code",
   "execution_count": null,
   "metadata": {},
   "outputs": [],
   "source": [
    "# your code goes here"
   ]
  },
  {
   "cell_type": "markdown",
   "metadata": {},
   "source": [
    "Now lets compute the daily returns for each of our securities we will be analyzing.\n",
    "<br><br>\n",
    "#### Exercise\n",
    "Select the ```'close'``` column from both DataFrame objects and call the pandas method ```.pct_change()``` on each to convert the Series into a time series of daily returns. The first value in each Series will be ```NaN``` because we don't have 2 values to compute a percentage change for. To remove those points from our analysis you will need to call the method ```.dropna()``` on the Series **AFTER** you have called the ```.pct_change()``` method."
   ]
  },
  {
   "cell_type": "code",
   "execution_count": null,
   "metadata": {},
   "outputs": [],
   "source": [
    "# your code goes here"
   ]
  },
  {
   "cell_type": "markdown",
   "metadata": {},
   "source": [
    "Now that we have daily returns for both securities we will start plotting. We will use the subplot method ```.scatter()``` to plot the SPY daily returns along the x-axis and the AAPL daily returns along the y-axis. When you call the ```.scatter()``` method you need to make sure you are passing in a list of just values for the X and Y points, you should not pass in the Pandas Series object. For example;\n",
    "```python\n",
    "# add the points to the scatter plot\n",
    "ax.scatter(spy_daily_returns, aapl_daily_returns)\n",
    "# add grid lines to the scatter plot\n",
    "ax.grid()\n",
    "```\n",
    "<br>\n",
    "#### Exercise\n",
    "Using the information provided and either the ```.values``` attribute or the ```.tolist()``` method for the Pandas Series, plot the scatter plot of values on the subplot object. "
   ]
  },
  {
   "cell_type": "code",
   "execution_count": null,
   "metadata": {},
   "outputs": [],
   "source": [
    "# your code goes here"
   ]
  },
  {
   "cell_type": "markdown",
   "metadata": {},
   "source": [
    "Now use ```plt.show()``` to view your image."
   ]
  },
  {
   "cell_type": "code",
   "execution_count": null,
   "metadata": {},
   "outputs": [],
   "source": [
    "# your code goes here"
   ]
  }
 ],
 "metadata": {
  "kernelspec": {
   "display_name": "Python 3",
   "language": "python",
   "name": "python3"
  },
  "language_info": {
   "codemirror_mode": {
    "name": "ipython",
    "version": 3
   },
   "file_extension": ".py",
   "mimetype": "text/x-python",
   "name": "python",
   "nbconvert_exporter": "python",
   "pygments_lexer": "ipython3",
   "version": "3.6.4"
  }
 },
 "nbformat": 4,
 "nbformat_minor": 2
}
