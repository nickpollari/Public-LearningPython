{
 "cells": [
  {
   "cell_type": "markdown",
   "metadata": {},
   "source": [
    "# Introduction to Matplotlib\n",
    "Link to <a href=\"https://matplotlib.org/tutorials/introductory/usage.html#sphx-glr-tutorials-introductory-usage-py\">Matplotlib Documentation</a><br><br>\n",
    "The standard plotting package for Python is called <font color='orangered';>**matplotlib**</font> and is what we will be using extensively to create plotting figures and objects. We have two main objects with <font color='orangered';>**matplotlib**</font>;\n",
    "1. Figure\n",
    "2. Subplot\n",
    "\n",
    "Below is an overview from the <font color='orangered';>**matplotlib**</font> website.\n",
    "<img src=\"https://matplotlib.org/_images/anatomy.png\">\n",
    "<br><br>\n",
    "## Figure\n",
    "The whole figure. The figure keeps track of all the child Axes, a smattering of 'special' artists (titles, figure legends, etc), and the canvas. (Don't worry too much about the canvas, it is crucial as it is the object that actually does the drawing to get you your plot, but as the user it is more-or-less invisible to you).\n",
    "<br><br>\n",
    "## Subplot (Axes object)\n",
    "This is what you think of as 'a plot', it is the region of the image with the data space. A given figure can contain many Axes, but a given Axes object can only be in one Figure. The Axes contains two (or three in the case of 3D) Axis objects (be aware of the difference between Axes and Axis) which take care of the data limits (the data limits can also be controlled via set via the set_xlim() and set_ylim() Axes methods). Each Axes has a title (set via set_title()), an x-label (set via set_xlabel()), and a y-label set via set_ylabel()).\n",
    "\n",
    "The Axes class and it's member functions are the primary entry point to working with the OO interface.\n",
    "<br><br>\n",
    "## Importing\n",
    "Execute the code below to import the <font color='orangered';>**matplotlib**</font> package"
   ]
  },
  {
   "cell_type": "code",
   "execution_count": null,
   "metadata": {},
   "outputs": [],
   "source": [
    "import matplotlib.pyplot as plt"
   ]
  }
 ],
 "metadata": {
  "kernelspec": {
   "display_name": "Python 3",
   "language": "python",
   "name": "python3"
  },
  "language_info": {
   "codemirror_mode": {
    "name": "ipython",
    "version": 3
   },
   "file_extension": ".py",
   "mimetype": "text/x-python",
   "name": "python",
   "nbconvert_exporter": "python",
   "pygments_lexer": "ipython3",
   "version": "3.6.4"
  }
 },
 "nbformat": 4,
 "nbformat_minor": 2
}
