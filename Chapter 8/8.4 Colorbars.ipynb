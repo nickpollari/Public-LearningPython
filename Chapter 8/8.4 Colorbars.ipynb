{
 "cells": [
  {
   "cell_type": "markdown",
   "metadata": {},
   "source": [
    "# Colorbars\n",
    "\n",
    "Often times in Data Science and Finance you will need to make a visualization which has more than 2 dimensions; sometimes we need 3, 4, or 5 dimensions. We are going to look at how we can add a 3rd dimension to our previous scatter plot using different colors to represent different dates. This will provide us with information about how the correlation between the securities changes over time."
   ]
  }
 ],
 "metadata": {
  "kernelspec": {
   "display_name": "Python 3",
   "language": "python",
   "name": "python3"
  },
  "language_info": {
   "codemirror_mode": {
    "name": "ipython",
    "version": 3
   },
   "file_extension": ".py",
   "mimetype": "text/x-python",
   "name": "python",
   "nbconvert_exporter": "python",
   "pygments_lexer": "ipython3",
   "version": "3.6.4"
  }
 },
 "nbformat": 4,
 "nbformat_minor": 2
}
