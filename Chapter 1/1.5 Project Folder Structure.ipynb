{
 "cells": [
  {
   "cell_type": "markdown",
   "metadata": {},
   "source": [
    "# Python Folder Structure\n",
    "Python has two main components to the folder structure; the <font color='hotpink';>**module**</font> and the <font color='goldenrod';>**package**</font>. \n",
    "<br><br>\n",
    "## Module\n",
    "The <font color='hotpink';>**module**</font> is a Python file (file extension type is ```.py```) which contains Python code that you may be interested in leveraging in your current work. The <font color='hotpink';>**module**</font> is typically in the same working directory as the project which you are working on. The <font color='hotpink';>**module**</font> is only available for the project which it resides in. Below is an image of a <font color='hotpink';>**module**</font> opened in the text editing software SublimeText;<br>\n",
    "<img src=\"./img/module.PNG\">\n",
    "<br><br>\n",
    "\n",
    "## Package\n",
    "The Python <font color='goldenrod';>**package**</font> is a folder of at least 1 <font color='hotpink';>**module**</font> which contains a bunch of functionality. The <font color='goldenrod';>**package**</font> needs to be installed, typically through a ```setup.py``` file. Packages are not stored in the working directory of a project and instead reside in a central repository on your machine with all other installed Python <font color='goldenrod';>**package**</font>s. The <font color='goldenrod';>**package**</font> is available across all of your Python projects.\n",
    "<br><br>\n",
    "## Folder Structure Example\n",
    "Refer to the whiteboard"
   ]
  }
 ],
 "metadata": {
  "kernelspec": {
   "display_name": "Python 3",
   "language": "python",
   "name": "python3"
  },
  "language_info": {
   "codemirror_mode": {
    "name": "ipython",
    "version": 3
   },
   "file_extension": ".py",
   "mimetype": "text/x-python",
   "name": "python",
   "nbconvert_exporter": "python",
   "pygments_lexer": "ipython3",
   "version": "3.6.4"
  }
 },
 "nbformat": 4,
 "nbformat_minor": 2
}
