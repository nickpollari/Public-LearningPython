{
 "cells": [
  {
   "cell_type": "markdown",
   "metadata": {},
   "source": [
    "# Importing Packages\n",
    "As mentioned before, the <font color='goldenrod';>**package**</font> is available across all of your Python projects. To bring a <font color='goldenrod';>**package**</font> into a file to be used we need to <font color='darkcyan';>**import**</font> the package. This is done using the ```import``` statement. In the example below we will <font color='darkcyan';>**import**</font> the ```time``` package which comes installed with Python.\n",
    "```python\n",
    "import time\n",
    "```\n",
    "By executing the code ```import time``` it makes all of the functionality of the ```time``` package available in this file. Typically this is the first thing done in any Python file or project and the <font color='darkcyan';>**import**</font> of packages happens at the top of a file.\n",
    "\n",
    "<br><br>\n",
    "## Importing with an alias\n",
    "We can also rename packages when we import them to make using them much easier. The reason is that for every time you want to use a piece of functionality from a <font color='goldenrod';>**package**</font> you have to prefix the code you need with the package name. For instance, lets pretend that the package ```testing_fau``` exists and we need to access some data from it stored in a variable called ```students```. We would have to do the following;\n",
    "```python\n",
    "import testing_fau\n",
    "\n",
    "print(testing_fau.students)\n",
    "```\n",
    "Now imagine if we needed to use ```testing_fau``` another 50 times in this project, it would be super annoying to have to put ```testing_fau``` 50 more times through the project. What we can do instead is <font color='darkcyan';>**import**</font> the package and give it a new name (this is the alias) to use. In the example below we will import the ```testing_fau``` package and rename it to ```tfau``` and then use it;\n",
    "```python\n",
    "import testing_fau as tfau\n",
    "\n",
    "print(tfau.students)\n",
    "```"
   ]
  }
 ],
 "metadata": {
  "kernelspec": {
   "display_name": "Python 3",
   "language": "python",
   "name": "python3"
  },
  "language_info": {
   "codemirror_mode": {
    "name": "ipython",
    "version": 3
   },
   "file_extension": ".py",
   "mimetype": "text/x-python",
   "name": "python",
   "nbconvert_exporter": "python",
   "pygments_lexer": "ipython3",
   "version": "3.6.4"
  }
 },
 "nbformat": 4,
 "nbformat_minor": 2
}
