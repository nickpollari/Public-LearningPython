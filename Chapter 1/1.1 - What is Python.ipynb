{
 "cells": [
  {
   "cell_type": "markdown",
   "metadata": {},
   "source": [
    "# What is Python?\n",
    "\n",
    "Python is an interpreted, object-oriented, high-level programming language with dynamic semantics. Its high-level built in data structures, combined with dynamic typing and dynamic binding, make it very attractive for Rapid Application Development, as well as for use as a scripting or glue language to connect existing components together. Python's simple, easy to learn syntax emphasizes readability and therefore reduces the cost of program maintenance. Python supports modules and packages, which encourages program modularity and code reuse. The Python interpreter and the extensive standard library are available in source or binary form without charge for all major platforms, and can be freely distributed.\n",
    "\n",
    "Often, programmers fall in love with Python because of the increased productivity it provides. Since there is no compilation step, the edit-test-debug cycle is incredibly fast. Debugging Python programs is easy: a bug or bad input will never cause a segmentation fault. Instead, when the interpreter discovers an error, it raises an exception. When the program doesn't catch the exception, the interpreter prints a stack trace. A source level debugger allows inspection of local and global variables, evaluation of arbitrary expressions, setting breakpoints, stepping through the code a line at a time, and so on. The debugger is written in Python itself, testifying to Python's introspective power. On the other hand, often the quickest way to debug a program is to add a few print statements to the source: the fast edit-test-debug cycle makes this simple approach very effective.\n",
    "<br><br>\n",
    "[source](https://www.python.org/doc/essays/blurb/)\n",
    "\n",
    "<br><br>\n",
    "## Why Python?\n",
    "1. Large open source community with many different packages available for use\n",
    "2. Free (Take that MatLab!)\n",
    "3. It reads like english!\n",
    "\n",
    "<br><br>\n",
    "## Python Popularity\n",
    "\n",
    "Python is rapidly becoming one of the [most popular programming languages](https://blog.github.com/2018-11-15-state-of-the-octoverse-top-programming-languages/) according to GitHub.\n",
    "\n",
    "<br>\n",
    "<img src=\"./img/python_popularity.png\">\n",
    "<br>\n",
    "\n",
    "<br><br>\n",
    "## Where exactly is Python used for?\n",
    "\n",
    "<br><br>\n",
    "### Corporations (Non-Financial)\n",
    "\n",
    "Large corporations are increasingly building and developing in-house \"data\" teams which are responsible for everything from forecasting product demand to analyzing datasets to develop higher quality sales leads to predicting and analyzing industry trends. Recently firms have also looked at how they can use data to enhance their actual product and give customers what they really want.\n",
    "\n",
    "In recent years the standard process for doing this kind of analysis involves fetching data from the corporate databases via SQL (or Python) and then performing the relevant data analysis in Python.\n",
    "\n",
    "<br><br>\n",
    "### Nerds & Hobbyists (Me)\n",
    "\n",
    "1. Want to build a website?\n",
    "2. Want to write a simple program which keeps your partner happy by scraping nice quotes off the internet and emailing/texting them as if it were from you?\n",
    "3. Need to \"borrow\" over 20GB of academic papers on Quantitative Finance from the internet without doing it manually?\n",
    "4. Need to develop sophisticated applications which play no-limit poker and win using reinforcement learning?   \n",
    "\n",
    "<br><br>\n",
    "### Corporations (Financial - Banks)\n",
    "\n",
    "Banks (including investment banks) are automating work processes, report generation and distribution, account reconciliation, and fraud detection using programming languages like Python. \n",
    "\n",
    "<br><br>\n",
    "### Corporations (Financial - Non-Banks, Me)\n",
    "\n",
    "Asset managers, Hedge Funds, and RIA's are increasingly using Python in their workflow for many of the same reasons as Banks. The key difference here is that in many instances the data analysis is related to security return/price prediction, risk management, and portfolio construction. This also involves developing backtesting and strategy creation platforms.\n"
   ]
  }
 ],
 "metadata": {
  "kernelspec": {
   "display_name": "Python 3",
   "language": "python",
   "name": "python3"
  },
  "language_info": {
   "codemirror_mode": {
    "name": "ipython",
    "version": 3
   },
   "file_extension": ".py",
   "mimetype": "text/x-python",
   "name": "python",
   "nbconvert_exporter": "python",
   "pygments_lexer": "ipython3",
   "version": "3.6.4"
  }
 },
 "nbformat": 4,
 "nbformat_minor": 2
}
