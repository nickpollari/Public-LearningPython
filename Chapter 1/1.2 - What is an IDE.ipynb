{
 "cells": [
  {
   "cell_type": "markdown",
   "metadata": {},
   "source": [
    "# What is an IDE?\n",
    "\n",
    "An integrated development environment (IDE) is a software application that provides comprehensive facilities to computer programmers for software development. An IDE normally consists of a source code editor, build automation tools, and a debugger. Most modern IDEs have intelligent code completion. Some IDEs, such as NetBeans and Eclipse, contain a compiler, interpreter, or both; others, such as SharpDevelop and Lazarus, do not. The boundary between an integrated development environment and other parts of the broader software development environment is not well-defined. Sometimes a version control system, or various tools to simplify the construction of a graphical user interface (GUI), are integrated. Many modern IDEs also have a class browser, an object browser, and a class hierarchy diagram, for use in object-oriented software development.\n",
    "<br>\n",
    "[source](https://en.wikipedia.org/wiki/Integrated_development_environment)\n",
    "\n",
    "<br><br>\n",
    "## Common Functionality for an IDE\n",
    "1. The ability to organize a software project and its components in a file explorer type of widget\n",
    "2. The ability to open numerous project files and work on them simultaneously\n",
    "3. The ability to set a break-point in your code to evaluate the state while running\n",
    "4. The ability to execute code (obviously this is important)\n",
    "\n",
    "<br><br>\n",
    "## Common IDE's for Python\n",
    "**PyCharm** - One of the most popular environments for Python. Has excellent syntax highlighting, intellisense (autocomplete). [Link](https://www.jetbrains.com/pycharm/) to the homepage for PyCharm.\n",
    "\n",
    "<br>\n",
    "<img src=\"./img/pycharm.jpg\">\n",
    "<br>\n",
    "\n",
    "**Spyder** - Another very popular environment for Python. Spyder is the default IDE installed with an Anaconda implementation of Python. We will get into Anaconda more later on, but this is the preferred Python install package for nearly all users. [Link](https://www.spyder-ide.org/) to the homepage for Spyder.\n",
    "\n",
    "<br>\n",
    "<img src=\"./img/spyder.png\">\n",
    "<br>\n",
    "\n",
    "**Jupyter Lab / Notebook** - So technically speaking Jupyter environments (thats actually what you are reading this through) are not a real IDE. Given the flexibility of the Jupyter Notebook though and their ability to support numerous open-source third-party extensions they can be considered a light-weight IDE. \n",
    "\n",
    "<br>\n",
    "<img src=\"./img/jlab.png\">\n",
    "<br>\n",
    "\n",
    "## The Workflow of a Nerd (Me)\n",
    "\n",
    "<br>\n",
    "<img src=\"./img/myworkflow.png\">\n",
    "<br>"
   ]
  }
 ],
 "metadata": {
  "kernelspec": {
   "display_name": "Python 3",
   "language": "python",
   "name": "python3"
  },
  "language_info": {
   "codemirror_mode": {
    "name": "ipython",
    "version": 3
   },
   "file_extension": ".py",
   "mimetype": "text/x-python",
   "name": "python",
   "nbconvert_exporter": "python",
   "pygments_lexer": "ipython3",
   "version": "3.6.4"
  }
 },
 "nbformat": 4,
 "nbformat_minor": 2
}
