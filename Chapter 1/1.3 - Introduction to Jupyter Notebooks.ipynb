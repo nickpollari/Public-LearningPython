{
 "cells": [
  {
   "cell_type": "markdown",
   "metadata": {},
   "source": [
    "# Introduction to Jupyter Notebooks\n",
    "\n",
    "## What Is A Jupyter Notebook?\n",
    "In this case, \"notebook\" or \"notebook documents\" denote documents that contain both code and rich text elements, such as figures, links, equations, ... Because of the mix of code and text elements, these documents are the ideal place to bring together an analysis description, and its results, as well as, they can be executed perform the data analysis in real time.\n",
    "\n",
    "The Jupyter Notebook App produces these documents.\n",
    "\n",
    "For now, you should know that \"Jupyter\" is a loose acronym meaning Julia, Python, and R. These programming languages were the first target languages of the Jupyter application, but nowadays, the notebook technology also supports many other languages. \n",
    "\n",
    "As you just saw, the main components of the whole environment are, on the one hand, the notebooks themselves and the application. On the other hand, you also have a notebook kernel and a notebook dashboard.\n",
    "<a href=\"https://www.datacamp.com/community/tutorials/tutorial-jupyter-notebook\">Source</a>\n",
    "\n",
    "## What Is The Jupyter Notebook App?\n",
    "As a server-client application, the Jupyter Notebook App allows you to edit and run your notebooks via a web browser. The application can be executed on a PC without Internet access, or it can be installed on a remote server, where you can access it through the Internet.\n",
    "\n",
    "Its two main components are the kernels and a dashboard.\n",
    "\n",
    "A kernel is a program that runs and introspects the user’s code. The Jupyter Notebook App has a kernel for Python code, but there are also kernels available for other programming languages.\n",
    "\n",
    "The dashboard of the application not only shows you the notebook documents that you have made and can reopen but can also be used to manage the kernels: you can which ones are running and shut them down if necessary.\n",
    "<a href=\"https://www.datacamp.com/community/tutorials/tutorial-jupyter-notebook\">Source</a>\n",
    "\n",
    "<br><br>\n",
    "## The Kernel\n",
    "You can see the Kernel you are running in the top right corner of your Notebook. When that circle is filled in, it means that the Kernel is executing your code. When it is empty (like in this image) the Kernel is waiting to work.<br>\n",
    "<img src=\"./img/j_kernel.PNG\">\n",
    "\n",
    "## The Toolbar\n",
    "Run your mouse over all the buttons at the top and hover to see the tooltip\n",
    "\n",
    "<br><br>\n",
    "## Input / Output Cells\n",
    "Cells form the body of any Notebook file. We will cover 3 different types of cells;\n",
    "1. Code Cell - This is a cell where code is written and executed\n",
    "2. Markdown Cell - This is acell where we can type, free form, things likes notes (this is actually a Markdown cell). The Markdown syntax is applied to these cells\n",
    "3. Output Cell - When you execute your code, the output has to go somewhere. It is displayed in an output cell which is directly below the Code cell which was executing\n",
    "\n",
    "<br><br>\n",
    "## Simple Keyboard Shortcuts\n",
    "A very good list of keyboard shortcuts <a href=\"https://www.dataquest.io/blog/jupyter-notebook-tips-tricks-shortcuts/\">can be found here</a>. You can also click HELP on the top toolbar and click on keyboard shortcuts.\n",
    "- CTRL + Enter: Run the current cell\n",
    "- ESC + Up / Down: move the cursor to the corresponding cell. Push Enter to go back into the selected cell\n",
    "- CTRL + /: Comment out code"
   ]
  }
 ],
 "metadata": {
  "kernelspec": {
   "display_name": "Python 3",
   "language": "python",
   "name": "python3"
  },
  "language_info": {
   "codemirror_mode": {
    "name": "ipython",
    "version": 3
   },
   "file_extension": ".py",
   "mimetype": "text/x-python",
   "name": "python",
   "nbconvert_exporter": "python",
   "pygments_lexer": "ipython3",
   "version": "3.6.4"
  }
 },
 "nbformat": 4,
 "nbformat_minor": 2
}
