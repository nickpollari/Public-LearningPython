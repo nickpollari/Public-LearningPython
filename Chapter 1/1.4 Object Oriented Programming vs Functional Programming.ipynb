{
 "cells": [
  {
   "cell_type": "markdown",
   "metadata": {},
   "source": [
    "# Object Oriented Programming vs Functional Programming\n",
    "<br><br>\n",
    "A good overview <a href=\"https://medium.com/@sho.miyata.1/the-object-oriented-programming-vs-functional-programming-debate-in-a-beginner-friendly-nutshell-24fb6f8625cc\">can be found here</a>\n",
    "<br><br>\n",
    "## Object Oriented Programming (OOP)\n",
    "According to Wikipedia, OOP “is a programming paradigm based on the concept of “objects”, which may contain data, in the form of fields, often known as attributes; and code, in the form of procedures, often known as methods. A feature of objects is that an object’s procedures can access and often modify the data fields of the object with which they are associated (objects have a notion of “this” or “self”)”, which essentially means, altering the ‘state’ of the object.\n",
    "\n",
    "Furthermore, in most OOP languages, objects are instances of a class, and are seen as individual entities which interact with each other.\n",
    "<br><br>\n",
    "## Functional Programming\n",
    "Put very simply, functional programming is a language that focuses on the computation of pure functions. The keyword there is ‘pure’ — everything revolves around keeping everything ‘pure’. What exactly do we mean by pure?\n",
    "\n",
    "There is a complete separation between the data of a program, and the behaviors of a program\n",
    "- All objects created in functional programming are immutable (once something is created, it can’t be changed)\n",
    "- Shared state is avoided (objects do not share scope with other objects)\n",
    "- Adherence to pure functions (explained below)\n",
    "\n",
    "A pure function is a function where:\n",
    "The return value only depends on the input (if you input the same value, you will always return the same value)\n",
    "There are no side effects (for example: no network or database calls which could affect the return value)\n",
    "They do not alter the data that was passed into them. We only want to describe how the input will be changed (think destructive vs non-destructive)"
   ]
  }
 ],
 "metadata": {
  "kernelspec": {
   "display_name": "Python 3",
   "language": "python",
   "name": "python3"
  },
  "language_info": {
   "codemirror_mode": {
    "name": "ipython",
    "version": 3
   },
   "file_extension": ".py",
   "mimetype": "text/x-python",
   "name": "python",
   "nbconvert_exporter": "python",
   "pygments_lexer": "ipython3",
   "version": "3.6.4"
  }
 },
 "nbformat": 4,
 "nbformat_minor": 2
}
