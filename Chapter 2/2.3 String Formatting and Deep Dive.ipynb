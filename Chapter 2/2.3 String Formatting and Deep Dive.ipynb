{
 "cells": [
  {
   "cell_type": "markdown",
   "metadata": {},
   "source": [
    "# String Formatting and Deep Dive\n",
    "\n",
    "Now you should have a basic understanding of what a <font color='lime'>**string**</font> is. In most programming situations your strings need to be dynamic and flexible based on what is going on in the code. Additionally, you may need to change the formatting of a given string. We will first begin by going over some of the simple methods that a <font color='lime'>**string**</font> has which will allow you to modify the underlying text in various ways.\n",
    "\n",
    "<br>\n",
    "### Exercise\n",
    "Begin by creating a variable called <font color='darkorange'>**test_var**</font> and set it equal to a string which contains both your first and last name, like below.\n",
    "```python\n",
    "test_var = \"Nicholas Pollari\"\n",
    "```"
   ]
  },
  {
   "cell_type": "code",
   "execution_count": null,
   "metadata": {},
   "outputs": [],
   "source": [
    "# your code goes here"
   ]
  },
  {
   "cell_type": "markdown",
   "metadata": {},
   "source": [
    "## Changing Capitalization\n",
    "All <font color='lime'>**string**</font> variables have the following methods; **upper()**, **lower()**, **title()**. \n",
    "<br><br>\n",
    "### upper()\n",
    "As the name would imply, this method will make all the text capitalized\n",
    "<br><br>\n",
    "#### Exercise\n",
    "Call the upper() method of our <font color='darkorange'>**test_var**</font> object.\n",
    "```python\n",
    "test_var.upper()\n",
    "```"
   ]
  },
  {
   "cell_type": "code",
   "execution_count": null,
   "metadata": {},
   "outputs": [],
   "source": [
    "# your code goes here"
   ]
  },
  {
   "cell_type": "markdown",
   "metadata": {},
   "source": [
    "### lower()\n",
    "As the name would imply, this method will make all the text lower capitalized\n",
    "<br><br>\n",
    "#### Exercise\n",
    "Call the lower() method of our <font color='darkorange'>**test_var**</font> object.\n",
    "```python\n",
    "test_var.lower()\n",
    "```"
   ]
  },
  {
   "cell_type": "code",
   "execution_count": null,
   "metadata": {},
   "outputs": [],
   "source": [
    "# your code goes here"
   ]
  },
  {
   "cell_type": "markdown",
   "metadata": {},
   "source": [
    "### title()\n",
    "This will capitalize the first letter of each word\n",
    "<br><br>\n",
    "#### Exercise\n",
    "Call the title() method of our <font color='darkorange'>**test_var**</font> object.\n",
    "```python\n",
    "test_var.title()\n",
    "```"
   ]
  },
  {
   "cell_type": "code",
   "execution_count": null,
   "metadata": {},
   "outputs": [],
   "source": [
    "# your code goes here"
   ]
  },
  {
   "cell_type": "markdown",
   "metadata": {},
   "source": [
    "## Formatting and Replacing Text\n",
    "<br><br>\n",
    "### Formatting\n",
    "On occassion you may find yourself in a position where you need to format a  <font color='lime'>**string**</font> or replace some text within the <font color='lime'>**string**</font>. We will begin by taking a look at ways you can create a dynamic string first. A plethora of methods are available for accomplishing this same thing so I will only review the method which I think is the clearest and easiest to understand.\n",
    "<br><br>\n",
    "#### Exercise\n",
    "Create the following variable\n",
    "```python\n",
    "format_str = \"{first_name} {last_name}\"\n",
    "```"
   ]
  },
  {
   "cell_type": "code",
   "execution_count": null,
   "metadata": {},
   "outputs": [],
   "source": [
    "# your code goes here"
   ]
  },
  {
   "cell_type": "markdown",
   "metadata": {},
   "source": [
    "What we have actually done here is created a string which can replace the ```{first_name}``` and ```{last_name}``` parts of our string with a value of our choosing. Now we are going to replace the two dynamic <font color='lime'>**string**</font> variables in our <font color='orange'>**format_str**</font> variable using the **format()** method.\n",
    "```python\n",
    "format_str.format(first_name = \"Nick\", last_name = \"Pollari\")\n",
    "```\n",
    "#### Exercise\n",
    "Using the code above as an example. Format your variable with your name in the same manner."
   ]
  },
  {
   "cell_type": "code",
   "execution_count": null,
   "metadata": {},
   "outputs": [],
   "source": [
    "# your code goes here"
   ]
  },
  {
   "cell_type": "markdown",
   "metadata": {},
   "source": [
    "We are going to take a quick detour now to discuss the difference between modifying a Python object \"in-place\" vs needing \"assignment\". When you executed the line of code above, ```format_str.format(first_name = \"Nick\", last_name = \"Pollari\")```, we didn't actually modify the <font color='orange'>**format_str**</font> object. We only displayed an alternate view of that variable. In order to actually modify the <font color='orange'>**format_str**</font> variable we will need to re-assign it the modified version of itself. Please use the code below as an example and perform the same action;\n",
    "```python\n",
    "format_str = format_str.format(first_name = \"Nick\", last_name = \"Pollari\")\n",
    "```\n",
    "This has now made our <font color='orange'>**format_str**</font> object into a string which contains our first and last name. \n",
    "<br><br>\n",
    "### Replacing\n",
    "Well what if we all belong to the same family? We are all part of the FAU family here after all. How can we make Python search a string for us and replace some text with some other text? We will make use of the **replace** method of our <font color='orange'>**format_str**</font> object like so;\n",
    "```python\n",
    "format_str.replace(\"Pollari\", \"FAU\")\n",
    "```\n",
    "#### Exercise\n",
    "Using the code above, replace your last name in the <font color='orange'>**format_str**</font> variable with FAU"
   ]
  },
  {
   "cell_type": "code",
   "execution_count": null,
   "metadata": {},
   "outputs": [],
   "source": [
    "# your code goes here"
   ]
  },
  {
   "cell_type": "markdown",
   "metadata": {},
   "source": [
    "We can also replace text with an empty string to essentially delete that piece of text, which is done like so;\n",
    "```python\n",
    "format_str.replace(\"Pollari\", \"\")\n",
    "```\n",
    "or\n",
    "```python\n",
    "format_str.replace('Pollari', '')\n",
    "```\n",
    "## Combining Strings\n",
    "Python also supports string concatenation using the **+** operator. Take a look at the code below. What would you expect the output to be?\n",
    "```python\n",
    "var1 = \"Hello\"\n",
    "var2 = \"World\"\n",
    "var3 = var1 + var2\n",
    "```"
   ]
  }
 ],
 "metadata": {
  "kernelspec": {
   "display_name": "Python 3",
   "language": "python",
   "name": "python3"
  },
  "language_info": {
   "codemirror_mode": {
    "name": "ipython",
    "version": 3
   },
   "file_extension": ".py",
   "mimetype": "text/x-python",
   "name": "python",
   "nbconvert_exporter": "python",
   "pygments_lexer": "ipython3",
   "version": "3.6.4"
  }
 },
 "nbformat": 4,
 "nbformat_minor": 2
}
