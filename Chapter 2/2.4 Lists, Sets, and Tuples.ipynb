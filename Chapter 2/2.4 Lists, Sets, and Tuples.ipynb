{
 "cells": [
  {
   "cell_type": "markdown",
   "metadata": {},
   "source": [
    "# Lists, Sets, and Tuples\n",
    "\n",
    "We will continue by reviewing 3 common Python objects which you will most certainly encounter while working in this programming language; **List**, **Set**, **Tuple**.\n",
    "\n",
    "Let us begin by reviewing the **List** object.\n",
    "## List\n",
    "A list is an object which contains references to other objects, or a list of data, or strings, or... etc.\n",
    "\n",
    "### List Characteristics\n",
    "- A List can have N number of objects in it\n",
    "- A List is Mutable (You can add and remove things from it, change things in it, etc)\n",
    "- A List maintains the order of the items put into it\n",
    "\n",
    "```python\n",
    "some_list = [\"a\", \"b\", 1, 5]\n",
    "```\n",
    "In the example code above we creted a list using the closed brackets **[ ]** which contains two strings and two integers. The **List** can also contain other objects/variables like so;\n",
    "```python\n",
    "some_list = [some_var1, some_var2, \"a\"]\n",
    "```\n",
    "A list is not restricted in what type of data it can contain.\n",
    "#### Exercise\n",
    "Try creating a list of some strings and integers"
   ]
  },
  {
   "cell_type": "code",
   "execution_count": null,
   "metadata": {},
   "outputs": [],
   "source": [
    "# your code goes here"
   ]
  },
  {
   "cell_type": "markdown",
   "metadata": {},
   "source": [
    "You can also create a list by using the built in function **list()** like so;\n",
    "```python\n",
    "some_list = list((1,2,3))\n",
    "```\n",
    "Note the double **(( ))**. What happens if you make a **List** from a single string? There is a right way and a wrong way to do this.\n",
    "```python\n",
    "wrong_way = list(\"a string\")\n",
    "right_way = [\"a string\"]\n",
    "```\n",
    "#### Exercise\n",
    "Try creating both of those variables above and print them out in the code cell below."
   ]
  },
  {
   "cell_type": "code",
   "execution_count": null,
   "metadata": {},
   "outputs": [],
   "source": [
    "# your code goes here"
   ]
  },
  {
   "cell_type": "markdown",
   "metadata": {},
   "source": [
    "We will now look at how we can access data which is within a list. This will also serve as your first introduction to Python Indexing. In Python, Indexing is 0 based. Assume we have the following list;\n",
    "```python\n",
    "test_list = [\"Mike\", \"Nick\", \"Joe\", \"Allie\"]\n",
    "```\n",
    "If we wanted to access the name **Mike** in our test_list then we would perform the following action;\n",
    "```python\n",
    "mikes_name = test_list[0]\n",
    "print(mikes_name)\n",
    "```\n",
    "When we provide positive integers to any indexing, we are counting from left to right in the **List**. So if we were to do ```test_list[1]``` we would get **Nick**. We can also go from right to left by providing NEGATIVE integers. If we wanted the LAST item in our test_list we could do any of the following;\n",
    "```python\n",
    "allie1 = test_list[3]\n",
    "allie2 = test_list[-1]\n",
    "```\n",
    "#### Exercise\n",
    "Create a list which contains the first 5 letters of the alphabet as in the code below. Then access the last letter and first letter and print them.\n",
    "```python\n",
    "letter_list = ['a', 'b', 'c', 'd', 'e']\n",
    "```"
   ]
  },
  {
   "cell_type": "code",
   "execution_count": null,
   "metadata": {},
   "outputs": [],
   "source": [
    "# your code goes here"
   ]
  },
  {
   "cell_type": "markdown",
   "metadata": {},
   "source": [
    "We can also change elements in a list using assignment (the same way we create varibales) combined with the indexing that we just reviewed. For instance, if we wanted to changed the last letter in our list to be **'z'** then we could do it like so;\n",
    "```python\n",
    "letter_list[-1] = 'z'\n",
    "```\n",
    "#### Exercise\n",
    "Change the 2nd letter (index 1) to the number **50** in our letter_list variable."
   ]
  },
  {
   "cell_type": "code",
   "execution_count": null,
   "metadata": {},
   "outputs": [],
   "source": [
    "# your code goes here"
   ]
  }
 ],
 "metadata": {
  "kernelspec": {
   "display_name": "Python 3",
   "language": "python",
   "name": "python3"
  },
  "language_info": {
   "codemirror_mode": {
    "name": "ipython",
    "version": 3
   },
   "file_extension": ".py",
   "mimetype": "text/x-python",
   "name": "python",
   "nbconvert_exporter": "python",
   "pygments_lexer": "ipython3",
   "version": "3.6.4"
  }
 },
 "nbformat": 4,
 "nbformat_minor": 2
}
