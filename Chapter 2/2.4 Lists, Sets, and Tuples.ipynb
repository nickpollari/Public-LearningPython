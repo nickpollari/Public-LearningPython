{
 "cells": [
  {
   "cell_type": "markdown",
   "metadata": {},
   "source": [
    "# Lists, Sets, and Tuples\n",
    "\n",
    "We will continue by reviewing 3 common Python objects which you will most certainly encounter while working in this programming language; **List**, **Set**, **Tuple**. **PLEASE NOTE THE USE OF A COMMA TO SEPARATE EACH OBJECT INSIDE OF THE LIST / SET / TUPLE.**\n",
    "\n",
    "Let us begin by reviewing the **List** object.\n",
    "## List\n",
    "A list is an object which contains references to other objects, or a list of data, or strings, or... etc.\n",
    "\n",
    "### List Characteristics\n",
    "- A List can have N number of objects in it\n",
    "- A List is Mutable (You can add and remove things from it, change things in it, etc)\n",
    "- A List maintains the order of the items put into it\n",
    "\n",
    "```python\n",
    "some_list = [\"a\", \"b\", 1, 5]\n",
    "```\n",
    "In the example code above we creted a list using the closed brackets **[ ]** which contains two strings and two integers. The **List** can also contain other objects/variables like so;\n",
    "```python\n",
    "some_list = [some_var1, some_var2, \"a\"]\n",
    "```\n",
    "A list is not restricted in what type of data it can contain.\n",
    "#### Exercise\n",
    "Try creating a list of some strings and integers"
   ]
  },
  {
   "cell_type": "code",
   "execution_count": null,
   "metadata": {
    "collapsed": true
   },
   "outputs": [],
   "source": [
    "# your code goes here"
   ]
  },
  {
   "cell_type": "markdown",
   "metadata": {},
   "source": [
    "You can also create a list by using the built in function **list()** like so;\n",
    "```python\n",
    "some_list = list((1,2,3))\n",
    "```\n",
    "Note the double **(( ))**. What happens if you make a **List** from a single string? There is a right way and a wrong way to do this.\n",
    "```python\n",
    "wrong_way = list(\"a string\")\n",
    "right_way = [\"a string\"]\n",
    "```\n",
    "#### Exercise\n",
    "Try creating both of those variables above and print them out in the code cell below."
   ]
  },
  {
   "cell_type": "code",
   "execution_count": null,
   "metadata": {
    "collapsed": true
   },
   "outputs": [],
   "source": [
    "# your code goes here"
   ]
  },
  {
   "cell_type": "markdown",
   "metadata": {},
   "source": [
    "We will now look at how we can access data which is within a list. This will also serve as your first introduction to Python Indexing. In Python, Indexing is 0 based. Assume we have the following list;\n",
    "```python\n",
    "test_list = [\"Mike\", \"Nick\", \"Joe\", \"Allie\"]\n",
    "```\n",
    "If we wanted to access the name **Mike** in our test_list then we would perform the following action;\n",
    "```python\n",
    "mikes_name = test_list[0]\n",
    "print(mikes_name)\n",
    "```\n",
    "When we provide positive integers to any indexing, we are counting from left to right in the **List**. So if we were to do ```test_list[1]``` we would get **Nick**. We can also go from right to left by providing NEGATIVE integers. If we wanted the LAST item in our test_list we could do any of the following;\n",
    "```python\n",
    "allie1 = test_list[3]\n",
    "allie2 = test_list[-1]\n",
    "```\n",
    "#### Exercise\n",
    "Create a list which contains the first 5 letters of the alphabet as in the code below. Then access the last letter and first letter and print them.\n",
    "```python\n",
    "letter_list = ['a', 'b', 'c', 'd', 'e']\n",
    "```"
   ]
  },
  {
   "cell_type": "code",
   "execution_count": null,
   "metadata": {
    "collapsed": true
   },
   "outputs": [],
   "source": [
    "# your code goes here"
   ]
  },
  {
   "cell_type": "markdown",
   "metadata": {},
   "source": [
    "We can also change elements in a list using assignment (the same way we create varibales) combined with the indexing that we just reviewed. For instance, if we wanted to changed the last letter in our list to be **'z'** then we could do it like so;\n",
    "```python\n",
    "letter_list[-1] = 'z'\n",
    "```\n",
    "#### Exercise\n",
    "Change the 2nd letter (index 1) to the number **50** in our letter_list variable."
   ]
  },
  {
   "cell_type": "code",
   "execution_count": null,
   "metadata": {
    "collapsed": true
   },
   "outputs": [],
   "source": [
    "# your code goes here"
   ]
  },
  {
   "cell_type": "markdown",
   "metadata": {},
   "source": [
    "## List Deep Dive\n",
    "The List object has a number of methods which you will likely find useful when working in Python.\n",
    "- <b>append:</b> add the object to the end of the List\n",
    "- <b>remove:</b> remove the object from the List\n",
    "- <b>index:</b> return the index number for the object in the List\n",
    "- <b>sort:</b> sort the List\n",
    "\n",
    "### append()\n",
    "Sometimes you might find it convenient to extend your List by adding another object to it. This can be accomplished through the <b>append</b> method.\n",
    "```python\n",
    "my_list = ['red', 'blue']\n",
    "# add the string 'green' to the list\n",
    "my_list.append('green')\n",
    "```\n",
    "You can append objects as well;\n",
    "```python\n",
    "var1 = 'green'\n",
    "my_list = ['red', 'blue']\n",
    "# add the string 'green' to the list\n",
    "my_list.append(var1)\n",
    "```\n",
    "#### Exercise\n",
    "Create a list which contains your first name in it. Then append an object which is set to the value of your last name."
   ]
  },
  {
   "cell_type": "code",
   "execution_count": null,
   "metadata": {
    "collapsed": true
   },
   "outputs": [],
   "source": [
    "# your code goes here"
   ]
  },
  {
   "cell_type": "markdown",
   "metadata": {},
   "source": [
    "### remove()\n",
    "You need to be able to remove items from a list also, which is where the <b>remove</b> method comes into play. The method will search the list for the object which is provided and delete it from the List. The <b>remove</b> operation is an in-place operation.\n",
    "```python\n",
    "my_list = ['r','g','b']\n",
    "my_list.remove('r')\n",
    "```\n",
    "#### Exercise\n",
    "Create a list of your choice and remove one item from it."
   ]
  },
  {
   "cell_type": "code",
   "execution_count": null,
   "metadata": {
    "collapsed": true
   },
   "outputs": [],
   "source": [
    "# your code goes here"
   ]
  },
  {
   "cell_type": "markdown",
   "metadata": {},
   "source": [
    "### index()\n",
    "The <b>index</b> method is what we use to find where in a List, based on its index, an object is located.\n",
    "```python\n",
    "my_list = ['Mike', 'Ray', 'Sally']\n",
    "# at what index is 'Ray'?\n",
    "idx_ray = my_list.index('Ray')\n",
    "# this would set the value of idx_ray object to 1\n",
    "```\n",
    "#### Exercise\n",
    "Using the list you created which has your first a last name,  locate the location of your first name"
   ]
  },
  {
   "cell_type": "code",
   "execution_count": 1,
   "metadata": {
    "collapsed": true
   },
   "outputs": [],
   "source": [
    "# your code goes here"
   ]
  },
  {
   "cell_type": "markdown",
   "metadata": {},
   "source": [
    "### Sort()\n",
    "Self explanatory. Just be aware that this is an in-line method.\n",
    "```python\n",
    "my_list = [5, 3, 7, 3]\n",
    "my_list.sort()\n",
    "# my_list = [3, 3, 5, 7]\n",
    "```"
   ]
  },
  {
   "cell_type": "markdown",
   "metadata": {},
   "source": [
    "### Combining 2 Lists\n",
    "If you ever need to combine your two lists you can do so like this;\n",
    "```python\n",
    "l1 = ['a', 'b']\n",
    "l2 = ['c', 'd']\n",
    "# l3 = ['a', 'b', 'c', 'd']\n",
    "l3 = l1 + l2\n",
    "```\n",
    "## Tuple\n",
    "A <b>Tuple</b> is just like a <b>List</b> conceptually. It is an object that stores and orders other objects. The key difference between the two is that a <b>Tuple</b> is <b>immutable</b>. You cannot change the contents of a <b>Tuple</b> object.\n",
    "\n",
    "```python\n",
    "# this is a tuple\n",
    "tuple1 = (1,)\n",
    "# this is also a tuple\n",
    "tuple2 = tuple([1])\n",
    "# this is also a tuple\n",
    "tuple3 = ('a', some_var, 1)\n",
    "```\n",
    "Once the <b>Tuple</b> object is created though, we can't replace items inside of it.\n",
    "<font color='lime'; size='5px';><b>This Works for a List</font></b>\n",
    "```python\n",
    "list1 = [1, 2, 3]\n",
    "list1[0] = 'a'\n",
    "```\n",
    "Once the <b>Tuple</b> object is created though, we can't replace items inside of it.\n",
    "<font color='red'; size='5px';><b>This Doesn't Work for a Tuple</font></b>\n",
    "```python\n",
    "tuple1 = (1, 2, 3)\n",
    "tuple1[0] = 'a'\n",
    "```\n",
    "\n",
    "## Set\n",
    "A <b>Set</b> is similar to both a <b>List</b> and a <b>Tuple</b> in that it is another Python object which exists as a container for other Python objects. The <b>Set</b> object has one unique ability which sets it apart from the other two objects though, a <b>Set</b> only contains unique values and no duplicates. Execute the code below to see."
   ]
  },
  {
   "cell_type": "code",
   "execution_count": 1,
   "metadata": {},
   "outputs": [],
   "source": [
    "# provided code\n",
    "list1 = ['a', 'b', 'a']\n",
    "print(\"This is list1: %s\" % str(list1))\n",
    "set1 = set(list1)\n",
    "print(\"This is set1: %s\" % str(set1))"
   ]
  },
  {
   "cell_type": "markdown",
   "metadata": {},
   "source": [
    "As you can see from the code above, the <b>Set</b> object only stores the unique values of a dataset.\n",
    "\n",
    "## Slicing\n",
    "All of the objects we have reviewed support <b>Slicing</b> which is a way to obtain a subset of the data from the original container object. Remember that Python is 0 index based.\n",
    "```python\n",
    "some_list = ['a', 'b', 'c']\n",
    "              0    1    2\n",
    "```\n",
    "\n",
    "A slice is performed like so;\n",
    "```python\n",
    "some_list[0:1]\n",
    "```\n",
    "Which says to return a <b>List</b> from the original variable <font color='darkorange';><b>some_list</font></b> which resembles the following; ```['a']```. The colon essentially serves as a seperator between the index start point to the index end point. Its also important to know that including the ```0``` is not a requirement and that slicing also supports negative indexed numbers like ```-1``` which would be equal to ```'c'```. All of the following code below results in the same <b>List</b>.\n",
    "```python\n",
    "some_list[0:1]\n",
    "some_list[:1]\n",
    "some_list[0:-2]\n",
    "some_list[-3:-2]\n",
    "```\n",
    "\n",
    "We can create new objects and variables from subsets of a <b>List</b> or any of the other objects we have reviewed.\n",
    "\n",
    "```python\n",
    "list1 = ['a', 'b', 'c']\n",
    "list2 = list1[:-1]\n",
    "```\n",
    "\n",
    "<br>\n",
    "## Joining Lists\n",
    "Some times in Python we might have a list of strings that we would like to concatenate using some joining string. We can do this with the ```.join(some_list)``` method. Look at some of the examples below and run the code in the cell."
   ]
  },
  {
   "cell_type": "code",
   "execution_count": 1,
   "metadata": {},
   "outputs": [
    {
     "name": "stdout",
     "output_type": "stream",
     "text": [
      "I need a red bull\n",
      "I !@! need !@! a !@! red bull\n",
      "I,need,a,red bull\n",
      "Ineedared bull\n"
     ]
    }
   ],
   "source": [
    "# provided code\n",
    "\n",
    "string_list = ['I', 'need', 'a', 'red bull']\n",
    "\n",
    "test1 = \" \".join(string_list)\n",
    "print(test1)\n",
    "test2 = \" !@! \".join(string_list)\n",
    "print(test2)\n",
    "test3 = \",\".join(string_list)\n",
    "print(test3)\n",
    "test4 = \"\".join(string_list)\n",
    "print(test4)"
   ]
  }
 ],
 "metadata": {
  "kernelspec": {
   "display_name": "Python 3",
   "language": "python",
   "name": "python3"
  },
  "language_info": {
   "codemirror_mode": {
    "name": "ipython",
    "version": 3
   },
   "file_extension": ".py",
   "mimetype": "text/x-python",
   "name": "python",
   "nbconvert_exporter": "python",
   "pygments_lexer": "ipython3",
   "version": "3.6.4"
  }
 },
 "nbformat": 4,
 "nbformat_minor": 2
}
