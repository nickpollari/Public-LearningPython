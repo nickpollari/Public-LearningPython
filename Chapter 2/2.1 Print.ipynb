{
 "cells": [
  {
   "cell_type": "markdown",
   "metadata": {},
   "source": [
    "# Print\n",
    "\n",
    "Python has a significant number of built in functions. One of the most commonly used functions is the **print** function. Note that prior to Python3 the **print** function was not actually a function.\n",
    "\n",
    "<br><br>\n",
    "## Python 2.x Print\n",
    "```python\n",
    "print \"Hello World\"\n",
    "```\n",
    "<br><br>\n",
    "## Python 3.x Print\n",
    "```python\n",
    "print(\"Hello World\")\n",
    "```\n",
    "\n",
    "<br><br>\n",
    "## Exercise\n",
    "In the code cell below, print out your name"
   ]
  },
  {
   "cell_type": "code",
   "execution_count": null,
   "metadata": {},
   "outputs": [],
   "source": [
    "# your code goes here"
   ]
  },
  {
   "cell_type": "markdown",
   "metadata": {},
   "source": [
    "## Print as a function\n",
    "The print function maintains the following syntax and arguments; <br><br>\n",
    "```python\n",
    "print(value, ..., sep=' ', end='\\n', file=sys.stdout, flush=False)\n",
    "```\n",
    "\n",
    "Prints the values to a stream, or to sys.stdout by default.<br><br>\n",
    "**Optional keyword arguments:**<br>\n",
    "- *file:*  a file-like object (stream); defaults to the current sys.stdout.<br>\n",
    "- *sep:*   string inserted between values, default a space.<br>\n",
    "- *end:*   string appended after the last value, default a newline.<br>\n",
    "- *flush:* whether to forcibly flush the stream.\n",
    "\n",
    "<br><br>\n",
    "Let us try print multiple values at the same time using a comma to separate the two different items. Try printing your first and last name like so;\n",
    "```python\n",
    "print(\"Nicholas\", \"Pollari\")\n",
    "```"
   ]
  },
  {
   "cell_type": "code",
   "execution_count": 3,
   "metadata": {},
   "outputs": [],
   "source": [
    "# your code goes here"
   ]
  },
  {
   "cell_type": "markdown",
   "metadata": {},
   "source": [
    "You will notice that your name is printed side-by-side (or \"inline\" as we would say). What if we wanted to put them on separate lines? We have two options to do this;<br>\n",
    "1. Write 2 print statements on different lines\n",
    "```python\n",
    "print(\"Nicholas\")\n",
    "print(\"Pollari\")\n",
    "```\n",
    "2. Use the new-line character in our print statement\n",
    "```python\n",
    "print(\"Nicholas\",\"\\n\",\"Pollari\")\n",
    "```\n",
    "Generally speaking you won't need to modify the keyword arguments for **print** but one that I find myself editing frequently is the <style color=\"lime\">**end**</style> keyword argument. The <style color=\"lime\">**end**</style> keyword argument is the character that is appended to the end of the string which is provided to the **print** function. So when we type and execute the following line;\n",
    "```python\n",
    "print(\"Something something something\")\n",
    "```\n",
    "what Python has done in without you noticing is actually moved on to the next line. What if you needed to write on the same line? Then we would change the <style color=\"lime\">**end**</style> keyword argument to either be nothing or with a carraige return. Try typing and running the code provided below.\n",
    "\n",
    "<br><br>\n",
    "#### End is nothing\n",
    "```python\n",
    "print(\"end is nothing\", end='')\n",
    "print(\"see how close I am to the string before?\")\n",
    "```\n"
   ]
  },
  {
   "cell_type": "code",
   "execution_count": 5,
   "metadata": {},
   "outputs": [],
   "source": [
    "# your code goes here"
   ]
  },
  {
   "cell_type": "markdown",
   "metadata": {},
   "source": [
    "#### End is carraige return\n",
    "```python\n",
    "print(\"end is carraige\", end=\"\\r\")\n",
    "print(\"oops\")\n",
    "```"
   ]
  },
  {
   "cell_type": "code",
   "execution_count": 7,
   "metadata": {},
   "outputs": [],
   "source": [
    "# your code goes here"
   ]
  },
  {
   "cell_type": "markdown",
   "metadata": {},
   "source": [
    "Notice how the \"oops\" from the second print statement wrote over some of the first string? The carraige return sets the invsible cursor where text goes back to the beginning of the same line. To further illustrate my point, type and then the code that is provided to you in the section below. Don't worry about understanding the code, this is just to illustrate a point using the **print** statement.\n",
    "```python\n",
    "for i in range(5):\n",
    "    print(i)\n",
    "```"
   ]
  },
  {
   "cell_type": "code",
   "execution_count": null,
   "metadata": {},
   "outputs": [],
   "source": [
    "# your code goes here"
   ]
  },
  {
   "cell_type": "markdown",
   "metadata": {},
   "source": [
    "```python\n",
    "for i in range(5):\n",
    "    print(i, end='\\r')\n",
    "```"
   ]
  },
  {
   "cell_type": "code",
   "execution_count": null,
   "metadata": {},
   "outputs": [],
   "source": [
    "# your code goes here"
   ]
  }
 ],
 "metadata": {
  "kernelspec": {
   "display_name": "Python 3",
   "language": "python",
   "name": "python3"
  },
  "language_info": {
   "codemirror_mode": {
    "name": "ipython",
    "version": 3
   },
   "file_extension": ".py",
   "mimetype": "text/x-python",
   "name": "python",
   "nbconvert_exporter": "python",
   "pygments_lexer": "ipython3",
   "version": "3.6.4"
  }
 },
 "nbformat": 4,
 "nbformat_minor": 2
}
