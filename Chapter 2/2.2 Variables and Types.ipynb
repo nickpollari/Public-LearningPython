{
 "cells": [
  {
   "cell_type": "markdown",
   "metadata": {},
   "source": [
    "# Variables and Types\n",
    "We will begin by reviewing a few of the common \"types\" of data that you will come across in Python. Python has many many many more datatypes but we will begin by reviewing just the few essential ones.\n",
    "\n",
    "<br><br>\n",
    "## Strings\n",
    "```python\n",
    "\"this is a string\"\n",
    "'this is also a string'\n",
    "```\n",
    "Any text that is surrounded by a single quote or a double quote is considered a <font color='lime'>**string**</font> type by Python. We can also create multi-line strings in Python by starting (end ending) the text with three double quotes or single quotes like so;\n",
    "```python\n",
    "\"\"\"this is\n",
    "a multi-line\n",
    "obnoxious\n",
    "string\"\"\"\n",
    "\n",
    "'''\n",
    "and so is\n",
    "this\n",
    "text\n",
    "'''\n",
    "```\n",
    "\n",
    "<br><br>\n",
    "## Integers (Int)\n",
    "In order to do any analysis a programming language obviously needs to support numbers as well. Any number without a decimal point is of type <font color='blueviolet'>**integer**</font>.\n",
    "<br>\n",
    "#### An Integer\n",
    "```python\n",
    "1\n",
    "```\n",
    "#### NOT an Integer\n",
    "```python\n",
    "1.1\n",
    "```\n",
    "\n",
    "<br><br>\n",
    "## Float\n",
    "A <font color='crimson'>**float**</font> is any number which has a decimal point.\n",
    "#### A Float\n",
    "```python\n",
    "1.1\n",
    "```\n",
    "#### NOT a Float\n",
    "```python\n",
    "1\n",
    "```\n",
    "<br><br>\n",
    "## Variables\n",
    "A variable is a Python object which stores some reference to some piece of information. In the following code the variable <font color='darkorange'>**test_var**</font> stores the <font color='lime'>**string**</font> of \"Hello World\".\n",
    "```python\n",
    "test_var = \"Hello World\"\n",
    "```\n",
    "The variable is created by using the = sign to denote that we are setting/binding whatever is on the right side of = to the variable on the left side.\n",
    "<br><br>\n",
    "### Exercise\n",
    "First create a variable which holds the string of your first name. Then use the built in **print** function to print your variable, which should result in you printing your name."
   ]
  },
  {
   "cell_type": "code",
   "execution_count": null,
   "metadata": {},
   "outputs": [],
   "source": [
    "# your code goes here"
   ]
  },
  {
   "cell_type": "markdown",
   "metadata": {},
   "source": [
    "### Exercise\n",
    "Now create two variables, one for your first name and one for your last name. Then print these variables side by side."
   ]
  },
  {
   "cell_type": "code",
   "execution_count": null,
   "metadata": {},
   "outputs": [],
   "source": [
    "# your code goes here"
   ]
  },
  {
   "cell_type": "markdown",
   "metadata": {},
   "source": [
    "So lets say we have a variable in a piece of code and we aren't sure when that variable was binded with the information. We have no idea if we are working with a <font color='lime'>**string**</font>, <font color='blueviolet'>**integer**</font>, or <font color='crimson'>**float**</font>. How do we find out? Python has another built in function called <font color='royalblue'>**type**</font>. We would use the <font color='royalblue'>**type**</font> function like so;\n",
    "```python\n",
    "type(some_unknown_var)\n",
    "```\n",
    "### Exercise\n",
    "Create a variable and assign a <font color='lime'>**string**</font> to it. Then **print** out the type of the variable."
   ]
  },
  {
   "cell_type": "code",
   "execution_count": null,
   "metadata": {},
   "outputs": [],
   "source": [
    "# your code goes here"
   ]
  }
 ],
 "metadata": {
  "kernelspec": {
   "display_name": "Python 3",
   "language": "python",
   "name": "python3"
  },
  "language_info": {
   "codemirror_mode": {
    "name": "ipython",
    "version": 3
   },
   "file_extension": ".py",
   "mimetype": "text/x-python",
   "name": "python",
   "nbconvert_exporter": "python",
   "pygments_lexer": "ipython3",
   "version": "3.6.4"
  }
 },
 "nbformat": 4,
 "nbformat_minor": 2
}
