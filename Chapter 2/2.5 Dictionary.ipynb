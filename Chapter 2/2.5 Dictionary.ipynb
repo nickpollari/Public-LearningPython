{
 "cells": [
  {
   "cell_type": "markdown",
   "metadata": {},
   "source": [
    "# Dictionary\n",
    "\n",
    "The **Dictionary** objects serves as essentially a mapping table between a **Key** and a **Value**. For those more familiar with Computer Science, the **Dictionary** nothing more than a Hash Table. \n",
    "\n",
    "```python\n",
    "{ 'a' : 1 }\n",
    "```\n",
    "In the example of a **Dictionary** above the **Key** ```'a'``` is mapped to the value ```1```.  Any Python object can be used as the **Key** or **Value**. \n",
    "```python\n",
    "# using a tuple as a key\n",
    "key1 = (1, 2, 3)\n",
    "val1 = 'a'\n",
    "test_dict = { key1 : val1 }\n",
    "```\n",
    "#### Exercise\n",
    "Create a **Dictionary** object where the key is a string of your choice but the value is a **List** of your choice."
   ]
  },
  {
   "cell_type": "code",
   "execution_count": null,
   "metadata": {
    "collapsed": true
   },
   "outputs": [],
   "source": [
    "# your code goes here"
   ]
  },
  {
   "cell_type": "markdown",
   "metadata": {},
   "source": [
    "## Accessing data in a Dictionary\n",
    "Assume we have the following **Dictionary** object created;\n",
    "```python\n",
    "dict1 = { 'a' : 1,\n",
    "          'b' : 2,\n",
    "          'c' : ['blah', 'blah']\n",
    "         }\n",
    "```\n",
    "In order to access the **Value** for a given **Key** we need to make use of the **[ ]** characters. This is the same way we did **Slicing** for In the example below we are going to set the variable **testvar** equal to the **Value** which is stored in the **Key** ```'c'```, which means that **testvar** will contain a list as its value.\n",
    "```python\n",
    "testvar = dict1['c']\n",
    "```\n",
    "When we use a piece of code like \n",
    "```python\n",
    "dict1['c']\n",
    "```\n",
    "we are either obtaining the **Value** stored in ```'c'``` or we are setting a new **Value** to the **Key** ```'c'```.\n",
    "\n",
    "## Adding New Key/Value\n",
    "Let us begin by creating an empty **Dictionary** and then we will look at adding a new **Key** matched with a corresponding **Value**.\n",
    "```python\n",
    "new_dict = dict()\n",
    "```\n",
    "<font color='crimson'; size='5px';><b>OR</b></font>\n",
    "```python\n",
    "new_dict = {}\n",
    "```\n",
    "Now if we wanted to add a **Key** and **Value** to our **new_dict** object we would perform the following;\n",
    "```python\n",
    "new_dict['new_key'] = 'abc123'\n",
    "```\n",
    "This will add the key ```'new_key'``` to our dictionary with the assigned value of ```'abc123'```.\n",
    "\n",
    "## Removing a Key/Value\n",
    "The **Dictionary** object supports removal of a **Key** / **Value** pair through the <font color='green';>**pop**</font> method.\n",
    "```python\n",
    "new_dict.pop('new_key')\n",
    "```\n",
    "The <font color='green';>**pop**</font> method supports an optional argument for a value to return if the requested **Key** is not found. If the **Key** is found, the removed **Value** is returned from the <font color='green';>**pop**</font> method.\n",
    "```python\n",
    "default_val = None\n",
    "# removed_value is either the value stored in new_key or default_val\n",
    "removed_value = new_dict.pop('new_key', default_val)\n",
    "```"
   ]
  },
  {
   "cell_type": "markdown",
   "metadata": {},
   "source": [
    "## Dictionary Deep Dive\n",
    "### Dictionary Key / Value Structure\n",
    "The **Dictionary** only supports 1 **Value** for each key. Assume we have the following;\n",
    "```python\n",
    "test_dict = {'abc' : 1}\n",
    "```\n",
    "If we wanted to try and store another value for the **Key** ```'abc'``` we would overwrite the value of ```1``` in the dictionary. Begin by executing the provided code below;"
   ]
  },
  {
   "cell_type": "code",
   "execution_count": 2,
   "metadata": {},
   "outputs": [],
   "source": [
    "# provided code\n",
    "test_dict = {'abc' : 1}\n",
    "print(test_dict)"
   ]
  },
  {
   "cell_type": "markdown",
   "metadata": {},
   "source": [
    "#### Exercise\n",
    "Now assign a new value for the key ```'abc'``` in the dictionary ```test_dict``` like how we added ```'new_key'``` to ```new_dict``` before. Print the result of ```test_dict```."
   ]
  },
  {
   "cell_type": "code",
   "execution_count": null,
   "metadata": {},
   "outputs": [],
   "source": [
    "# your code goes here"
   ]
  },
  {
   "cell_type": "markdown",
   "metadata": {},
   "source": [
    "### Dictionary contents\n",
    "\n",
    "The **Dictionary** has a method called <font color='hotpink';>**items**</font> which when called will convert your **Dictionary** of keys and values into a **List** of **Tuples**. Each tuple will contain the **Key** as well as the **Value** that you stored in the dictionary.\n",
    "```python\n",
    "dict1 = {'a' : 1,\n",
    "         'b' : ['x', 'y'],\n",
    "         'c' : 4}\n",
    "# [('a', 1), ('b', ['x', 'y']), ('c',4)]\n",
    "dict1_items = dict1.items()\n",
    "```"
   ]
  }
 ],
 "metadata": {
  "kernelspec": {
   "display_name": "Python 3",
   "language": "python",
   "name": "python3"
  },
  "language_info": {
   "codemirror_mode": {
    "name": "ipython",
    "version": 3
   },
   "file_extension": ".py",
   "mimetype": "text/x-python",
   "name": "python",
   "nbconvert_exporter": "python",
   "pygments_lexer": "ipython3",
   "version": "3.6.4"
  }
 },
 "nbformat": 4,
 "nbformat_minor": 2
}
