{
 "cells": [
  {
   "cell_type": "markdown",
   "metadata": {},
   "source": [
    "# Dictionary\n",
    "\n",
    "The **Dictionary** objects serves as essentially a mapping table between a **Key** and a **Value**. For those more familiar with Computer Science, the **Dictionary** nothing more than a Hash Table. \n",
    "\n",
    "```python\n",
    "{ 'a' : 1 }\n",
    "```\n",
    "In the example of a **Dictionary** above the **Key** ```'a'``` is mapped to the value ```1```.  Any Python object can be used as the **Key** or **Value**. \n",
    "```python\n",
    "# using a tuple as a key\n",
    "key1 = (1, 2, 3)\n",
    "val1 = 'a'\n",
    "test_dict = { key1 : val1 }\n",
    "```\n",
    "#### Exercise\n",
    "Create a **Dictionary** object where the key is a string of your choice but the value is a **List** of your choice."
   ]
  },
  {
   "cell_type": "code",
   "execution_count": null,
   "metadata": {
    "collapsed": true
   },
   "outputs": [],
   "source": [
    "# your code goes here"
   ]
  },
  {
   "cell_type": "markdown",
   "metadata": {},
   "source": [
    "## "
   ]
  },
  {
   "cell_type": "markdown",
   "metadata": {},
   "source": [
    "## Accessing data in a Dictionary\n",
    "Assume we have the following **Dictionary** object created;\n",
    "```python\n",
    "dict1 = { 'a' : 1,\n",
    "          'b' : 2,\n",
    "          'c' : ['blah', 'blah']\n",
    "         }\n",
    "```\n",
    "In order to access the **Value** for a given **Key** "
   ]
  }
 ],
 "metadata": {
  "kernelspec": {
   "display_name": "Python 3",
   "language": "python",
   "name": "python3"
  },
  "language_info": {
   "codemirror_mode": {
    "name": "ipython",
    "version": 3
   },
   "file_extension": ".py",
   "mimetype": "text/x-python",
   "name": "python",
   "nbconvert_exporter": "python",
   "pygments_lexer": "ipython3",
   "version": "3.6.3"
  }
 },
 "nbformat": 4,
 "nbformat_minor": 2
}
