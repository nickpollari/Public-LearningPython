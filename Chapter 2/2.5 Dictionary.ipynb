{
 "cells": [
  {
   "cell_type": "markdown",
   "metadata": {},
   "source": [
    "# Dictionary\n",
    "\n",
    "The **Dictionary** objects serves as essentially a mapping table between a **Key** and a **Value**. For those more familiar with Computer Science, the **Dictionary** nothing more than a Hash Table. \n",
    "\n",
    "```python\n",
    "{ 'a' : 1 }\n",
    "```\n",
    "In the example of a **Dictionary** above the **Key** ```'a'``` is mapped to the value ```1```.  Any Python object can be used as the **Key** or **Value**. \n",
    "```python\n",
    "# using a tuple as a key\n",
    "key1 = (1, 2, 3)\n",
    "val1 = 'a'\n",
    "test_dict = { key1 : val1 }\n",
    "```\n",
    "#### Exercise\n",
    "Create a **Dictionary** object where the key is a string of your choice but the value is a **List** of your choice."
   ]
  },
  {
   "cell_type": "code",
   "execution_count": null,
   "metadata": {
    "collapsed": true
   },
   "outputs": [],
   "source": [
    "# your code goes here"
   ]
  },
  {
   "cell_type": "markdown",
   "metadata": {},
   "source": [
    "## Accessing data in a Dictionary\n",
    "Assume we have the following **Dictionary** object created;\n",
    "```python\n",
    "dict1 = { 'a' : 1,\n",
    "          'b' : 2,\n",
    "          'c' : ['blah', 'blah']\n",
    "         }\n",
    "```\n",
    "In order to access the **Value** for a given **Key** we need to make use of the **[ ]** characters. This is the same way we did **Slicing** for In the example below we are going to set the variable **testvar** equal to the **Value** which is stored in the **Key** ```'c'```, which means that **testvar** will contain a list as its value.\n",
    "```python\n",
    "testvar = dict1['c']\n",
    "```\n",
    "When we use a piece of code like \n",
    "```python\n",
    "dict1['c']\n",
    "```\n",
    "we are either obtaining the **Value** stored in ```'c'``` or we are setting a new **Value** to the **Key** ```'c'```.\n",
    "\n",
    "## Adding New Key/Value\n",
    "Let us begin by creating an empty **Dictionary** and then we will look at adding a new **Key** matched with a corresponding **Value**.\n",
    "```python\n",
    "new_dict = dict()\n",
    "```\n",
    "<font color='crimson'; size='5px';><b>OR</b></font>\n",
    "```python\n",
    "new_dict = {}\n",
    "```\n",
    "Now if we wanted to add a **Key** and **Value** to our **new_dict** object we would perform the following;\n",
    "```python\n",
    "new_dict['new_key'] = 'abc123'\n",
    "```\n",
    "This will add the key ```'new_key'``` to our dictionary with the assigned value of ```'abc123'```.\n",
    "\n",
    "## Removing a Key/Value\n",
    "```python\n",
    "new_dict.pop('new_key')\n",
    "```"
   ]
  },
  {
   "cell_type": "markdown",
   "metadata": {},
   "source": [
    "## Dictionary Key / Value Structure\n",
    "The **Dictionary** only supports 1 **Value** for each key. Assume we have the following;\n",
    "```python\n",
    "test_dict = {'abc' : 1}\n",
    "```\n",
    "If we wanted to try and store another "
   ]
  }
 ],
 "metadata": {
  "kernelspec": {
   "display_name": "Python 3",
   "language": "python",
   "name": "python3"
  },
  "language_info": {
   "codemirror_mode": {
    "name": "ipython",
    "version": 3
   },
   "file_extension": ".py",
   "mimetype": "text/x-python",
   "name": "python",
   "nbconvert_exporter": "python",
   "pygments_lexer": "ipython3",
   "version": "3.6.3"
  }
 },
 "nbformat": 4,
 "nbformat_minor": 2
}
