{
 "cells": [
  {
   "cell_type": "markdown",
   "metadata": {},
   "source": [
    "# Built-In Expressions\n",
    "Python comes with a multitude of built-in functions and expressions to make your life easier. Now that we have reviewed how to write functions and how they are used we can start exploring some of this built-in functionality which should make your life easier.\n",
    "\n",
    "## Lambda Delta Psi Kappa Gamma Greek Life\n",
    "The first built-in function we are going to review is <font color='goldenrod';>**lambda**</font> which allows you to write a function on-demand without having to first define it.\n",
    "```python\n",
    "some_func = lambda a : a + 1\n",
    "```\n",
    "The syntax for the <font color='goldenrod';>**lambda**</font> expression is to write ```lambda``` first and followed by the arguments you want to use in the function, in the case above this is ```a```. Then we use a ```:``` to denote the end of the defining part of the function and we write the function logic, in this case this is ```a + 1```. So for every ```a``` that we pass to ```some_func``` we are going to get a number which is incremented by 1.\n",
    "```python\n",
    "# this will equal 6\n",
    "this_equals_six = some_func(5)\n",
    "```\n",
    "The <font color='goldenrod';>**lambda**</font> expression is useful when you need a very small and concise function which won't be used elsewhere in your code. The logic and functionality which you require is **local** to the area where the code is being executed.\n",
    "\n",
    "<br>\n",
    "#### Exercise\n",
    "Write a <font color='goldenrod';>**lambda**</font> expression to make a string uppercase and then call your <font color='goldenrod';>**lambda**</font> expression on a string of your choosing."
   ]
  },
  {
   "cell_type": "code",
   "execution_count": null,
   "metadata": {},
   "outputs": [],
   "source": [
    "# your code goes here"
   ]
  },
  {
   "cell_type": "markdown",
   "metadata": {},
   "source": [
    "## Map to the buried Treasure\n",
    "Python also has a wonderful function called <font color='forestgreen';>**map**</font> which allows us to, pardon the pun, **\"map\"** a function to a list of items. In the example below we will use <font color='forestgreen';>**map**</font> to call our <font color='goldenrod';>**lambda**</font> expression on a list of numbers from 1 to 9.\n",
    "```python\n",
    "x = map(some_func, range(1,10))\n",
    "```\n",
    "The result stored in the variable ```x``` is a **generator** which we covered earlier. To obtain the results in ```x``` we need to wrap this in a ```list( )``` call just as we did before with ```range```.\n",
    "```python\n",
    "x = list(map(some_func, range(1,10)))\n",
    "```\n",
    "\n",
    "<br>\n",
    "#### Exercise\n",
    "Use <font color='forestgreen';>**map**</font> and <font color='goldenrod';>**lambda**</font> to, on a single line, computer the square of a range of numbers from 1 to 10 (inclusive of 10) but **only on every other number**. This means you will need to use the **step** optional argument for the ```range``` function."
   ]
  },
  {
   "cell_type": "code",
   "execution_count": null,
   "metadata": {},
   "outputs": [],
   "source": [
    "# your code goes here"
   ]
  },
  {
   "cell_type": "markdown",
   "metadata": {},
   "source": [
    "You should keep in mind that this code is obviously less readable and understandable compared to the way we have written things previously. These built-in functions are better used sparingly unless you know whomever is reading your code has a strong Python background. Now that we have a stronger understanding of both <font color='forestgreen';>**map**</font> and <font color='goldenrod';>**lambda**</font> let us define our <font color='goldenrod';>**lambda**</font> expression on the fly. The example below does the same exact thing we we did previosuly with ```some_func``` and the numbers from 1 to 9.\n",
    "```python\n",
    "x = list(map(lambda x: x+1, range(1,10)))\n",
    "```\n",
    "\n",
    "<br>\n",
    "## Filter out the garbage\n",
    "We have reviewed filtering a list in Chapter 2 with List Comprehension but we can also do this with the built-in function called <font color='orangered';>**filter**</font>. If we have a function or expression which will evaluate to <font color='lime';>**True**</font> or <font color='red';>**False**</font> we can use <font color='orangered';>**filter**</font> to return a result which only contains values which evaluated to <font color='lime';>**True**</font>. In the example below we will write the same function two ways, one standard way and one using <font color='goldenrod';>**lambda**</font> so that you can see how **if** and **else** can also be used inside of a <font color='goldenrod';>**lambda**</font> expression.\n",
    "```python\n",
    "# classic definition\n",
    "def some_func1(age):\n",
    "    return_val = False\n",
    "    if age >= 21:\n",
    "        return_val = True\n",
    "    return return_val\n",
    "\n",
    "# lambda definition\n",
    "some_func2 = lambda x: True if x >= 21 else False\n",
    "```\n",
    "Now with these functions let us apply them to a list \"declared\" ages from students walking into the local bar using the <font color='orangered';>**filter**</font> function to toss out the kiddies from the bar.\n",
    "```python\n",
    "# list of \"adults\"\n",
    "ages = [21, 18, 21, 21, 35, 20]\n",
    "# the ones who are allowed to drink\n",
    "adults = filter(some_func1, ages)\n",
    "# also the ones who are allowed to drink\n",
    "adults2 = filter(some_func2, ages)\n",
    "```\n",
    "If you execute this code in the cell below you will see that these <font color='orangered';>**filter**</font> functions also return a **generator**. You can get the entire list, as usual, by calling ```list( )``` around the object.\n",
    "```python\n",
    "# the ones who are allowed to drink\n",
    "adults = list(filter(some_func1, ages))\n",
    "# also the ones who are allowed to drink\n",
    "adults2 = list(filter(some_func2, ages))\n",
    "```"
   ]
  }
 ],
 "metadata": {
  "kernelspec": {
   "display_name": "Python 3",
   "language": "python",
   "name": "python3"
  },
  "language_info": {
   "codemirror_mode": {
    "name": "ipython",
    "version": 3
   },
   "file_extension": ".py",
   "mimetype": "text/x-python",
   "name": "python",
   "nbconvert_exporter": "python",
   "pygments_lexer": "ipython3",
   "version": "3.6.4"
  }
 },
 "nbformat": 4,
 "nbformat_minor": 2
}
