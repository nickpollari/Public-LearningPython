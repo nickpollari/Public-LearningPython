{
 "cells": [
  {
   "cell_type": "markdown",
   "metadata": {},
   "source": [
    "# Control Flow\n",
    "Control Flow is just way of describing how you can control the way your code executes. Specifically, we will be focusing on how you can control the <font color='indianred';>**for**</font> loop using two built-in Python functions.\n",
    "\n",
    "## Break\n",
    "The <font color='orangered';>**break**</font> command is used when we want to exit our <font color='indianred';>**for**</font> loop early because of some criteria being met. Assume we have the following;\n",
    "```python\n",
    "num_list = [5, 10, 20, 40, 80, 160, 320, 640, 1280, 2560]\n",
    "```\n",
    "Now what would we do if, for instance, we wanted to loop through this ```num_list``` and square the number. If the squared number is greater than 100, then we have our answer. We want the smallest number in the list where the square of that number is greater than 100. If 20 meets the criteria, then there is no need to finish going through the entire list. Given the tools you have learned previously, you might write something like below.\n",
    "```python\n",
    "for i in num_list:\n",
    "    i_sq = i ** 2\n",
    "    if i_sq > 100:\n",
    "        print(\"Answer\", i)\n",
    "    else:\n",
    "        pass\n",
    "```\n",
    "With the code sample above, when we reach the number 20 (and any number above that), we will meet the criteria, and print out the answer. This means that when 40 gets processed it will also be a valid \"answer\". What we want the code to do is to stop executing once the criteria is met. This is where the <font color='orangered';>**break**</font> command comes into play.\n",
    "```python\n",
    "for i in num_list:\n",
    "    i_sq = i ** 2\n",
    "    if i_sq > 100:\n",
    "        print(\"Answer\", i)\n",
    "        break\n",
    "```\n",
    "If we run the code above what happens is that after 20 meets the criteria and we print the answer we encounter the <font color='orangered';>**break**</font> command. When we reach the <font color='orangered';>**break**</font> command we exit the <font color='indianred';>**for**</font> loop and do not check if 40 meets the criteria, or 80, or 160, etc.\n",
    "\n",
    "<br>\n",
    "#### Exercise\n",
    "Using the list provided below, write a <font color='indianred';>**for**</font> loop which iterates through the list. At the beginning of each loop print out which name you are checking. and if the name is equal to ```'John'``` you should exit the <font color='indianred';>**for**</font> loop. "
   ]
  },
  {
   "cell_type": "code",
   "execution_count": null,
   "metadata": {},
   "outputs": [],
   "source": [
    "# your code goes here\n",
    "\n",
    "# provided code\n",
    "name_list = ['Mike', 'Emily', 'Kary', 'John', 'Joe', 'Liz', 'Stephanie', 'Peter']"
   ]
  },
  {
   "cell_type": "markdown",
   "metadata": {},
   "source": [
    "## Continue\n",
    "The <font color='darkcyan';>**continue**</font> command can be used to tell the <font color='indianred';>**for**</font> loop that it is finished executing the loop for this iteration and that it is now time to move on to the next element in the iterable. Below I have provided a code example which utilizes the <font color='darkcyan';>**continue**</font> command.\n",
    "```python\n",
    "name_list = ['Mike', 'Emily', 'Kary', 'John', 'Joe', 'Liz', 'Stephanie', 'Peter']\n",
    "for name in name_list:\n",
    "    print(\"checking on %s\" % name)\n",
    "    if name == 'Kary':\n",
    "        print(\"Kary is always in class. No need to check on her. We can continue\")\n",
    "        continue\n",
    "\n",
    "    in_class = check_on_student(name)\n",
    "    if in_class:\n",
    "        print(\"Student %s is in class\" % name)\n",
    "    else:\n",
    "        print(\"Student %s is NOT in class. Call their parents.\" % name)\n",
    "```\n",
    "In this code sample we check each name in the list to see if the student is in class. We do this with the exception of ```'Kary'``` who, because she is such a great student, can reliably be found in class and so we don't need to check her attendance. If the name is not ```'Kary'``` then we call a function that was defined somewhere else (we will go over this later) called ```check_on_student``` to see if the student is in class. Since the school is so big sometimes it can take a long time to see if somebody is in class. This is the reason why if we are checking on ```'Kary'``` we don't want to waste precious time checking to see if she is in class.\n",
    "<br><br>\n",
    "As the code executes, when we reach ```'Kary'```, we continue to the next name (```'John'```), and none of the code below the <font color='darkcyan';>**continue**</font> will execute.\n",
    "\n",
    "<br>\n",
    "#### Exercise\n",
    "Try iterating through the string ```'string'``` and if the letter is not ```'i'```  print it out. If the letter is ```'i'``` then use <font color='darkcyan';>**continue**</font>."
   ]
  }
 ],
 "metadata": {
  "kernelspec": {
   "display_name": "Python 3",
   "language": "python",
   "name": "python3"
  },
  "language_info": {
   "codemirror_mode": {
    "name": "ipython",
    "version": 3
   },
   "file_extension": ".py",
   "mimetype": "text/x-python",
   "name": "python",
   "nbconvert_exporter": "python",
   "pygments_lexer": "ipython3",
   "version": "3.6.4"
  }
 },
 "nbformat": 4,
 "nbformat_minor": 2
}
