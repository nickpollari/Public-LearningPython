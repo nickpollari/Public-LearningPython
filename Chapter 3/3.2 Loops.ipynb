{
 "cells": [
  {
   "cell_type": "markdown",
   "metadata": {},
   "source": [
    "# Loops\n",
    "In many situations you may find that you need to perform some operation for each element in an **interable**. An **interable** is any Python Object which contains multiple other objects and can be **looped** through. This includes Python Objects like; **List**, **Tuple**, **Set**, **Dictionary**, and many others. \n",
    "\n",
    "<br>\n",
    "## For You\n",
    "The basic way to **Loop** through an object is using the <font color='indianred';>**for**</font> clause.\n",
    "```python\n",
    "some_list = [5, 10, 20]\n",
    "for i in some_list:\n",
    "    print(pow(i, 2))\n",
    "```\n",
    "The structure of the <font color='indianred';>**for**</font> loop is that we create an alias for each element in the **iterable**,  in this case we used ```i```, to represent each element that is **in** some object. The code above will print out the squared value of the elements in ```some_list```. On each loop the variable ```i``` is equal to the corresponding value in ```some_list``` so the first time around ```i=5``` and the second time ```i=10```, etc. You should also note that the end of the line of the <font color='indianred';>**for**</font> loop contains a ```:``` and that the code of the actual logic is indented underneath the <font color='indianred';>**for**</font> clause.\n",
    "\n",
    "<br>\n",
    "#### Exercise\n",
    "Write a <font color='indianred';>**for**</font> loop which iterates through every integer from 1 to 10 and prints out the square of each number."
   ]
  },
  {
   "cell_type": "code",
   "execution_count": null,
   "metadata": {},
   "outputs": [],
   "source": [
    "# your code goes here"
   ]
  },
  {
   "cell_type": "markdown",
   "metadata": {},
   "source": [
    "## For - If\n",
    "The <font color='indianred';>**for**</font> loop can be combined with the <font color='blueviolet';>**if**</font> clause we covered earlier to construct complex code which operates on each item of the **iterable** with conditional logic.\n",
    "```python\n",
    "some_list = [5, 10, 20]\n",
    "for i in some_list:\n",
    "    if i > 5:\n",
    "        print(pow(i, 2))\n",
    "    else:\n",
    "        print(i)\n",
    "```\n",
    "\n",
    "<br>\n",
    "#### Exercise\n",
    "Write a <font color='indianred';>**for**</font> loop which iterates through every integer from 1 to 10 and if the number is greater-than 5 print out the square of the number otherwise, print out the cube of the number."
   ]
  },
  {
   "cell_type": "code",
   "execution_count": null,
   "metadata": {},
   "outputs": [],
   "source": [
    "# your code goes here"
   ]
  },
  {
   "cell_type": "markdown",
   "metadata": {},
   "source": [
    "## For the Love of Tuples and Lists\n",
    "The <font color='indianred';>**for**</font> loop also lets you iterate through a **List** of **Tuples** or any iterable which contains multiple objects at each index. As you can see in the code below we have a **List** where each element in the **List** is actually a **Tuple**. Notice that this time, instead of iterating through the list and using the alias ```i``` as we did previously that we now are using a **Tuple** of ```(key, val)```. The alias we are using now allows us to iterate through each tuple by each element of the tuple. If we just used ```i``` as before than each ```i``` in the loop would be a **Tuple** itself. \n",
    "```python\n",
    "list_of_tuples = [('a', 'z'), ('b', 'x')]\n",
    "for (key, val) in list_of_tuples:\n",
    "    print(key)\n",
    "```\n",
    "If we were to run the code provided above, the output would be ```'a'``` first and then ```'b'``` second."
   ]
  },
  {
   "cell_type": "markdown",
   "metadata": {},
   "source": [
    "## List Comprehension\n",
    "Python supports the ability to embed a <font color='indianred';>**for**</font> loop inside of an actual **List** object. We can use this to either filter a **List** or to perform an operation on each item in the **List**.\n",
    "\n",
    "Let us assume we have the following list;\n",
    "```python\n",
    "some_list = [1, 2, 3, 4, 5, 6, 7, 8]\n",
    "```\n",
    "We can use List Comprehension to perform an operation on each element of the list. Below we will add 100 to each number in the list ```some_list```.\n",
    "```python\n",
    "new_list = [i + 100 for i in some_list]\n",
    "```\n",
    "Now what if we needed to make a new list from the elements in ```some_list``` but only for those whose value is less than 5? This is where List Comprehension comes in.\n",
    "```python\n",
    "new_list = [i for i in some_list if i < 5]\n",
    "# new_list = [1, 2, 3, 4]\n",
    "```\n",
    "We can combine both of these examples to give us a ```new_list``` which performs ```i + 100``` on each element of ```some_list``` but only for those elements which are less than 5.\n",
    "```python\n",
    "new_list = [i + 100 for i in some_list if i < 5]\n",
    "# new_list = [101, 102, 103, 104]\n",
    "```\n",
    "\n",
    "<br>\n",
    "#### Exercise\n",
    "Using List Comprehension and the provided code below, divide each element of the list by 3;"
   ]
  },
  {
   "cell_type": "code",
   "execution_count": 3,
   "metadata": {},
   "outputs": [],
   "source": [
    "# your code goes here\n",
    "\n",
    "# provided code\n",
    "some_list = list(range(5, 50, 5))"
   ]
  },
  {
   "cell_type": "markdown",
   "metadata": {},
   "source": [
    "## Dictionary Comprehension\n",
    "Python also supports the ability to embed a <font color='indianred';>**for**</font> loop inside of a **Dictionary**. This is similar to the List Comprehension that we covered previously except that we will be creating a dictionary instead. In the example below we take a dictionary and create a new dictionary where each value is multipled by 2.\n",
    "```python\n",
    "some_dict = {'a' : 1,\n",
    "             'b' : 2}\n",
    "# dictionary comprehension\n",
    "new_dict = {k : v*2 for (k,v) in some_dict.items()}\n",
    "```\n",
    "Notice that we instead of using ```[ ]``` as we did in the List Comphrension we used the ```{ }``` brackets which is the standard way of creating a dictionary. The <font color='indianred';>**for**</font> loop is similar to the one we previously covered which allowed for you to iterate through a list where each element is actually made up of multiple objects. We also had to use the <font color='hotpink';>**items**</font> method of the dictionary to convert it to a list of tuples. Just as before we can also build an if statement into this as well;\n",
    "```python\n",
    "some_dict = {'a' : 1,\n",
    "             'b' : 2}\n",
    "# dictionary comprehension\n",
    "new_dict = {k : v*2 for (k,v) in some_dict.items() if v > 1}\n",
    "```\n",
    "\n",
    "<br>\n",
    "## Enumerate\n",
    "Python also comes with a built-in function known as <font color='blueviolet';>**enumerate**</font> which, when used, converts any iterable into a list of tuples where the first object is the index number of the element and the second is the original object.\n",
    "```python\n",
    "name_list = ['Nick', 'Mike', 'Suzy']\n",
    "for (name_index, name) in enumerate(name_list):\n",
    "    print_str = \"The name {name_in_list} is at index number {name_index}\" \n",
    "    print(print_str.format(name_in_list=name, name_index=name_index))\n",
    "```\n",
    "By calling <font color='blueviolet';>**enumerate**</font> on ```name_list``` we essentially convert the list ```['Nick', 'Mike', 'Suzy']``` into ```[(0, 'Nick'), (1, 'Mike'), (2, 'Suzy')]``` while we are iterating through it."
   ]
  }
 ],
 "metadata": {
  "kernelspec": {
   "display_name": "Python 3",
   "language": "python",
   "name": "python3"
  },
  "language_info": {
   "codemirror_mode": {
    "name": "ipython",
    "version": 3
   },
   "file_extension": ".py",
   "mimetype": "text/x-python",
   "name": "python",
   "nbconvert_exporter": "python",
   "pygments_lexer": "ipython3",
   "version": "3.6.4"
  }
 },
 "nbformat": 4,
 "nbformat_minor": 2
}
