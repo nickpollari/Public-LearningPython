{
 "cells": [
  {
   "cell_type": "markdown",
   "metadata": {},
   "source": [
    "# Classes and Objects\n",
    "We have covered the concept of Objects previously but we haven't covered how you can create your very own Objects. This is where we will discuss the critical concept of the <font color='darkcyan';>**class**</font> which is what makes Object Oriented Programming what it actually is. Ultimately we will also discuss the concept of **Inheritance** and how that can be used.\n",
    "\n",
    "<br>\n",
    "## Class Syntax\n",
    "Let us first begin by reviewing the basic syntax for creating a <font color='darkcyan';>**class**</font> object in Python.\n",
    "```python\n",
    "class Vehicle(object):\n",
    "    def __init__(self, color):\n",
    "        self.vehicle_color = color\n",
    "```\n",
    "The first thing you should see is the way we define our <font color='darkcyan';>**class**</font>.\n",
    "```python\n",
    "class Vehicle(object):\n",
    "```\n",
    "We begin by stating explicitly that this is a <font color='darkcyan';>**class**</font> with the text ```class``` before the name ```Vehicle```. We then state that this <font color='darkcyan';>**class**</font> is an **object** by using ```(object)``` after the name of our <font color='darkcyan';>**class**</font>. Finally we end this line with the ```:``` which you should be accustomed to by now. Next we call a **method**, and this is \"not\" a function because it is part of a <font color='darkcyan';>**class**</font>, which can be seen below.\n",
    "```python\n",
    "    def __init__(self, color):\n",
    "```\n",
    "This is a special kind of **method** which is used to **initialize** the object. The method ```__init__``` is used to signify what arguments need to be passed to this object when we are creating an instance of it. You should also see that this line is indented, so as to signify that it belongs to the <font color='darkcyan';>**class**</font> above it. So when we instantiate an instance of this object called ```Vehicle``` we need to pass something for the argument ```color```. You will also notice that we have our first argument to ```__init__``` as ```self```. This is because we want our <font color='darkcyan';>**class**</font> to be able to access its own **properties**. All <font color='darkcyan';>**class**</font> methods should have ```self``` as their first argument which is considered good form. Technically it is not required depending on what the logic is inside of the **method**. The general rule of thumb is if the **method** needs to access any <font color='darkcyan';>**class**</font> properties or other **methods** then it needs ```self```. Finally we have the code which stores the argument ```color``` in the variable ```self.vehicle_color```, which is indented **TWICE**.\n",
    "```python\n",
    "        self.vehicle_color = color\n",
    "```\n",
    "Try running the code provided below."
   ]
  },
  {
   "cell_type": "code",
   "execution_count": null,
   "metadata": {},
   "outputs": [],
   "source": [
    "# provided code\n",
    "class Vehicle(object):\n",
    "    def __init__(self, color):\n",
    "        self.vehicle_color = color\n",
    "        \n",
    "camry = Vehicle(\"silver\")\n",
    "print(camry)"
   ]
  },
  {
   "cell_type": "markdown",
   "metadata": {},
   "source": [
    "In the example above we made an instance of the <font color='darkcyan';>**class**</font> ```Vehicle``` with the color ```\"silver\"``` assigned it to the variable ```camry```. When we print the ```camry``` object we see that it is a <font color='darkcyan';>**class**</font>. of ```Vehicle```. Now where did that string ```\"silver\"``` disappear to? It is stored inside of the variable ```camry``` and can be accessed by using a ```.``` like so; ```camry.vehicle_color```. What is important to understand here is that, without us explicitly calling ```__init__``` the method is automatically called when we instantiate the object with the code ```camry = Vehicle(\"silver\")```. \n",
    "\n",
    "<br>\n",
    "#### Exercise\n",
    "Write a <font color='darkcyan';>**class**</font> similar to ```Vehicle``` which has been provided. The object should require three arguments; color, brand, and name (because every car deserves a name). When the ```__init__``` method is called you should print out the name which was provided and also stored all 3 arguments in the <font color='darkcyan';>**class**</font> with property names of your choosing."
   ]
  },
  {
   "cell_type": "code",
   "execution_count": null,
   "metadata": {},
   "outputs": [],
   "source": [
    "# your code goes here"
   ]
  },
  {
   "cell_type": "markdown",
   "metadata": {},
   "source": [
    "## Class Methods\n",
    "We briefly covered the concept of **methods** earlier but now we are going to add one to the ```Vehicle``` <font color='darkcyan';>**class**</font>. Observe the code below;\n",
    "```python\n",
    "class Vehicle(object):\n",
    "    def __init__(self, color):\n",
    "        self.vehicle_color = color\n",
    "    \n",
    "    def honk(self):\n",
    "        print_str = \"The %s Vehicle goes: HONK HONK\" % self.vehicle_color\n",
    "        print(print_str)\n",
    "```\n",
    "We have added a new method to the ```Vehicle``` called ```honk``` which prints a message to the screen. We would call this method in a very similar manner to how we call a standard function except that we need to call it from the instantiated object of the <font color='darkcyan';>**class**</font> similar to how we accessed ```vehicle_color``` earlier.\n",
    "```python\n",
    "camry.honk()\n",
    "```\n",
    "As mentioned previously, note the ```self``` argument as part of the <font color='darkcyan';>**class**</font> in the method ```honk```. This is because the method ```honk``` needs access to the property ```vehicle_color``` which was set in the ```__init__``` function.\n",
    "\n",
    "<br>\n",
    "#### Exercise\n",
    "Using the <font color='darkcyan';>**class**</font> you wrote in your previous exercise perform the following;\n",
    "- include a ```location``` property in the ```__init__``` function and set it to None\n",
    "- add a method to it which is called ```drive``` and which takes a string as an argument, this string represents a new location\n",
    "- in the method ```drive``` set the value of location equal to the new string"
   ]
  },
  {
   "cell_type": "code",
   "execution_count": null,
   "metadata": {},
   "outputs": [],
   "source": [
    "# your code goes here"
   ]
  },
  {
   "cell_type": "markdown",
   "metadata": {},
   "source": [
    "There is no limit to the number of methods which a <font color='darkcyan';>**class**</font> can have, although if your <font color='darkcyan';>**class**</font> has a lot of methods it is probably better for it to be broken up into multiple different <font color='darkcyan';>**class**</font>es. \n",
    "\n",
    "<br>\n",
    "## Class Theory\n",
    "A <font color='darkcyan';>**class**</font> is really a representation of a common set of functionality which works together. When working in Python you will make use of many <font color='darkcyan';>**class**</font> objects in general. This invites a discussion on the topic of **Separation of Concerns**. This essentially means that you keep pieces of code together which work together to accomplish some common goal or have similar functionality. If you write a <font color='darkcyan';>**class**</font> which represents a ```Vehicle``` you shouldn't have a method in the <font color='darkcyan';>**class**</font> which is about providing users a way of computing a Linear Regression. The two things are not related.\n",
    "\n",
    "<br>\n",
    "## Class Project Deep Dive\n",
    "To illustrate my point about **Separation of Concerns** and to help you become more familiar with <font color='darkcyan';>**class**</font> objects we are going to explore a scenario that involves writing 3 separate <font color='darkcyan';>**class**</font> objects and we are going to show how they work together. Imagine we are going to a concert to see some famous artist. We (a Patron) must call up Ticketmaster (a TicketService) to order our tickets for the BB&T center (a Venue). We are going to model this relationship in Python as our example. First we begin by creating a Patron class. Now the Patron is not responsible for doing anything except handing over money for tickets so this class won't have any methods in it. Execute the code below."
   ]
  },
  {
   "cell_type": "code",
   "execution_count": null,
   "metadata": {},
   "outputs": [],
   "source": [
    "# provided code\n",
    "class Patron(object):\n",
    "    def __init__(self, first_name, last_name, phone_number):\n",
    "        self.first_name = first_name\n",
    "        self.last_name = last_name\n",
    "        self.phone_number = phone_number"
   ]
  },
  {
   "cell_type": "markdown",
   "metadata": {},
   "source": [
    "Next we will code up the Venue <font color='darkcyan';>**class**</font> which will have a couple of methods associated with it. The Venue <font color='darkcyan';>**class**</font> is responsible for "
   ]
  }
 ],
 "metadata": {
  "kernelspec": {
   "display_name": "Python 3",
   "language": "python",
   "name": "python3"
  },
  "language_info": {
   "codemirror_mode": {
    "name": "ipython",
    "version": 3
   },
   "file_extension": ".py",
   "mimetype": "text/x-python",
   "name": "python",
   "nbconvert_exporter": "python",
   "pygments_lexer": "ipython3",
   "version": "3.6.4"
  }
 },
 "nbformat": 4,
 "nbformat_minor": 2
}
