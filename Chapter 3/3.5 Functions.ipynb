{
 "cells": [
  {
   "cell_type": "markdown",
   "metadata": {},
   "source": [
    "# Functions\n",
    "The **Function** is the general way of executing a piece of logic on a set of variables (or arguments as they are known in Python). We will begin with the general syntax of a function and build our knowledge base from there.\n",
    "\n",
    "<br>\n",
    "## Function General Syntax\n",
    "The first function we write is going to simply add 5 to whatever number is passed into it and return the result. This is written in the following way;\n",
    "```python\n",
    "def add_five_function(a_number):\n",
    "    new_number = a_number + 5\n",
    "    return new_number\n",
    "```\n",
    "<br>\n",
    "We begin by using <font color='dodgerblue';>**def**</font> to signify that we are <font color='dodgerblue';>**defining**</font> a function. The function is named <font color='goldenrod';>**add_five_function**</font>. Typically in Python we name functions all lower case, excluding numeric values, and using underscores to increase readability. The function takes one argument, called <font color='orangered';>**a_number**</font> which is an alias for any number which we put into it. If you are unsure of what I mean here don't panic, it should become clear momentarily. The argument is wrapped in paranthesis and the first line of a function is ended with a **:** to signify that this is the function end. Finally the argument uses the built-in command <font color='blueviolet';>**return**</font> to bring the results out of the function. It is **not** required to have a <font color='blueviolet';>**return**</font> in a function and in this case once the logic is done executing the function simple exits and doesn't return any results. \n",
    "<br><br>\n",
    "<b>Some Syntax Review;</b>\n",
    "- start with <font color='dodgerblue';>**def**</font> to signify the start of defining a function\n",
    "- name the function, in our case this was <font color='goldenrod';>**add_five_function**</font>\n",
    "- then use arguments (or don't technically) wrapped in paranthesis\n",
    "- finish with a **:**\n",
    "<br><br>\n",
    "The way which we use a function is like so;\n",
    "```python\n",
    "this_equals_ten = add_five_function(5)\n",
    "```\n",
    "\n",
    "Once inside the function it is important to understand the concept of name space.\n",
    "\n",
    "<br>\n",
    "## Name-Space Invaders\n",
    "Name Space refers to the name of a variable or object and where it resides in memory. Run the code in the cell below."
   ]
  },
  {
   "cell_type": "code",
   "execution_count": 9,
   "metadata": {},
   "outputs": [],
   "source": [
    "# provided code\n",
    "\n",
    "# define a variable and assign it a value\n",
    "var_a = 123\n",
    "# define a function\n",
    "def some_func(something):\n",
    "    var_a = \"im also var_a\"\n",
    "    print(var_a)\n",
    "    return something\n",
    "\n",
    "# call the fucntion\n",
    "variable = some_func(\"this is something\")"
   ]
  },
  {
   "cell_type": "markdown",
   "metadata": {},
   "source": [
    "So how come when we printed **var_a** it didn't print ```123```? The variable names which are defined inside of a function, or by its arguments (alias), only exist within the function. This is how name space works in Python. Any variable names which you use outside of functions retain their names and values outisde of those functions (this also goes for a **Class** but we won't get into that right now) while any variable names used inside of a function retain their names and values inside of the function.\n",
    "\n",
    "<br>\n",
    "## Let's not have Arguments Baby\n",
    "We briefly reviewed the concept of an argument for a function when we discussed the <font color='orangered';>**a_number**</font> argument for our function <font color='goldenrod';>**add_five_function**</font>. Python has **TWO** kinds of arguments; <font color='hotpink';>**positional argument**</font> and <font color='crimson';>**keyword argument**</font>. In both of the example functions we used <font color='hotpink';>**positional argument**</font>s which use an alias to refer to a particular object and are passed to the function in a particular order (hence, positional). The other kind of argument is a <font color='crimson';>**keyword argument**</font> and these are placed **after** the <font color='hotpink';>**positional argument**</font>s. You can think of <font color='crimson';>**keyword argument**</font>s as **optional** arguments. The function may or may not use them or they might denote the default value of an argument for a particular function. Below is an example a function with both a <font color='hotpink';>**positional argument**</font> and a <font color='crimson';>**keyword argument**</font>.\n",
    "```python\n",
    "def complex_stuff(num, power=2):\n",
    "    # add 5 to the number first\n",
    "    new_num = num + 5\n",
    "    # now raise it to the power of 'power'\n",
    "    return pow(new_num, power)\n",
    "```\n",
    "In the above example we can pass a number and assign what power we want the returning number raised to. Try running the code example below to see how this works."
   ]
  },
  {
   "cell_type": "code",
   "execution_count": 4,
   "metadata": {},
   "outputs": [],
   "source": [
    "# provided code\n",
    "def complex_stuff(num, power=2):\n",
    "    # add 5 to the number first\n",
    "    new_num = num + 5\n",
    "    # now raise it to the power of 'power'\n",
    "    return pow(new_num, power)\n",
    "\n",
    "first_try = complex_stuff(2)\n",
    "print(first_try)\n",
    "\n",
    "second_try = complex_stuff(2, power=3)\n",
    "print(second_try)"
   ]
  },
  {
   "cell_type": "markdown",
   "metadata": {},
   "source": [
    "Notice that on the **first_try** we didn't specify anything for the <font color='crimson';>**keyword argument**</font> ```power``` and we got the result ```49```. Since nothing was explicitly passed to ```power``` it assumed the value of 2 and raised 7 to the power of 2. On our **second_try** we passed in the same initial number, ```2```, but changed ```power``` to be equal to ```3``` and printed the result of ```343```.\n",
    "<br><br>\n",
    "Technically speaking there is no limit to the number of <font color='hotpink';>**positional argument**</font>s or <font color='crimson';>**keyword argument**</font>s for a function as long as the <font color='hotpink';>**positional argument**</font>s are defined first. For readability purposes it isn't recommended to put too many arguments into a function, as this usually means its possible to break that function up into smaller pieces. In some cases, including if you look at production code or answers on popular coding websites like stackoverflow, you will come across something like ```**args``` and ```**kwargs```. These can be used to condense a large number of <font color='hotpink';>**positional argument**</font>s into a single tuple (```**args```) or a large number of <font color='crimson';>**keyword argument**</font>s into a single dictionary (```**kwargs```). This is beyond the scope of this material to avoid confusion but if you are interested a simple google will give you plenty of information.\n",
    "\n",
    "<br>\n",
    "#### Exercise\n",
    "Write a function which uses both a <font color='hotpink';>**positional argument**</font> and a <font color='crimson';>**keyword argument**</font>. The <font color='hotpink';>**positional argument**</font> should be a string and the <font color='crimson';>**keyword argument**</font> should be the number of times the function should print the string provided as the <font color='hotpink';>**positional argument**</font>.\n",
    "**Hints**\n",
    "- You will need a for loop\n",
    "- You will need to use ```range```"
   ]
  },
  {
   "cell_type": "code",
   "execution_count": null,
   "metadata": {},
   "outputs": [],
   "source": [
    "# your code goes here"
   ]
  },
  {
   "cell_type": "markdown",
   "metadata": {},
   "source": [
    "## I have so many questions though\n",
    "Python has a couple of very convenient tools that you can use to inspect a function which you are unfamiliar with. We can use the ```?``` before a function to see the **Doc String** of a function. We will go into a **Doc String** later on so don't worry about not understanding what that means. Execute the code below to see some information pop-up that shows you what the function ```randint``` does. Don't worry about the **import** statement either, this will be covered elsewhere."
   ]
  },
  {
   "cell_type": "code",
   "execution_count": 8,
   "metadata": {},
   "outputs": [],
   "source": [
    "# provided code\n",
    "import numpy as np\n",
    "\n",
    "?np.random.randint"
   ]
  },
  {
   "cell_type": "markdown",
   "metadata": {},
   "source": [
    "We can see in the pop-up that the function takes a <font color='hotpink';>**positional argument**</font> called **low**, and 3 <font color='crimson';>**keyword argument**</font>s. Read the entire **Doc String** to understand the function.\n",
    "\n",
    "<br>\n",
    "## Comments Please\n",
    "When writing your code you should always try to write it from the perspective of \"what if somebody else had to read this and understand how this works?\". This concept is a lot more powerful than you might think at first glance. This is where the **comment** comes into play and is one of the most important concepts in programming in general. We establish that the code on a given line is a **comment** by starting that line with the ```#``` sign. Below is an example of exactly what **NOT** to do.\n",
    "```python\n",
    "# this is a comment\n",
    "var1 = 'dad'\n",
    "# this is also a comment\n",
    "var2 = 'mom'\n",
    "# this is just another comment\n",
    "var3 = 'baby'\n",
    "```\n",
    "Comments should be provided in your code to tell the user what is going on. You don't need one after every line of code, but you should comment enough so that users have an idea of the workflow that is being done.\n",
    "```python\n",
    "# establish mom and dad\n",
    "var1 = 'dad'\n",
    "var2 = 'mom'\n",
    "# this function makes a baby\n",
    "var3 = poorly_named_function(var1, var2)\n",
    "```\n",
    "Comments give the reader of your code a clear idea of the operations going on and can be used to overcome poorly named classes and functions, such as the example above.\n",
    "\n",
    "<br>\n",
    "## Doc Strings\n",
    "The text you saw before when we did ```?np.random.randint``` is what is known as a **Doc String**. This **Doc String** lets other people use the ```?``` to inspect your function and see how it works. You will have to write these yourself and we will use the multi-line string you learned about earlier. The **Doc String** basically has 3 general parts to it; Summary, Args, Return. The format of the **Doc String** is flexible and you don't have to do yours like mine, or like the way Numpy does theirs, as long as it contains similar information. Below is an example of a **Doc String** I wrote for a function which computes a moving average. Don't worry if you are unfamiliar with some of the terminology below, we will cover these things later.\n",
    "```python\n",
    "def simple_moving_average(timeseries, window=50):\n",
    "    \"\"\"\n",
    "    Summary:\n",
    "        Compute the moving average of the 'timeseries'\n",
    "        with a window length equal to 'window'.\n",
    "   \n",
    "   Args:\n",
    "       - timeseries (pandas.Series): Timeseries of data\n",
    "       - window (int, default=50): Window length of moving average to compute\n",
    "   \n",
    "   Returns:\n",
    "       - timeseries_sma (pandas.Series): New Timeseries of moving average of data\n",
    "  \"\"\"\n",
    "    sma_ts = timeseries.rolling(window).mean()\n",
    "    return sma_ts\n",
    "```"
   ]
  }
 ],
 "metadata": {
  "kernelspec": {
   "display_name": "Python 3",
   "language": "python",
   "name": "python3"
  },
  "language_info": {
   "codemirror_mode": {
    "name": "ipython",
    "version": 3
   },
   "file_extension": ".py",
   "mimetype": "text/x-python",
   "name": "python",
   "nbconvert_exporter": "python",
   "pygments_lexer": "ipython3",
   "version": "3.6.4"
  }
 },
 "nbformat": 4,
 "nbformat_minor": 2
}
