{
 "cells": [
  {
   "cell_type": "markdown",
   "metadata": {},
   "source": [
    "# Try-Except-Finally\n",
    "Python has a very simple way of handling exceptions, known as <font color='forestgreen';>**try**</font> <font color='goldenrod';>**except**</font>. These are built-in Python functions like we have seen before but they operate slightly differently. The functionality is intuitively named, you **TRY** something and finish executing the code **EXCEPT** if there is a problem. In the example below, and as you have probably become accustomed to be now, note the use of ```:``` to denote the end of the command.\n",
    "```python\n",
    "try:\n",
    "    # some code goes in here to try\n",
    "    \n",
    "    \n",
    "except:\n",
    "    # if problem, run this code\n",
    "```\n",
    "Try running the piece of code below"
   ]
  },
  {
   "cell_type": "code",
   "execution_count": null,
   "metadata": {},
   "outputs": [],
   "source": [
    "# provided code\n",
    "\n",
    "will_fail = 5/0"
   ]
  },
  {
   "cell_type": "markdown",
   "metadata": {},
   "source": [
    "Now lets try wrapping this in our <font color='forestgreen';>**try**</font> <font color='goldenrod';>**except**</font> and see what happens."
   ]
  },
  {
   "cell_type": "code",
   "execution_count": null,
   "metadata": {},
   "outputs": [],
   "source": [
    "# provided code\n",
    "try:\n",
    "    will_fail = 5/0\n",
    "except:\n",
    "    print(\"Hey this doesn't run\")"
   ]
  },
  {
   "cell_type": "markdown",
   "metadata": {},
   "source": [
    "Notice the difference? The first time we tried to run this piece of code we received a <font color='crimson';>**traceback**</font> which is Python's way of showing you where the code stopped executing and attempts to tell you why that was the case. You should have also noticed that the type of error that was raised was a ```ZeroDivisionError``` which is a type of built-in error message. Many error messages exist, many beyond the scope of this book. You can even create your own errors. We can also \"catch\" the error as it happens and then execute some different code depending on the error. Try the next Exercise by using the code block below as an example.\n",
    "```python\n",
    "try:\n",
    "    will_fail = 5/0\n",
    "except ZeroDivisionError:\n",
    "    will_fail = 0\n",
    "```\n",
    "\n",
    "<br>\n",
    "#### Exercise\n",
    "Another common error is ```IndexError``` which is what happens when you try to look up a value in a **List** by its index number, but the **List** is too small for that index number. Write a short script which uses the list ```short_list = ['a', 'b']``` and try to access index number ```5``` in it. Do this inside of the <font color='forestgreen';>**try**</font> <font color='goldenrod';>**except**</font> and catch the ```IndexError```. Upon encountering the error print a statement of your choosing."
   ]
  },
  {
   "cell_type": "code",
   "execution_count": 3,
   "metadata": {},
   "outputs": [],
   "source": [
    "# your code goes here"
   ]
  },
  {
   "cell_type": "markdown",
   "metadata": {},
   "source": [
    "We can also look for multiple errors in one call by using multiple <font color='goldenrod';>**except**</font> clauses.\n",
    "```python\n",
    "try:\n",
    "    will_fail = 5/0\n",
    "except IndexError:\n",
    "    print(\"index problems\")\n",
    "except ZeroDivisionError:\n",
    "    print(\"zero division problems\")\n",
    "```\n",
    "\n",
    "<br>\n",
    "## Finally\n",
    "The 3rd, optional, and final piece of the <font color='forestgreen';>**try**</font> <font color='goldenrod';>**except**</font> clause is the <font color='dodgerblue';>**finally**</font> clause. The <font color='dodgerblue';>**finally**</font> clause allows you to execute a block of code regardless if you encounter an exception in the <font color='forestgreen';>**try**</font> <font color='goldenrod';>**except**</font>.\n",
    "```python\n",
    "try:\n",
    "    will_fail = 5/0\n",
    "except ZeroDivisionError:\n",
    "    will_fail = 0\n",
    "finally:\n",
    "    print(\"Will Fail is set to: %s\" % will_fail)\n",
    "```\n",
    "In this piece of code we will encounter the ```ZeroDivisionError``` during the calculation of ```will_fail``` and we will then set the variable equal to ```0```. Once the code is done executing the <font color='forestgreen';>**try**</font> <font color='goldenrod';>**except**</font> clause, regardless of whether the code was successful inside of the <font color='forestgreen';>**try**</font> or not, we will then print out the value of ```will_fail```.\n",
    "\n",
    "<br>\n",
    "## Tracebacks\n",
    "Whenever your code fails to run for one reason or another you will see an error message printed out, this is known as the <font color='crimson';>**traceback**</font> which tells you where the error occured and what kind of error. There also exists a traceback package which you can use. The package is beyond the scope of this book but you can read all about it here https://docs.python.org/3/tutorial/errors.html"
   ]
  }
 ],
 "metadata": {
  "kernelspec": {
   "display_name": "Python 3",
   "language": "python",
   "name": "python3"
  },
  "language_info": {
   "codemirror_mode": {
    "name": "ipython",
    "version": 3
   },
   "file_extension": ".py",
   "mimetype": "text/x-python",
   "name": "python",
   "nbconvert_exporter": "python",
   "pygments_lexer": "ipython3",
   "version": "3.6.4"
  }
 },
 "nbformat": 4,
 "nbformat_minor": 2
}
