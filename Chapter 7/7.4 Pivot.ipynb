{
 "cells": [
  {
   "cell_type": "markdown",
   "metadata": {},
   "source": [
    "# Pivot\n",
    "Sometimes (seems like all of the time honestly) data isn't in the format that we need. We can leverage the Pandas method ```.pivot()``` to clean up our data a bit. The method works very similar to the way the Pivot table works in Excel. Lets begin by executing the code below which will recreate our ```positions``` Series from the previous section 7.2"
   ]
  },
  {
   "cell_type": "code",
   "execution_count": null,
   "metadata": {},
   "outputs": [],
   "source": [
    "# provided code\n",
    "import pandas as pd\n",
    "import pandas_datareader.data as web\n",
    "import datetime as dt\n",
    "\n",
    "# define our create positions function\n",
    "def create_positions(ticker_data_df):\n",
    "    ticker_data_df = ticker_data_df.set_index('date')\n",
    "    sma = ticker_data_df['close'].rolling(20).mean()\n",
    "    positions = ticker_data_df['close'] > sma\n",
    "    return positions\n",
    "\n",
    "# start date\n",
    "start = dt.datetime(2017, 1, 1)\n",
    "# end date\n",
    "end = dt.datetime(2018, 12, 31)\n",
    "\n",
    "# dow 30 components\n",
    "# https://www.cnbc.com/dow-30/\n",
    "dow_stocks = ['AXP', 'AAPL', 'BA', 'CAT', \n",
    "              'CSCO', 'CVX', 'DWDP',\n",
    "              'XOM', 'GS', 'HD', 'IBM',\n",
    "              'INTC', 'JNJ', 'KO', 'JPM',\n",
    "              'MCD', 'MMM', 'MRK', 'MSFT',\n",
    "              'NKE', 'PFE', 'PG', 'TRV',\n",
    "              'UNH', 'UTX', 'VZ', 'V',\n",
    "              'WBA', 'WMT', 'DIS']\n",
    "\n",
    "# list to store dataframes\n",
    "df_list = list()\n",
    "for ticker in dow_stocks:\n",
    "    ticker_df = web.DataReader(ticker, 'iex', start, end).reset_index()\n",
    "    ticker_df['ticker'] = ticker\n",
    "    df_list.append(ticker_df)\n",
    "    \n",
    "# create a final dataframe\n",
    "complete_df = pd.concat(df_list)\n",
    "\n",
    "# create positions series\n",
    "positions = complete_df.groupby('ticker').apply(create_positions)\n",
    "positions.head()"
   ]
  },
  {
   "cell_type": "markdown",
   "metadata": {},
   "source": [
    "The first thing we are going to do is convert our ```positions``` Series into a DataFrame by calling ```.reset_index()```. Do this in the cell below and set the results equal to the object ```positions_df_ugly```."
   ]
  },
  {
   "cell_type": "code",
   "execution_count": null,
   "metadata": {},
   "outputs": [],
   "source": [
    "# your code goes here"
   ]
  },
  {
   "cell_type": "markdown",
   "metadata": {},
   "source": [
    "Now lets take a look at our DataFrame and rename the column ```close``` to be ```position```. Execute the code in the cell below;."
   ]
  },
  {
   "cell_type": "code",
   "execution_count": null,
   "metadata": {},
   "outputs": [],
   "source": [
    "# provided code\n",
    "positions_df_ugly.rename(columns={'close' : 'position'}, inplace=True)\n",
    "positions_df_ugly.head()"
   ]
  },
  {
   "cell_type": "markdown",
   "metadata": {},
   "source": [
    "Now what we need to do is pivot this data so that the index is each ```date``` and each column is one ```ticker```. This is where we will leverage the ```.pivot()``` method which has the following syntax;\n",
    "<br><br>\n",
    "<font size=4px>\n",
    "**\n",
    "DataFrame.pivot(index=None, columns=None, values=None)\n",
    "**\n",
    "</font>\n",
    "<br>\n",
    "<font size=2px>\n",
    "Source: <a href=\"https://pandas.pydata.org/pandas-docs/stable/reference/api/pandas.DataFrame.pivot.html\">Official Pandas Documentation</a>\n",
    "</font>\n",
    "<br><br>\n",
    "#### Exercise\n",
    "Construct a new DataFrame called ```positions_df_pretty``` by calling ```.pivot()``` on our ```positions_df_ugly```. Set the ```index``` equal to ```'date'```, set the columns equal to ```'ticker'```, and set the values equal to ```'position'```. At the end of your code in the cell below display the top 4 rows using ```.head()```."
   ]
  },
  {
   "cell_type": "code",
   "execution_count": null,
   "metadata": {},
   "outputs": [],
   "source": [
    "# your code goes here"
   ]
  }
 ],
 "metadata": {
  "kernelspec": {
   "display_name": "Python 3",
   "language": "python",
   "name": "python3"
  },
  "language_info": {
   "codemirror_mode": {
    "name": "ipython",
    "version": 3
   },
   "file_extension": ".py",
   "mimetype": "text/x-python",
   "name": "python",
   "nbconvert_exporter": "python",
   "pygments_lexer": "ipython3",
   "version": "3.6.4"
  }
 },
 "nbformat": 4,
 "nbformat_minor": 2
}
