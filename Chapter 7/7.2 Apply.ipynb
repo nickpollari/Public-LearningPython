{
 "cells": [
  {
   "cell_type": "markdown",
   "metadata": {},
   "source": [
    "# Apply\n",
    "The first intermediate functionality from Pandas that we are going to explore is ```.apply()``` which will allow us to apply a function across each column of a DataFrame or across each row of a DataFrame. To begin we are going to pull down all of the prices for the DOW 30 stocks. The 30 stocks are provided below along with the standard imports we will need for this section. Execute the code in the cell below. Using ```.apply()``` is often a way to speed up the calculations of Pandas."
   ]
  },
  {
   "cell_type": "code",
   "execution_count": null,
   "metadata": {},
   "outputs": [],
   "source": [
    "# provided code\n",
    "import pandas as pd\n",
    "import pandas_datareader.data as web\n",
    "import datetime as dt\n",
    "\n",
    "# start date\n",
    "start = dt.datetime(2017, 1, 1)\n",
    "# end date\n",
    "end = dt.datetime(2018, 12, 31)\n",
    "\n",
    "# dow 30 components\n",
    "# https://www.cnbc.com/dow-30/\n",
    "dow_stocks = ['AXP', 'AAPL', 'BA', 'CAT', \n",
    "              'CSCO', 'CVX', 'DWDP',\n",
    "              'XOM', 'GS', 'HD', 'IBM',\n",
    "              'INTC', 'JNJ', 'KO', 'JPM',\n",
    "              'MCD', 'MMM', 'MRK', 'MSFT',\n",
    "              'NKE', 'PFE', 'PG', 'TRV',\n",
    "              'UNH', 'UTX', 'VZ', 'V',\n",
    "              'WBA', 'WMT', 'DIS']"
   ]
  },
  {
   "cell_type": "markdown",
   "metadata": {},
   "source": [
    "## Exercise & Step 1) Get the data\n",
    "Write a function which uses the ```web.DataReader()``` that we used before to get individual stock data. After you return the DataFrame add a new column called ```ticker``` which is the ticker for the data being retrieved. Your function should be called ```get_data``` and should take the following arguments; ```ticker```,```start_dt```, and ```end_dt```. The function should return the compiled DataFrame. I've taken the liberty of giving you the start of the function below;\n",
    "```python\n",
    "def get_data(ticker, start_dt, end_dt):\n",
    "```"
   ]
  },
  {
   "cell_type": "code",
   "execution_count": null,
   "metadata": {},
   "outputs": [],
   "source": [
    "# your code goes here"
   ]
  },
  {
   "cell_type": "markdown",
   "metadata": {},
   "source": [
    "## Exercise & Step 2) Loop it\n",
    "Now write a function which executes a For Loop for every element of the list provided to it. In the For Loop we are going to return the relevant stock price data from the function we wrote previously. We will store each DataFrame in a dictionary where the key is the ```ticker``` and the value is the DataFrame. This function should be called ```get_all_ticker_price_data```. The function should return the dictionary at the end. I have provided the start of the function for you once again;\n",
    "```python\n",
    "def get_all_ticker_price_data(ticker_list, start_dt, end_dt):\n",
    "```"
   ]
  },
  {
   "cell_type": "code",
   "execution_count": null,
   "metadata": {},
   "outputs": [],
   "source": [
    "# your code goes here"
   ]
  },
  {
   "cell_type": "markdown",
   "metadata": {},
   "source": [
    "## Exercise & Step 3) Execute the code\n",
    "Now in the cell below execute the functions you have written with the provided ```start``` and ```end``` from the provided code cell at the top of this. The end result should be a dictionary of DataFrames. Your dictionary should be called ```ticker_data```."
   ]
  },
  {
   "cell_type": "code",
   "execution_count": null,
   "metadata": {},
   "outputs": [],
   "source": [
    "# your code goes here"
   ]
  },
  {
   "cell_type": "markdown",
   "metadata": {},
   "source": [
    "Now with all the data we need to obtain a DataFrame of just the ```close``` of each DataFrame. We will use the provided code below."
   ]
  },
  {
   "cell_type": "code",
   "execution_count": null,
   "metadata": {},
   "outputs": [],
   "source": [
    "# provided code\n",
    "\n",
    "# create an empty list to store each Series\n",
    "ticker_close_prices = list()\n",
    "# iterate through our dictionary\n",
    "for ticker, ticker_df in ticker_data.items():\n",
    "    # get the close series\n",
    "    close_prices = ticker_df['close']\n",
    "    # change the name of the series\n",
    "    close_prices.name = ticker\n",
    "    # store the close_prices in the \n",
    "    # ticker_close_prices list\n",
    "    ticker_close_prices.append(close_prices)\n",
    "    \n",
    "# create a DataFrame of just the closing prices.\n",
    "close_price_df = pd.concat(ticker_close_prices, axis=1)\n",
    "close_price_df.head()"
   ]
  },
  {
   "cell_type": "markdown",
   "metadata": {},
   "source": [
    "## Apply - Columns\n",
    "Now lets use our ```close_price_df``` and the ```apply``` method and obtain the 20 day simple moving average to each column. First we will need to write a function to compute the simple moving average.\n",
    "\n",
    "#### Exercise\n",
    "Write a function called ```compute_sma``` which takes the argument ```price_series``` and ```window_len``` to compute the moving average of prices. Inside the function you will make use of the ```.rolling(window_len)``` method and chain that method with ```.mean()``` to compute a rolling mean. We will return the rolling mean."
   ]
  },
  {
   "cell_type": "code",
   "execution_count": null,
   "metadata": {},
   "outputs": [],
   "source": [
    "# your code goes here"
   ]
  },
  {
   "cell_type": "markdown",
   "metadata": {},
   "source": [
    "Now execute the code below to get a DataFrame of the simple moving averages"
   ]
  },
  {
   "cell_type": "code",
   "execution_count": null,
   "metadata": {
    "scrolled": true
   },
   "outputs": [],
   "source": [
    "# provided code\n",
    "sma_df = close_price_df.apply(lambda x: compute_sma(x, 20), axis=0)\n",
    "sma_df.head()"
   ]
  },
  {
   "cell_type": "markdown",
   "metadata": {},
   "source": [
    "By setting ```axis=0``` we are telling Pandas that we want to apply our function across each column. We could have accomplished this another way as well if we modified our ```compute_sma``` function. Remember that the focus should always be to write **GENERALIZED** functions so that they can be re-used. This is **NOT** an example of that, but I think it teaches some valuable lessons;\n",
    "```python\n",
    "def compute_sma(price_series):\n",
    "    sma = price_series.rolling(20).mean()\n",
    "    return sma\n",
    "\n",
    "sma_df = close_price_df.apply(compute_sma, axis=0)\n",
    "```\n",
    "Notice that in this example above we did not have to use a ```Lambda``` function and did not explicitly tell Pandas to pass each column to ```compute_sma``` by actually calling the method (meaning we didnt use ```compute_sma(X)``` we just put ```compute_sma```). These would give the same resulting DataFrame as the provided code except that our ```compute_sma``` function only works for a 20 period simple moving average. This is bad practice but technically still works.\n",
    "<br><br>\n",
    "## Apply - Rows\n",
    "To apply a function to just the rows we need to explicitly set ```axis=1``` since the default value is ```axis=0```.\n",
    "<br><br>\n",
    "#### Exercise\n",
    "Now we are going to write some functionality where each day we will check if the price is greater than the simple moving average computed. If that is True then we want to be Long the security for tomorrow (denoted by ```True``` as opposed to ```False```). This will get a little more complicated but don't fret. The first step is to write a function which called ```establish_position``` which will take the following arguments; ```sma_row``` and ```price_row```. This function will then find all the securities on this day where the price is greater than the simple moving average. The function should return a Pandas Series of ```True``` / ```False``` based on whether or not the criteria is met."
   ]
  },
  {
   "cell_type": "code",
   "execution_count": null,
   "metadata": {},
   "outputs": [],
   "source": [
    "# your code goes here"
   ]
  },
  {
   "cell_type": "markdown",
   "metadata": {},
   "source": [
    "Now we have the function to compute our positions, execute the code below to run the function and obtain a new object called ```positions_df```"
   ]
  },
  {
   "cell_type": "code",
   "execution_count": null,
   "metadata": {
    "scrolled": false
   },
   "outputs": [],
   "source": [
    "# provided code\n",
    "positions_df = sma_df.apply(lambda x: establish_position(x, close_price_df.loc[x.name]), axis=1)"
   ]
  },
  {
   "cell_type": "markdown",
   "metadata": {},
   "source": [
    "Theres only one problem though, we don't know the SMA value and Price for each day until the day is over. As a result, we would have to trade on all of this information with a 1 day lag. Execute the code below to shift and lag all of the positions by 1 day. We will mark the first day as having no position."
   ]
  },
  {
   "cell_type": "code",
   "execution_count": null,
   "metadata": {},
   "outputs": [],
   "source": [
    "# provided code\n",
    "positions_df_lag = positions_df.shift(1)\n",
    "positions_df_lag.iloc[0,:] = False"
   ]
  },
  {
   "cell_type": "markdown",
   "metadata": {},
   "source": [
    "I leave it as a separate exercise for the reader to compute what the cumulative return would be for this strategy across the securities being analyzed."
   ]
  }
 ],
 "metadata": {
  "kernelspec": {
   "display_name": "Python 3",
   "language": "python",
   "name": "python3"
  },
  "language_info": {
   "codemirror_mode": {
    "name": "ipython",
    "version": 3
   },
   "file_extension": ".py",
   "mimetype": "text/x-python",
   "name": "python",
   "nbconvert_exporter": "python",
   "pygments_lexer": "ipython3",
   "version": "3.6.4"
  }
 },
 "nbformat": 4,
 "nbformat_minor": 2
}
