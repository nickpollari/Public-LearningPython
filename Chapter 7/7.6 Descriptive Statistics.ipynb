{
 "cells": [
  {
   "cell_type": "markdown",
   "metadata": {},
   "source": [
    "# Descriptive Statistics\n",
    "Pandas offers convenient ways for you to obtain some simple elementary data from DataFrames and Series. In this section we will review a few of them. First begin by executing the code below to load some AAPL stock data."
   ]
  },
  {
   "cell_type": "code",
   "execution_count": null,
   "metadata": {},
   "outputs": [],
   "source": [
    "# provided code\n",
    "import pandas as pd\n",
    "import pandas_datareader.data as web\n",
    "import datetime as dt\n",
    "from IPython.display import display\n",
    "\n",
    "# start date\n",
    "start = dt.datetime(2017, 1, 1)\n",
    "# end date\n",
    "end = dt.datetime(2018, 12, 31)\n",
    "# AAPL df\n",
    "aapl_df = web.DataReader('AAPL', 'iex', start, end)\n",
    "display(aapl_df.head())"
   ]
  },
  {
   "cell_type": "markdown",
   "metadata": {},
   "source": [
    "## Mean\n",
    "How would we get the <font color='blueviolet';>**mean**</font> (average) value for each column? Pandas has a very convenient ```.mean(axis=0)``` method.\n",
    "<br><br>\n",
    "#### Exercise\n",
    "Using ```aapl_df``` call ```.mean()``` on it, and round the results to 2 decimal points using the ```.round(2)``` method after. Then display the results."
   ]
  },
  {
   "cell_type": "code",
   "execution_count": null,
   "metadata": {},
   "outputs": [],
   "source": [
    "# your code goes here"
   ]
  },
  {
   "cell_type": "markdown",
   "metadata": {},
   "source": [
    "Now we know the <font color='blueviolet';>**mean**</font> value of each column, but what if we wanted the <font color='blueviolet';>**mean**</font> value of ```open```, ```high```, ```low```, ```close``` for each day? We could drop the ```volume``` column and then ask Pandas for ```mean(axis=1)```. Execute the code below to see;"
   ]
  },
  {
   "cell_type": "code",
   "execution_count": null,
   "metadata": {},
   "outputs": [],
   "source": [
    "# provided code\n",
    "aapl_df.drop(['volume'],axis=1).mean(axis=1).head()"
   ]
  },
  {
   "cell_type": "markdown",
   "metadata": {},
   "source": [
    "## Median\n",
    "Similar to how <font color='blueviolet';>**mean**</font> was calculated, Pandas can quickly compute the <font color='orangered';>**median**</font> as well. The <font color='orangered';>**median**</font> can be computed using ```axis=0``` or ```axis=1``` as well. See the example code below;"
   ]
  },
  {
   "cell_type": "code",
   "execution_count": null,
   "metadata": {},
   "outputs": [],
   "source": [
    "# provided code\n",
    "aapl_df.median().round(2)"
   ]
  },
  {
   "cell_type": "markdown",
   "metadata": {},
   "source": [
    "## Minimum\n",
    "The <font color='goldenrod';>**min**</font> function works the same as both <font color='blueviolet';>**mean**</font> and <font color='orangered';>**median**</font>. \n",
    "<br><br>\n",
    "#### Exercise\n",
    "Use the <font color='goldenrod';>**min**</font> function to obtain the minimum values in the DataFrame. Don't forget to use rounding."
   ]
  },
  {
   "cell_type": "code",
   "execution_count": null,
   "metadata": {},
   "outputs": [],
   "source": [
    "# your code goes here"
   ]
  },
  {
   "cell_type": "markdown",
   "metadata": {},
   "source": [
    "## Max\n",
    "The <font color='darkcyan';>**max**</font> function works just like everything else as well. See the code below;"
   ]
  },
  {
   "cell_type": "code",
   "execution_count": null,
   "metadata": {},
   "outputs": [],
   "source": [
    "# provided code\n",
    "aapl_df.max().round(1)"
   ]
  },
  {
   "cell_type": "markdown",
   "metadata": {},
   "source": [
    "## Quantile\n",
    "Lets say we had a strategy where if the current price was above 90% of all historical prices in our timeseries we wanted to be Long because we expect the price to continue appreciating. How would we find out what price represents the 90% quantile? Pandas has the method <font color='hotpink';>**quantile**</font> which could tell us exactly what number is in the 90% bracket. The method <font color='hotpink';>**quantile**</font> takes in a float value as an argument representing what quantile we are looking for. See the code below;"
   ]
  },
  {
   "cell_type": "code",
   "execution_count": null,
   "metadata": {},
   "outputs": [],
   "source": [
    "# provided code\n",
    "aapl_df.quantile(0.9).round(1)"
   ]
  },
  {
   "cell_type": "markdown",
   "metadata": {},
   "source": [
    "#### Exercise\n",
    "Using Pandas and the <font color='hotpink';>**quantile**</font> method, compute the Conditional Value at Risk (CVaR) for the security AAPL. The CVaR is simply the average of all returns which are less than or equal to the 5% return distribution. This will require you to do the following;\n",
    "1. Obtain the daily return time series, excluding any NaN values<br><br>\n",
    "2. Obtain from the daily returns, the 5% value (which would represent daily VaR)<br><br>\n",
    "3. Select all the returns in the daily return time series which is less than or equal to the 5% critical value<br><br>\n",
    "4. Compute the mean value from the subset from #3 above"
   ]
  },
  {
   "cell_type": "code",
   "execution_count": null,
   "metadata": {},
   "outputs": [],
   "source": [
    "# your code goes here"
   ]
  },
  {
   "cell_type": "markdown",
   "metadata": {},
   "source": [
    "## Describe\n",
    "Now that you know how to get all of the values of descriptive statistics individually I'm happy to show you the lazy way of doing things, execute the code in the cell below;"
   ]
  },
  {
   "cell_type": "code",
   "execution_count": null,
   "metadata": {},
   "outputs": [],
   "source": [
    "# provided code\n",
    "aapl_df.describe().round(1)"
   ]
  }
 ],
 "metadata": {
  "kernelspec": {
   "display_name": "Python 3",
   "language": "python",
   "name": "python3"
  },
  "language_info": {
   "codemirror_mode": {
    "name": "ipython",
    "version": 3
   },
   "file_extension": ".py",
   "mimetype": "text/x-python",
   "name": "python",
   "nbconvert_exporter": "python",
   "pygments_lexer": "ipython3",
   "version": "3.6.4"
  }
 },
 "nbformat": 4,
 "nbformat_minor": 2
}
