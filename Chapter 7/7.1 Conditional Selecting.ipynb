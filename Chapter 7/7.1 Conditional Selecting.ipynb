{
 "cells": [
  {
   "cell_type": "markdown",
   "metadata": {},
   "source": [
    "# Conditional Selecting\n",
    "The next thing we will cover is extremely important when working with Pandas and represents a common area where users struggle and have trouble. We are going to review how to conditionally select data from a DataFrame or Series. Begin by executing the code in the cell below to load stock price data for SPY.\n",
    "\n",
    "We can conditionally select data using our standard operators we learned before (```<```, ```<=```, ```>```, ```>=```, ```==```, ```!=```) as well as ```in```."
   ]
  },
  {
   "cell_type": "code",
   "execution_count": null,
   "metadata": {},
   "outputs": [],
   "source": [
    "# provided code\n",
    "import pandas as pd\n",
    "import pandas_datareader.data as web\n",
    "import datetime as dt\n",
    "from IPython.display import display\n",
    "\n",
    "# start date\n",
    "start = dt.datetime(2017, 1, 1)\n",
    "# end date\n",
    "end = dt.datetime(2018, 12, 31)\n",
    "# AAPL df\n",
    "df = web.DataReader('SPY', 'iex', start, end).reset_index()\n",
    "df['date'] = pd.to_datetime(df['date'])\n",
    "display(df.head())"
   ]
  },
  {
   "cell_type": "markdown",
   "metadata": {},
   "source": [
    "## Conditional Select based on 1 Value\n",
    "Let us first begin by selecting the values in ```df``` where the ```close``` price is above ```250```. We do this similar to how we access a single column of a DataFrame.\n",
    "```python\n",
    "df_gt_250 = df[df['close'] > 250]\n",
    "```\n",
    "The DataFrame ```df_gt_250``` would contain only a subset of the dataset where the condition ```df['close'] > 250``` evaluates to ```True```.\n",
    "<br><br>\n",
    "#### Exercise\n",
    "Create a new DataFrame called ```df_small``` where you filter ```df``` for rows where the ```'close'``` is less than ```220```."
   ]
  },
  {
   "cell_type": "code",
   "execution_count": null,
   "metadata": {},
   "outputs": [],
   "source": [
    "# your code goes here\n",
    "df_small = df[df['close'] < 220]\n",
    "df_small"
   ]
  },
  {
   "cell_type": "markdown",
   "metadata": {},
   "source": [
    "Now if we wanted to select a certain date, lets say ```2017-01-30``` we could leverage the ```==``` operator. Look at the example below;"
   ]
  },
  {
   "cell_type": "code",
   "execution_count": null,
   "metadata": {},
   "outputs": [],
   "source": [
    "# provided code\n",
    "df_small[df_small['date'] == dt.datetime(2017,1,30)]"
   ]
  },
  {
   "cell_type": "markdown",
   "metadata": {},
   "source": [
    "## In like Flynn\n",
    "What if we had a few different values (in this case we will use different dates) that we wanted to select on. For instance, what if we wanted ```df_small``` for every row where ```date``` was equal to ```'2017-01-30'``` or ```'2017-02-01'``` or ```'2017-01-13'```? We can use the <font color='orangered';>**.isin**</font> method for this. This applies the built-in ```in``` operation to the entire column. See the example code below;"
   ]
  },
  {
   "cell_type": "code",
   "execution_count": null,
   "metadata": {},
   "outputs": [],
   "source": [
    "# provided code\n",
    "dates_i_care_about = [dt.datetime(2017,1,13), dt.datetime(2017,2,1), dt.datetime(2017,1,30)]\n",
    "df_small[df_small['date'].isin(dates_i_care_about)]"
   ]
  },
  {
   "cell_type": "markdown",
   "metadata": {},
   "source": [
    "## Conditional Select based on multiple criteria\n",
    "Now lets make things more complex using multiple criteria. If we were performing our conditional selecting using multiple criteria we would chain them together using one of the following; ```&```, ```|``` (this means ```or```). The structure would look something like this;\n",
    "```python\n",
    "df[(df[col1] > CRIT_1) & (df[col2] < CRIT_2)]\n",
    "```\n",
    "This would narrow down our ```df``` to only rows where ```df[col1] > CRIT_1``` is ```True``` **and** where ```df[col2] < CRIT_2``` is ```True```. Instead of ```and``` we could have used any of the other criteria mentioned before. \n",
    "\n",
    "Note the use of the parenthesis to separate the conditional statements. It is imperative that you only group in parenthesis the conditions you want tested. I will show you what I mean in the next example after this exercise.\n",
    "<br><br>\n",
    "#### Exercise\n",
    "Using conditional selection you should choose rows of ```df``` where ```'close'``` is less than ```218``` and where ```'high'``` is greater than ```218.5```."
   ]
  },
  {
   "cell_type": "code",
   "execution_count": null,
   "metadata": {},
   "outputs": [],
   "source": [
    "# your code goes here"
   ]
  },
  {
   "cell_type": "markdown",
   "metadata": {},
   "source": [
    "## Importance of Parenthesis\n",
    "If we tried to execute a conditional select for where ```'close'``` is less than 220 and ```'close'``` is greater than 218 without any parenthesis as seen below we would get a ```ValueError Exception``` and a ```TypeError Exception``` raised.\n",
    "```python\n",
    "df[df['close'] < 220 & df['close'] > 218]\n",
    "```\n",
    "But if we included the parenthesis as in the code below, everything would work fine.\n",
    "```python\n",
    "df[(df['close'] < 220) & (df['close'] > 218)]\n",
    "``` "
   ]
  }
 ],
 "metadata": {
  "kernelspec": {
   "display_name": "Python 3",
   "language": "python",
   "name": "python3"
  },
  "language_info": {
   "codemirror_mode": {
    "name": "ipython",
    "version": 3
   },
   "file_extension": ".py",
   "mimetype": "text/x-python",
   "name": "python",
   "nbconvert_exporter": "python",
   "pygments_lexer": "ipython3",
   "version": "3.6.4"
  }
 },
 "nbformat": 4,
 "nbformat_minor": 2
}
