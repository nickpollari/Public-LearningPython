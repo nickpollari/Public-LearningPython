{
 "cells": [
  {
   "cell_type": "markdown",
   "metadata": {},
   "source": [
    "# Concat and Join\n",
    "Sometimes we have data which might belong together but somehow ended up in two different DataFrames, or scattered across a DataFrame and a Series. Pandas has excellent documentation on how to leverage ```merge```, ```join```, and ```concat```. I find myself using ```join``` and ```concat``` the most so I will review both of these pandas methods. Execute the code below to generate some data for us to play with. The link below contains an excellent review of this content;\n",
    "\n",
    "Link: <a href=\"https://pandas.pydata.org/pandas-docs/stable/user_guide/merging.html\">Official Pandas Documentation</a>"
   ]
  },
  {
   "cell_type": "code",
   "execution_count": null,
   "metadata": {},
   "outputs": [],
   "source": [
    "# provided code\n",
    "import pandas as pd\n",
    "from IPython.display import display\n",
    "\n",
    "# create a dataframe of names\n",
    "names_df_1 = pd.DataFrame(columns=['First Name', 'Last Name'],\n",
    "                         data=[['Nick', 'Pollari'],\n",
    "                               ['Brooke', 'Golob'],\n",
    "                               ['Donald', 'Trump'],\n",
    "                               ['Hillary', 'Clinton']]\n",
    "                         )\n",
    "display('names_df_1')\n",
    "display(names_df_1)\n",
    "\n",
    "# create another dataframe of names\n",
    "names_df_2 = pd.DataFrame(columns=['First Name', 'Last Name'],\n",
    "                         data=[['Bernie', 'Sanders'],\n",
    "                               ['Will', 'Ferrell']\n",
    "                               ]\n",
    "                         )\n",
    "display('names_df_2')\n",
    "display(names_df_2)\n",
    "\n",
    "# create a series of Last Names tied to Trustworthyness\n",
    "trust = pd.Series(index=['Pollari', 'Golob', 'Trump', 'Clinton', 'Sanders', 'Ferrell'],\n",
    "                 data=[100, 100, 5, 5, 20, 50],\n",
    "                 name='trust_level')\n",
    "display('trust')\n",
    "display(trust)\n",
    "\n",
    "# create a series of Last Names tied to Net Worth (In $millions)\n",
    "net_worth = pd.Series(index=['Pollari', 'Golob', 'Trump', 'Clinton', 'Sanders', 'Ferrell', 'Gates'],\n",
    "                 data=[0, 0, 4000, 20, 1, 100, 100000],\n",
    "                 name='net_worth')\n",
    "display('net_worth')\n",
    "display(net_worth)"
   ]
  },
  {
   "cell_type": "markdown",
   "metadata": {},
   "source": [
    "## Concat\n",
    "Concatenation works by providing a list of DataFrames or Series, but not both. The syntax for ```concat``` is below;\n",
    "<br><br>\n",
    "<font size=4px>\n",
    "pandas.concat(objs, axis=0, join='outer', join_axes=None, ignore_index=False, keys=None, levels=None, names=None, verify_integrity=False, sort=None, copy=True)\n",
    "</font>\n",
    "<br>\n",
    "<font size=2px>\n",
    "Source: <a href=\"https://pandas.pydata.org/pandas-docs/stable/reference/api/pandas.concat.html\">Official Pandas Documentation</a>\n",
    "</font>\n",
    "<br><br>\n",
    "Theres a lot going on here so we are only going to focus on the ```objs``` and the ```axis``` arguments. Generally speaking you don't need to focus on the others as when you are considering those other arguments you are usually better off working with the ```.join()``` or ```.merge()``` methodologies.\n",
    "\n",
    "The ```objs``` in the function refers to the list of DataFrames or Series that you want to work with. By setting ```axis=0``` we are telling pandas to stack each dataset in ```objs``` vertically.\n",
    "<br><br>\n",
    "#### Exercise\n",
    "Call ```pd.concat()``` on a list containing ```names_df_1``` and ```names_df_2``` and name the resulting object ```names_df_final```. Then display the results of ```names_df_final``` in the cell."
   ]
  },
  {
   "cell_type": "code",
   "execution_count": null,
   "metadata": {},
   "outputs": [],
   "source": [
    "# your code goes here"
   ]
  },
  {
   "cell_type": "markdown",
   "metadata": {},
   "source": [
    "The first thing you should notice is that our index now has duplicate values in it, it is now ```[0, 1, 2, 3, 0, 1]```. Pandas has essentially appended ```names_df_2``` to the end of ```names_df_1```. It matches values based on their respective column name. To fix our ```index``` issue we need to call ```.reset_index(drop=True)``` on our ```names_df_final```. Execute the code in the cell below."
   ]
  },
  {
   "cell_type": "code",
   "execution_count": null,
   "metadata": {},
   "outputs": [],
   "source": [
    "# provided code\n",
    "names_df_final.reset_index(drop=True, inplace=True)\n",
    "names_df_final"
   ]
  },
  {
   "cell_type": "markdown",
   "metadata": {},
   "source": [
    "So now we have established that by calling ```pd.concat()``` and ```axis=0``` we are stacking things vertically. Lets try creating a DataFrame from the two Series ```trust``` and ```net_worth```. Since we basically have two columns and we want to concatenate them horizontally (**and along their index, this is very important to understand**) we will just need to set ```axis=1```.\n",
    "<br><br>\n",
    "#### Exercise\n",
    "Using pandas ```pd.concat()``` perform a concatenation between ```trust``` and ```net_worth``` using ```axis=1```. Set the final object to be ```trust_and_money_df```."
   ]
  },
  {
   "cell_type": "code",
   "execution_count": null,
   "metadata": {},
   "outputs": [],
   "source": [
    "# your code goes here"
   ]
  },
  {
   "cell_type": "markdown",
   "metadata": {},
   "source": [
    "Notice that ```Gates``` doesn't have a ```trust_level``` and so Pandas automatically puts a ```NaN``` in the corresponding cell for him.\n",
    "<br><br>\n",
    "## Join\n",
    "Now we are going to look at taking a DataFrame and a Series and combining them using the ```.join()``` method of the DataFrame.\n",
    "<br><br>\n",
    "<font size=4px>\n",
    "**\n",
    "DataFrame.join(other, on=None, how='left', lsuffix='', rsuffix='', sort=False)\n",
    "**\n",
    "</font>\n",
    "<br>\n",
    "<font size=2px>\n",
    "Source: <a href=\"https://pandas.pydata.org/pandas-docs/stable/reference/api/pandas.DataFrame.join.html\">Official Pandas Documentation</a>\n",
    "</font>\n",
    "<br><br>\n",
    "What is important to understand is that what we are doing is taking the ```index``` of the Series (in this case, the argument ```other```) and matching that to the values of the ```index``` of our DataFrame (if ```on=None```) or matching that to the values in a column(s) of our DataFrame (if ```on=[column_list]```).\n",
    "\n",
    "The first thing we are going to do is take ```net_worth``` and join it to ```names_df_final``` along the column ```'Last Name'```. This is possible because the ```index``` of ```net_worth``` is the last names in the ```'Last Name'``` column of ```names_df_final```. Execute the code below to see what I mean."
   ]
  },
  {
   "cell_type": "code",
   "execution_count": null,
   "metadata": {},
   "outputs": [],
   "source": [
    "# provided code\n",
    "names_df_final.join(net_worth, on=['Last Name'])"
   ]
  },
  {
   "cell_type": "markdown",
   "metadata": {},
   "source": [
    "If we change the ```how``` statement in the ```join``` to be ```'outer'``` instead of ```'left'``` we would include the element ```Gates``` from ```net_worth```. Execute the code below to see what I mean;"
   ]
  },
  {
   "cell_type": "code",
   "execution_count": null,
   "metadata": {},
   "outputs": [],
   "source": [
    "# provided code\n",
    "names_df_final.join(net_worth, on=['Last Name'], how='outer')"
   ]
  },
  {
   "cell_type": "markdown",
   "metadata": {},
   "source": [
    "You can use the image below to get a better understanding of how the join/merge/concat ```how``` argument works. \n",
    "\n",
    "<br>\n",
    "<img src=\"./img/join-types-merge-names.jpg\">\n",
    "<br>"
   ]
  }
 ],
 "metadata": {
  "kernelspec": {
   "display_name": "Python 3",
   "language": "python",
   "name": "python3"
  },
  "language_info": {
   "codemirror_mode": {
    "name": "ipython",
    "version": 3
   },
   "file_extension": ".py",
   "mimetype": "text/x-python",
   "name": "python",
   "nbconvert_exporter": "python",
   "pygments_lexer": "ipython3",
   "version": "3.6.4"
  }
 },
 "nbformat": 4,
 "nbformat_minor": 2
}
