{
 "cells": [
  {
   "cell_type": "markdown",
   "metadata": {},
   "source": [
    "# Getting Financial Data\n",
    "When you need some free financial data to play around with you can use the ```pandas_datareader``` package. The <a href=\"https://pydata.github.io/pandas-datareader/devel/\">full documentation can be found here</a> and it provides access to the following data sources; Quandl, World Bank, IEX, FRED, among many others. Below will be an example of how to fetch data for Ford from IEX."
   ]
  },
  {
   "cell_type": "code",
   "execution_count": 2,
   "metadata": {},
   "outputs": [],
   "source": [
    "# provided code\n",
    "import pandas_datareader.data as web\n",
    "import datetime as dt\n",
    "# start date\n",
    "start = dt.datetime(2016, 9, 1)\n",
    "# end date\n",
    "end = dt.datetime(2018, 9, 1)\n",
    "# fetch data\n",
    "ford_df = web.DataReader('F', 'iex', start, end)\n",
    "ford_df.head()"
   ]
  }
 ],
 "metadata": {
  "kernelspec": {
   "display_name": "Python 3",
   "language": "python",
   "name": "python3"
  },
  "language_info": {
   "codemirror_mode": {
    "name": "ipython",
    "version": 3
   },
   "file_extension": ".py",
   "mimetype": "text/x-python",
   "name": "python",
   "nbconvert_exporter": "python",
   "pygments_lexer": "ipython3",
   "version": "3.6.4"
  }
 },
 "nbformat": 4,
 "nbformat_minor": 2
}
