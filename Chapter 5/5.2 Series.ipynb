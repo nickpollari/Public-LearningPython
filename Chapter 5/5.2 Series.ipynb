{
 "cells": [
  {
   "cell_type": "markdown",
   "metadata": {},
   "source": [
    "# Pandas Series\n",
    "The Pandas <font color='gold'>**Series**</font> is what you can think of as a single dimension vector of data which might represent a row of an matrix or a column of a matrix. The <font color='gold'>**Series**</font> can represent either a row or column from a <font color='blueviolet'>**DataFrame**</font>. Execute the code in the cell below to construct the same <font color='blueviolet'>**DataFrame**</font> that we worked with previously and lets look at how we the <font color='gold'>**Series**</font> works."
   ]
  },
  {
   "cell_type": "code",
   "execution_count": 6,
   "metadata": {},
   "outputs": [],
   "source": [
    "# provided code\n",
    "import pandas as pd\n",
    "\n",
    "# a single list representing the index from the image above\n",
    "index = ['Student 1', 'Student 2', 'Student 3', 'Student 4']\n",
    "# a single list representing the columns from the image above\n",
    "columns = ['First Name', 'Color']\n",
    "# a list of a list representing the data\n",
    "data = [\n",
    "        ['Brian', 'Blue'],  # row index 0, both column values\n",
    "        ['Ellen', 'Green'],  # row index 1, both column values\n",
    "        ['Karen', 'Yellow'],  # row index 2, both column values\n",
    "        ['Bob', 'Red']  # row index 3, both column values\n",
    "        ]\n",
    "# now create a DataFrame\n",
    "df = pd.DataFrame(data=data, index=index, columns=columns)\n",
    "df"
   ]
  },
  {
   "cell_type": "markdown",
   "metadata": {},
   "source": [
    "## Series as a Column\n",
    "The first thing we look at doing is selecting a <font color='gold'>**Series**</font> to represent a column of our data. This will maintain the index that we were using before (the students). Run the code in the cell below."
   ]
  },
  {
   "cell_type": "code",
   "execution_count": 7,
   "metadata": {},
   "outputs": [],
   "source": [
    "# provided code\n",
    "colors = df['Color']\n",
    "colors"
   ]
  },
  {
   "cell_type": "markdown",
   "metadata": {},
   "source": [
    "The <font color='gold'>**Series**</font> object is given a ```name``` attribute which is the representation of the column header from the <font color='blueviolet'>**DataFrame**</font>. Our <font color='gold'>**Series**</font> object supports selecting and slicing similar to our <font color='blueviolet'>**DataFrame**</font> **EXCEPT** you can only select by row (since there are no columns, it only has 1 dimension). All of the examples below would evaluate to 'Green'.\n",
    "```python\n",
    "# obtain the 'Student 2' Color\n",
    "s2_color = colors['Student 2']\n",
    "s2_color = colors.loc['Student 2']\n",
    "s2_color = colors.iloc[1]\n",
    "```\n",
    "<br><br>\n",
    "## Series as a Row\n",
    "We can also select an entire Row as a <font color='gold'>**Series**</font> object, which would then convert the <font color='gold'>**Series**</font> object index into the column equivalent values. Execute the code in the cell below;"
   ]
  },
  {
   "cell_type": "code",
   "execution_count": 8,
   "metadata": {},
   "outputs": [],
   "source": [
    "# provided code\n",
    "s1 = df.loc['Student 1']\n",
    "s1"
   ]
  },
  {
   "cell_type": "markdown",
   "metadata": {},
   "source": [
    "You should notice that this time, instead of the students being the index of the <font color='gold'>**Series**</font> object, it is now the columns. The name of the <font color='gold'>**Series**</font> object is now ```'Student 1'``` instead of ```'Color'``` like it was before.\n",
    "\n",
    "## Setting Values\n",
    "Similar to how we set values for the <font color='blueviolet'>**DataFrame**</font> object, we can set values for our <font color='gold'>**Series**</font> object. \n",
    "<br><br>\n",
    "#### Exercise\n",
    "First select the ```'Student 1'``` <font color='gold'>**Series**</font> object and then set the ```'First Name'``` to a value of your choosing."
   ]
  },
  {
   "cell_type": "code",
   "execution_count": null,
   "metadata": {},
   "outputs": [],
   "source": [
    "# your code goes here"
   ]
  },
  {
   "cell_type": "markdown",
   "metadata": {},
   "source": [
    "## Adding new Rows\n",
    "The <font color='gold'>**Series**</font> object also supports dynamic addition of rows similar to how we did for the <font color='blueviolet'>**DataFrame**</font> object.\n",
    "<br><br>\n",
    "#### Exercise\n",
    "Add a new row to the <font color='gold'>**Series**</font> you created in the previous exercise. "
   ]
  },
  {
   "cell_type": "code",
   "execution_count": null,
   "metadata": {},
   "outputs": [],
   "source": [
    "# your code goes here"
   ]
  },
  {
   "cell_type": "markdown",
   "metadata": {},
   "source": [
    "## Removing Rows\n",
    "The <font color='gold'>**Series**</font> object also supports the method ```.drop()``` which we reviewed with the <font color='blueviolet'>**DataFrame**</font> object."
   ]
  }
 ],
 "metadata": {
  "kernelspec": {
   "display_name": "Python 3",
   "language": "python",
   "name": "python3"
  },
  "language_info": {
   "codemirror_mode": {
    "name": "ipython",
    "version": 3
   },
   "file_extension": ".py",
   "mimetype": "text/x-python",
   "name": "python",
   "nbconvert_exporter": "python",
   "pygments_lexer": "ipython3",
   "version": "3.6.4"
  }
 },
 "nbformat": 4,
 "nbformat_minor": 2
}
