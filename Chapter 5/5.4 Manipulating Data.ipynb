{
 "cells": [
  {
   "cell_type": "markdown",
   "metadata": {},
   "source": [
    "# Manipulating Data\n",
    "We will now review how to perform operations on our data which is contained in a pandas object. Execute the code in the cell below to get started. When performing operations on Pandas objects you need to either provide another object of the same dimensions **OR** you can use a scalar value, such as ```1.0```."
   ]
  },
  {
   "cell_type": "code",
   "execution_count": 2,
   "metadata": {},
   "outputs": [],
   "source": [
    "# provided code\n",
    "import pandas as pd\n",
    "df = pd.DataFrame(columns=['col1', 'col2'],\n",
    "                  index=['a', 'b', 'c'],\n",
    "                  data=[[5, 5], [3, 4], [0, 1]])\n",
    "df"
   ]
  },
  {
   "cell_type": "markdown",
   "metadata": {},
   "source": [
    "## Addition\n",
    "Pandas supports adding columns in a vectorized format by calling the method ```.add()```. In the example below we will add a new column to our <font color='blueviolet'>**DataFrame**</font>, it will be called ```'add'```, and it will represent the addition of ```col1``` and ```col2```."
   ]
  },
  {
   "cell_type": "code",
   "execution_count": null,
   "metadata": {},
   "outputs": [],
   "source": [
    "# provided code\n",
    "df['add'] = df['col1'].add(df['col2'])\n",
    "df"
   ]
  },
  {
   "cell_type": "markdown",
   "metadata": {},
   "source": [
    "## Addition with a Scalar\n",
    "As mentioned before, we can also just use a scalar value. in the example below we are adding ```1000.0``` to each number in the series ```col1```.\n",
    "```python\n",
    "df['add_scalar'] = df['col1'].add(1000.0)\n",
    "```"
   ]
  },
  {
   "cell_type": "markdown",
   "metadata": {},
   "source": [
    "## Subtraction\n",
    "We can perform subtraction as well, exactly the same as we did with the addition, using the method ```.subtract()```.\n",
    "\n",
    "<br>\n",
    "#### Exercise\n",
    "Using the ```.subtract()``` method, subtract ```col2``` from ```col1``` and put the results in a new column called ```sub```."
   ]
  },
  {
   "cell_type": "code",
   "execution_count": null,
   "metadata": {},
   "outputs": [],
   "source": [
    "# your code goes here"
   ]
  },
  {
   "cell_type": "markdown",
   "metadata": {},
   "source": [
    "## Multiplying\n",
    "Pandas also supports multiplication through the method ```.multiply()``` which works just as you would expect it to. Run the code in the cell below which multiplies ```col1``` and ```col2``` and puts the result in a new column of the <font color='blueviolet'>**DataFrame**</font>."
   ]
  },
  {
   "cell_type": "code",
   "execution_count": null,
   "metadata": {},
   "outputs": [],
   "source": [
    "# provided code\n",
    "df['multi'] = df['col1'].multiply(df['col2'])\n",
    "df"
   ]
  },
  {
   "cell_type": "markdown",
   "metadata": {},
   "source": [
    "## Divison\n",
    "Pandas supports division through the method ```.divide()``` and works the same as everything else.\n",
    "\n",
    "<br>\n",
    "#### Exercise\n",
    "Create a new column in the <font color='blueviolet'>**DataFrame**</font> called ```'div'``` which represents the division of ```col2``` by ```col1```."
   ]
  },
  {
   "cell_type": "code",
   "execution_count": null,
   "metadata": {},
   "outputs": [],
   "source": [
    "# your code goes here"
   ]
  },
  {
   "cell_type": "markdown",
   "metadata": {},
   "source": [
    "## Looping Revisted\n",
    "We have previously reviewed how to perform a simple loop using a <font color='blueviolet'>**DataFrame**</font> where we looped through each number of the index and selected the relevant row of that index value, and set new values to a new column in the <font color='blueviolet'>**DataFrame**</font>. Lets review how we can iterate through an actual <font color='blueviolet'>**DataFrame**</font> object.\n",
    "<br><br>\n",
    "### Looping through columns\n",
    "In the example below we will loop through each column name of the object ```df```. The variable ```col``` will be a string of each column name. Based on all the operations we just did, if you were to execute this code on our current ```df``` object then on each loop ```col``` would be equal to; ```col1```, ```col2```, ```add```, ```sub```, etc.\n",
    "```python\n",
    "for col in df:\n",
    "    # obtain the series\n",
    "    col_series = df[col]\n",
    "    # do something\n",
    "```\n",
    "<br>\n",
    "### Looping through rows\n",
    "If we need to loop through the rows of a <font color='blueviolet'>**DataFrame**</font> then we can use the ```.iterrows()``` method which will construct a List of Tuple for us to iterate through;\n",
    "```python\n",
    "for index, row in df.iterrows():\n",
    "    # do something\n",
    "```"
   ]
  }
 ],
 "metadata": {
  "kernelspec": {
   "display_name": "Python 3",
   "language": "python",
   "name": "python3"
  },
  "language_info": {
   "codemirror_mode": {
    "name": "ipython",
    "version": 3
   },
   "file_extension": ".py",
   "mimetype": "text/x-python",
   "name": "python",
   "nbconvert_exporter": "python",
   "pygments_lexer": "ipython3",
   "version": "3.6.4"
  }
 },
 "nbformat": 4,
 "nbformat_minor": 2
}
