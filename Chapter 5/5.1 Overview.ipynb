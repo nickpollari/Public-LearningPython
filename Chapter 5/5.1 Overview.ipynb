{
 "cells": [
  {
   "cell_type": "markdown",
   "metadata": {},
   "source": [
    "# 5.1 Pandas Overview\n",
    "\n",
    "Pandas is one of, if not the most, popular packages used in Python. Pandas is the primary tool for data manipulation and analysis with direct access to plotting through the Matplotlib package. Python with Pandas is used in a wide range of fields including academic and commercial domains including finance, economics, Statistics, analytics, etc. Pandas is built atop Numpy as well which keeps it fast for most operations. You can think of Pandas as a way to organize data similar to a spreadsheet, with columns and rows containing the data. The primary objects of the Pandas package are the <font color='crimson'>**DataFrame**</font> and the <font color='gold'>**Series**</font>.\n",
    "\n",
    "## Functionality\n",
    "- Create Matrix with column names and row indices\n",
    "- Perform standard statistical analysis\n",
    "- Plot time-series and categorical data\n",
    "\n",
    "## Common import methodology\n",
    "We always import pandas as ```pd``` as seen in the code below. Run the code in the cell below before continuing."
   ]
  },
  {
   "cell_type": "code",
   "execution_count": null,
   "metadata": {
    "collapsed": true
   },
   "outputs": [],
   "source": [
    "import pandas as pd"
   ]
  },
  {
   "cell_type": "markdown",
   "metadata": {},
   "source": []
  }
 ],
 "metadata": {
  "kernelspec": {
   "display_name": "Python 3",
   "language": "python",
   "name": "python3"
  },
  "language_info": {
   "codemirror_mode": {
    "name": "ipython",
    "version": 3
   },
   "file_extension": ".py",
   "mimetype": "text/x-python",
   "name": "python",
   "nbconvert_exporter": "python",
   "pygments_lexer": "ipython3",
   "version": "3.6.3"
  }
 },
 "nbformat": 4,
 "nbformat_minor": 2
}
