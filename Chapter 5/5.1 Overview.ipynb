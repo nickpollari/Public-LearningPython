{
 "cells": [
  {
   "cell_type": "markdown",
   "metadata": {},
   "source": [
    "# Pandas Overview\n",
    "\n",
    "Pandas is one of, if not the most, popular packages used in Python. Pandas is the primary tool for data manipulation and analysis with direct access to plotting through the Matplotlib package. Python with Pandas is used in a wide range of fields including academic and commercial domains including finance, economics, Statistics, analytics, etc. Pandas is built atop Numpy as well which keeps it fast for most operations. You can think of Pandas as a way to organize data similar to a spreadsheet, with columns and rows containing the data, where the rows and columns are identified with labels rather than just integer indices. The primary objects of the Pandas package are the <font color='blueviolet'>**DataFrame**</font> and the <font color='gold'>**Series**</font>.\n",
    "\n",
    "![title](img/excel.PNG)\n",
    "\n",
    "## Functionality\n",
    "- Create Matrix with column names and row indices\n",
    "- Perform standard statistical analysis\n",
    "- Plot time-series and categorical data\n",
    "\n",
    "## Common import methodology\n",
    "We always import pandas as ```pd``` as seen in the code below. Run the code in the cell below before continuing."
   ]
  },
  {
   "cell_type": "code",
   "execution_count": 2,
   "metadata": {},
   "outputs": [],
   "source": [
    "import pandas as pd"
   ]
  },
  {
   "cell_type": "markdown",
   "metadata": {},
   "source": [
    "## Constructing a DataFrame\n",
    "You can think of a <font color='blueviolet'>**DataFrame**</font> as an entire table. The <font color='blueviolet'>**DataFrame**</font> has columns with column and rows with names and integer indices in the background. The syntax for creating a <font color='blueviolet'>**DataFrame**</font> looks like so;\n",
    "<br><br>\n",
    "```class pandas.DataFrame(data=None, index=None, columns=None, dtype=None, copy=False)```\n",
    "<br><br>\n",
    "Where the ```data``` is any structure of data we want in the table, the ```index``` or ```columns``` are a List or Array of values, the ```dtype``` you can always keep as ```None``` and let Pandas infer the types, and the ```copy``` can be left as ```False``` unless you want to create a copy of the DataFrame. Lets create our first <font color='blueviolet'>**DataFrame**</font> below, execute the code in the cell below."
   ]
  },
  {
   "cell_type": "code",
   "execution_count": 12,
   "metadata": {},
   "outputs": [],
   "source": [
    "# provided code\n",
    "\n",
    "# a single list representing the index from the image above\n",
    "index = ['Student 1', 'Student 2', 'Student 3', 'Student 4']\n",
    "# a single list representing the columns from the image above\n",
    "columns = ['First Name', 'Color']\n",
    "# a list of a list representing the data\n",
    "data = [\n",
    "        ['Brian', 'Blue'],  # row index 0, both column values\n",
    "        ['Ellen', 'Green'],  # row index 1, both column values\n",
    "        ['Karen', 'Yellow'],  # row index 2, both column values\n",
    "        ['Bob', 'Red']  # row index 3, both column values\n",
    "        ]\n",
    "# now create a DataFrame\n",
    "df = pd.DataFrame(data=data, index=index, columns=columns)\n",
    "df"
   ]
  },
  {
   "cell_type": "markdown",
   "metadata": {},
   "source": [
    "## Slicing and Accessing a DataFrame\n",
    "Pandas is similar to how we have performed slicing and selecting in Numpy, since Numpy is the backend engine for Pandas. The key difference is that Pandas allows us to select items by a string (or object technically) where Numpy was only based around integer based selection. The general format for selecting is the same as we have seen with Numpy;\n",
    "<br><br>\n",
    "<center><font size='8px'>**[Row, Column]**</font></center>\n",
    "<br><br>\n",
    "We will use this format with the two methods that Pandas provides for accessing data;\n",
    "1. .loc\n",
    "2. .iloc\n",
    "<br><br>\n",
    "\n",
    "### .loc\n",
    "The ```.loc``` syntax allows for you to use **STRINGS** to access rows and columns of a <font color='blueviolet'>**DataFrame**</font>. You <font color='red'>**CANNOT**</font> use integer selecting with the ```.loc``` method. Based on our <font color='blueviolet'>**DataFrame**</font> that we have created previously, we will now select the row <font color='orangered'>**Student 3**</font> and the column <font color='hotpink'>**First Name**</font> to obtain the value ```Karen```.\n",
    "```python\n",
    "# this variable holds the string 'Karen'\n",
    "a_name = df.loc['Student 3', 'First Name']\n",
    "```\n",
    "<br><br>\n",
    "#### Selecting Multiple Rows\n",
    "Now we will select **FROM** <font color='orangered'>**Student 1**</font> through <font color='orangered'>**Student 3**</font> (inclusive), for the column <font color='hotpink'>**Color**</font>. The object that is returned from this would be a Pandas <font color='gold'>**Series**</font> which we will review in the next section.\n",
    "```python\n",
    "# store the created pandas series in this variable\n",
    "some_colors = df.loc['Student 1' : 'Student 3', 'Color']\n",
    "```\n",
    "Note the use of the ```:``` in the selection. Similar to what we did with Numpy, when we use the ```:``` we are saying that we want from X to Y (inclusive). Then we select just a single column, <font color='hotpink'>**Color**</font>.\n",
    "<br><br><br>\n",
    "We could have also selected the multiple rows by providing a List instead of using ```'Student 1' : 'Student 3'```, as seen in the code below;\n",
    "```python\n",
    "# store the created pandas series in this variable\n",
    "students = ['Student 1', 'Student 2', 'Student 3']\n",
    "some_colors = df.loc[students, 'Color']\n",
    "```\n",
    "<br><br>\n",
    "Another important piece of information is that the selected entires do not have to be continuous by design. If we wanted just <font color='orangered'>**Student 1**</font> and <font color='orangered'>**Student 3**</font> we could have done the following;\n",
    "```python\n",
    "# store the created pandas series in this variable\n",
    "students = ['Student 1', 'Student 3']\n",
    "some_colors = df.loc[students, 'Color']\n",
    "```\n",
    "<br><br>\n",
    "We can also leverage the ```:``` to select **ALL** values of either rows or columns. The examples below will select all rows and the <font color='hotpink'>**Color**</font> column.\n",
    "```python\n",
    "# all rows for the column `Color`\n",
    "all_colors_1 = df.loc[:, 'Color']\n",
    "all_colors_2 = df['Color']\n",
    "```\n",
    "<br><br>\n",
    "#### Selecting Multiple Columns\n",
    "The selection of columns is exactly the same as for multiple rows. In the example below we are selecting both columns but only the row <font color='orangered'>**Student 1**</font>.\n",
    "```python\n",
    "# only 'Student 1'\n",
    "select_1 = df.loc['Student 1', :]\n",
    "select_2 = df.loc['Student 1', ['First Name', 'Color']]\n",
    "select_3 = df.loc['Student 1', ]\n",
    "```\n",
    "<br><br>\n",
    "#### Selecting Multiple Rows and Columns\n",
    "This should be fairly intuitive by now, we can combine what we just reviewed to select multiple rows with multiple columns;\n",
    "```python\n",
    "df.loc[['Student 1', 'Student 2'], :]\n",
    "df.loc['Student 1' : 'Student 4', ['Color', 'First Name']]\n",
    "```\n",
    "<br><br>\n",
    "### .iloc\n",
    "The ```.iloc``` selecting is exactly the same as Numpy, it supports **ONLY** integer based selection. Since we have previously reviewed this in the Numpy overview we won't cover it again here beyond the couple of examples below;\n",
    "```python\n",
    "# select `Student 1`, all columns\n",
    "df.iloc[0,:]\n",
    "# select `Student 1` through `Student 3`, the column 'Color'\n",
    "df.iloc[0:2, -1]\n",
    "```\n",
    "<br><br>\n",
    "## Setting Values\n",
    "Some times we will need to set the values of a DataFrame. This can be done very similar to how we performed our slicing and selecting before. In the example below; we are changing the ```'Color'``` value for ```'Student 1'``` from  ```'Blue'``` to ```'Orange'```.\n",
    "```python\n",
    "df.loc['Student 1', 'Color'] = 'Orange'\n",
    "```\n",
    "<br>\n",
    "#### Exercise\n",
    "Using your intuition and what you have learned about slicing and selecting values, change the ```'Color'``` values for all of the students to any colors of your choosing."
   ]
  },
  {
   "cell_type": "code",
   "execution_count": null,
   "metadata": {},
   "outputs": [],
   "source": [
    "# your code goes here"
   ]
  },
  {
   "cell_type": "markdown",
   "metadata": {},
   "source": [
    "## Creating new a new Column for our DataFrame\n",
    "The <font color='blueviolet'>**DataFrame**</font> object supports dynamic adding and deleting of columns or rows which we will now explore. The first thing we are going to do is add a new column column called ```'Last Name'``` to our <font color='blueviolet'>**DataFrame**</font>. Below is an example of how your code should look;\n",
    "```python\n",
    "df.loc[:, 'Last Name'] = \n",
    "```\n",
    "<br>\n",
    "#### Exercise\n",
    "Using the code example above to add ```'Last Name'``` to our <font color='blueviolet'>**DataFrame**</font>, finish the code and assign the ```'Last Name'``` values of your choosing."
   ]
  },
  {
   "cell_type": "code",
   "execution_count": null,
   "metadata": {},
   "outputs": [],
   "source": [
    "# your code goes here"
   ]
  },
  {
   "cell_type": "markdown",
   "metadata": {},
   "source": [
    "Even though the ```'Last Name'``` column did not exist in our original <font color='blueviolet'>**DataFrame**</font>, it now exists with the values that you have chosen.\n",
    "## Creating a new Row for our DataFrame\n",
    "You can add a new row to a <font color='blueviolet'>**DataFrame**</font> in a dynamic way as well.\n",
    "<br><br>\n",
    "#### Exercise\n",
    "Using what you know about setting values of a <font color='blueviolet'>**DataFrame**</font>, add a new row for ```'Student 5'``` and assign the values you want for ```'First Name'```, ```'Color'```, ```'Last Name'```."
   ]
  },
  {
   "cell_type": "code",
   "execution_count": null,
   "metadata": {},
   "outputs": [],
   "source": [
    "# your code goes here"
   ]
  },
  {
   "cell_type": "markdown",
   "metadata": {},
   "source": [
    "## Creating new Rows and Columns Info\n",
    "You must pay attention to the dimensions of the data which you are setting for the <font color='blueviolet'>**DataFrame**</font>. Using our examples above, when we set a new column, the List provided needs to contain 4 elements in it to match the same size of the table. If you don't provide an object of the same dimensions you will receive a ```ValueError: Length of values does not match length of index``` error. The same thing goes for setting up a new row, now that our table has 3 columns we need to provide 3 values when we create our new row.\n",
    "<br><br>\n",
    "## Dropping Columns or Rows\n",
    "When you don't need a column or a row in a <font color='blueviolet'>**DataFrame**</font> we can remove it by using the ```.drop()``` method which has the following syntax;\n",
    "<br><br>\n",
    "```DataFrame.drop(labels=None, axis=0, index=None, columns=None, level=None, inplace=False, errors='raise')```\n",
    "<br><br>\n",
    "The ```labels``` is where we would provide a List of the items we want removed. If we set ```axis``` equal to ```0``` then we are indicating that we want to drop rows, if we set it to ```1``` then we are dropping columns. The only other argument which is important to understand is ```inplace``` which, when ```True```, will modify the object in its current place and not create a new variable, I will detail this shortly. We won't delve deeper into this method but if you would like to learn more you can find additional info at the <a href=\"https://pandas.pydata.org/pandas-docs/stable/reference/api/pandas.DataFrame.drop.html\">this link</a>. In the example below we will drop our newly created ```'Last Name'``` column from our <font color='blueviolet'>**DataFrame**</font>.\n",
    "```python\n",
    "# this will return None and will modify\n",
    "# df in its current place\n",
    "df.drop(['Last Name'], axis=1, inplace=True)\n",
    "# this will return a whole new DataFrame\n",
    "# and will also drop the column\n",
    "df2 = df.drop(['Last Name'], axis=1)\n",
    "```\n",
    "#### Exercise\n",
    "Drop the row ```'Student 5'``` from our <font color='blueviolet'>**DataFrame**</font>, but do it without creating a new object."
   ]
  },
  {
   "cell_type": "code",
   "execution_count": null,
   "metadata": {},
   "outputs": [],
   "source": [
    "# your code goes here"
   ]
  },
  {
   "cell_type": "markdown",
   "metadata": {},
   "source": [
    "## Looping and Setting Values\n",
    "Let us now look at combining two very important concepts which we have covered, using the For loop along with a <font color='blueviolet'>**DataFrame**</font> object. Don't worry if you don't understand a lot of the code below, we will discuss and review. Run the code in the cell below before we begin."
   ]
  },
  {
   "cell_type": "code",
   "execution_count": 14,
   "metadata": {},
   "outputs": [],
   "source": [
    "# provided code\n",
    "import numpy as np\n",
    "# set random seed\n",
    "np.random.seed(5)\n",
    "# create fake stock returns\n",
    "stock_returns = np.random.normal(scale=0.01,size=250)\n",
    "# create a dataframe\n",
    "stock_df = pd.DataFrame(columns=['daily_return'], data=stock_returns)\n",
    "# set the first date to have a return of 0\n",
    "stock_df.iloc[0,:] = 0\n",
    "# create a price path for the stock\n",
    "stock_df['price'] = stock_df['daily_return'].add(1.0).cumprod()\n",
    "# add a simple moving average\n",
    "stock_df['sma_20'] = stock_df['price'].rolling(20).mean()\n",
    "print(stock_df.head())"
   ]
  },
  {
   "cell_type": "markdown",
   "metadata": {},
   "source": [
    "## Viewing the top and bottom of a DataFrame\n",
    "The <font color='blueviolet'>**DataFrame**</font> and <font color='gold'>**Series**</font> both support two methods which can be used to quickly view a small subset of the data;\n",
    "<br>\n",
    "1. .head(N) - for viewing the top N entries, the default is 5\n",
    "2. .tail(N) - for viewing the bottom N entries, the default is 5"
   ]
  },
  {
   "cell_type": "markdown",
   "metadata": {},
   "source": [
    "## Back to looping and setting values\n",
    "Now we are going to loop through each day of our <font color='blueviolet'>**DataFrame**</font> and we are going to set the value of a new column called ```'position'``` which will be equal to ```1``` if the ```'price'``` is above the ```'sma_20'``` value, otherwise it will be ```0```.\n",
    "```python\n",
    "for index in range(len(stock_df)):\n",
    "    # get the previous row from the dataframe if its available\n",
    "    prev_index = index - 1\n",
    "    if prev_index < 0:\n",
    "        continue\n",
    "    \n",
    "    prev_row = stock_df.loc[prev_index]\n",
    "    # check if sma_20 is NaN, if it is, then skip\n",
    "    if prev_row['sma_20'].isnull():\n",
    "        continue\n",
    "    \n",
    "    # so now lets set our positions\n",
    "    if prev_row['price'] > prev_row['sma_20']:\n",
    "        stock_df.loc[index, 'position'] = 1.0\n",
    "    else:\n",
    "        stock_df.loc[index, 'position'] = 0.0\n",
    "\n",
    "# fill any remaining NaN values for\n",
    "# position with 0\n",
    "stock_df['position'] = stock_df['position'].fillna(0.0)\n",
    "```\n",
    "We know now when we should be long this security (indicated by a ```'position'``` of ```1```) and when we shouldn't."
   ]
  }
 ],
 "metadata": {
  "kernelspec": {
   "display_name": "Python 3",
   "language": "python",
   "name": "python3"
  },
  "language_info": {
   "codemirror_mode": {
    "name": "ipython",
    "version": 3
   },
   "file_extension": ".py",
   "mimetype": "text/x-python",
   "name": "python",
   "nbconvert_exporter": "python",
   "pygments_lexer": "ipython3",
   "version": "3.6.4"
  }
 },
 "nbformat": 4,
 "nbformat_minor": 2
}
