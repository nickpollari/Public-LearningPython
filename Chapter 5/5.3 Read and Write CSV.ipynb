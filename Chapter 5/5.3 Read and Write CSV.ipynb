{
 "cells": [
  {
   "cell_type": "markdown",
   "metadata": {},
   "source": [
    "# Read and Write CSV files\n",
    "One of the most common ways of obtaining data and providing that as input to Python is through CSV files. Pandas provides some very convenient ways of doing this. To begin, please execute the code in the cell below; "
   ]
  },
  {
   "cell_type": "code",
   "execution_count": null,
   "metadata": {},
   "outputs": [],
   "source": [
    "# provided code\n",
    "import pandas as pd"
   ]
  },
  {
   "cell_type": "markdown",
   "metadata": {},
   "source": [
    "## Read a CSV file\n",
    "Now we will load a file called ```'ES.csv'``` which can be found in the ```data``` folder of this directory. We will make use of the pandas method ```.read_csv()``` which can quickly load a CSV file and turn it right into a Pandas <font color='blueviolet'>**DataFrame**</font>. The full documentation for ```.read_csv()``` can <a href=\"https://pandas.pydata.org/pandas-docs/stable/reference/api/pandas.read_csv.html\">be found here</a>. "
   ]
  },
  {
   "cell_type": "code",
   "execution_count": null,
   "metadata": {},
   "outputs": [],
   "source": [
    "# provided code\n",
    "df = pd.read_csv('data\\ES1.csv', index_col=0)\n",
    "df.head()"
   ]
  },
  {
   "cell_type": "markdown",
   "metadata": {},
   "source": [
    "If the index of the <font color='blueviolet'>**DataFrame**</font> is a bunch of timestamps we could use the keyword argument ```parse_dates=True``` in our ```.read_csv()``` to turn them from strings into datetime objects automatically. Since that isn't the case this time, we will convert the column ```TimeStamp``` into actual datetime objects like so;\n",
    "```python\n",
    "df['TimeStamp'] = pd.to_datetime(df['TimeStamp'])\n",
    "```"
   ]
  },
  {
   "cell_type": "markdown",
   "metadata": {},
   "source": [
    "## Writing a CSV file\n",
    "Pandas also has a very convenient way to write a CSV file using the method ```to_csv()```. The full documentation for the method <a href=\"https://pandas.pydata.org/pandas-docs/stable/reference/api/pandas.read_csv.html\">can be found here</a> along with all of the possible arguments. Below is an example of how we would write the top 5 rows of the <font color='blueviolet'>**DataFrame**</font> to a CSV file;\n",
    "```python\n",
    "df_short = df.head(5)\n",
    "df_short.to_csv(\"data\\a_new_csv_file.csv\")\n",
    "```"
   ]
  }
 ],
 "metadata": {
  "kernelspec": {
   "display_name": "Python 3",
   "language": "python",
   "name": "python3"
  }
 },
 "nbformat": 4,
 "nbformat_minor": 2
}
